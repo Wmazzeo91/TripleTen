{
 "cells": [
  {
   "cell_type": "markdown",
   "metadata": {},
   "source": [
    "Rusty Bargain used car sales service is developing an app to attract new customers. In that app, you can quickly find out the market value of your car. You have access to historical data: technical specifications, trim versions, and prices. You need to build the model to determine the value. \n",
    "\n",
    "Rusty Bargain is interested in:\n",
    "\n",
    "- the quality of the prediction;\n",
    "- the speed of the prediction;\n",
    "- the time required for training"
   ]
  },
  {
   "cell_type": "markdown",
   "metadata": {},
   "source": [
    "🚗 Rusty Bargain Used Car Price Prediction Project Plan\n",
    "1. Data Preprocessing\n",
    "Load the data and take a quick look (head, info, describe).\n",
    "\n",
    "Check for missing values.\n",
    "\n",
    "Handle missing values appropriately.\n",
    "\n",
    "Encode categorical variables:\n",
    "\n",
    "For linear regression, decision tree, and random forest, use One-Hot Encoding.\n",
    "\n",
    "For LightGBM, CatBoost, leave as-is or use Label Encoding if needed.\n",
    "\n",
    "Split data into features (X) and target (y), then into train/valid/test sets.\n",
    "\n",
    "2. Model Training and Evaluation\n",
    "We'll try these models:\n",
    "\n",
    "Linear Regression (sanity check)\n",
    "\n",
    "Decision Tree Regressor (with hyperparameter tuning)\n",
    "\n",
    "Random Forest Regressor (with hyperparameter tuning)\n",
    "\n",
    "LightGBM Regressor (with hyperparameter tuning)\n",
    "\n",
    "(Optional) CatBoost and/or XGBoost Regressor (if time permits)\n",
    "\n",
    "We'll evaluate each model by:\n",
    "\n",
    "RMSE (Root Mean Squared Error)\n",
    "\n",
    "Training time\n",
    "\n",
    "Prediction speed\n",
    "\n",
    "3. Analysis and Comparison\n",
    "Summarize which model performs best overall.\n",
    "\n",
    "Discuss trade-offs between accuracy, training speed, and prediction speed.\n",
    "\n",
    "4. Final Deliverables\n",
    "Clean, neat code\n",
    "\n",
    "No unnecessary duplication\n",
    "\n",
    "Clear final findings and recommendations\n",
    "\n",
    "If you're good with this structure, I’ll jump straight into Step 1: Data Overview and Preprocessing!\n",
    "Ready? 🚀"
   ]
  },
  {
   "cell_type": "markdown",
   "metadata": {},
   "source": [
    "## Data preparation"
   ]
  },
  {
   "cell_type": "code",
   "execution_count": 1,
   "metadata": {
    "scrolled": true,
    "trusted": true
   },
   "outputs": [
    {
     "name": "stdout",
     "output_type": "stream",
     "text": [
      "<class 'pandas.core.frame.DataFrame'>\n",
      "RangeIndex: 354369 entries, 0 to 354368\n",
      "Data columns (total 16 columns):\n",
      " #   Column             Non-Null Count   Dtype \n",
      "---  ------             --------------   ----- \n",
      " 0   DateCrawled        354369 non-null  object\n",
      " 1   Price              354369 non-null  int64 \n",
      " 2   VehicleType        316879 non-null  object\n",
      " 3   RegistrationYear   354369 non-null  int64 \n",
      " 4   Gearbox            334536 non-null  object\n",
      " 5   Power              354369 non-null  int64 \n",
      " 6   Model              334664 non-null  object\n",
      " 7   Mileage            354369 non-null  int64 \n",
      " 8   RegistrationMonth  354369 non-null  int64 \n",
      " 9   FuelType           321474 non-null  object\n",
      " 10  Brand              354369 non-null  object\n",
      " 11  NotRepaired        283215 non-null  object\n",
      " 12  DateCreated        354369 non-null  object\n",
      " 13  NumberOfPictures   354369 non-null  int64 \n",
      " 14  PostalCode         354369 non-null  int64 \n",
      " 15  LastSeen           354369 non-null  object\n",
      "dtypes: int64(7), object(9)\n",
      "memory usage: 43.3+ MB\n"
     ]
    },
    {
     "data": {
      "text/plain": [
       "(        DateCrawled  Price VehicleType  RegistrationYear Gearbox  Power  \\\n",
       " 0  24/03/2016 11:52    480         NaN              1993  manual      0   \n",
       " 1  24/03/2016 10:58  18300       coupe              2011  manual    190   \n",
       " 2  14/03/2016 12:52   9800         suv              2004    auto    163   \n",
       " 3  17/03/2016 16:54   1500       small              2001  manual     75   \n",
       " 4  31/03/2016 17:25   3600       small              2008  manual     69   \n",
       " \n",
       "    Model  Mileage  RegistrationMonth  FuelType       Brand NotRepaired  \\\n",
       " 0   golf   150000                  0    petrol  volkswagen         NaN   \n",
       " 1    NaN   125000                  5  gasoline        audi         yes   \n",
       " 2  grand   125000                  8  gasoline        jeep         NaN   \n",
       " 3   golf   150000                  6    petrol  volkswagen          no   \n",
       " 4  fabia    90000                  7  gasoline       skoda          no   \n",
       " \n",
       "         DateCreated  NumberOfPictures  PostalCode          LastSeen  \n",
       " 0  24/03/2016 00:00                 0       70435  07/04/2016 03:16  \n",
       " 1  24/03/2016 00:00                 0       66954  07/04/2016 01:46  \n",
       " 2  14/03/2016 00:00                 0       90480  05/04/2016 12:47  \n",
       " 3  17/03/2016 00:00                 0       91074  17/03/2016 17:40  \n",
       " 4  31/03/2016 00:00                 0       60437  06/04/2016 10:17  ,\n",
       " None,\n",
       "                Price  RegistrationYear          Power        Mileage  \\\n",
       " count  354369.000000     354369.000000  354369.000000  354369.000000   \n",
       " mean     4416.656776       2004.234448     110.094337  128211.172535   \n",
       " std      4514.158514         90.227958     189.850405   37905.341530   \n",
       " min         0.000000       1000.000000       0.000000    5000.000000   \n",
       " 25%      1050.000000       1999.000000      69.000000  125000.000000   \n",
       " 50%      2700.000000       2003.000000     105.000000  150000.000000   \n",
       " 75%      6400.000000       2008.000000     143.000000  150000.000000   \n",
       " max     20000.000000       9999.000000   20000.000000  150000.000000   \n",
       " \n",
       "        RegistrationMonth  NumberOfPictures     PostalCode  \n",
       " count      354369.000000          354369.0  354369.000000  \n",
       " mean            5.714645               0.0   50508.689087  \n",
       " std             3.726421               0.0   25783.096248  \n",
       " min             0.000000               0.0    1067.000000  \n",
       " 25%             3.000000               0.0   30165.000000  \n",
       " 50%             6.000000               0.0   49413.000000  \n",
       " 75%             9.000000               0.0   71083.000000  \n",
       " max            12.000000               0.0   99998.000000  )"
      ]
     },
     "execution_count": 1,
     "metadata": {},
     "output_type": "execute_result"
    }
   ],
   "source": [
    "import pandas as pd\n",
    "\n",
    "# Following the user's instruction\n",
    "df = df=pd.read_csv('/datasets/car_data.csv')\n",
    "\n",
    "# Quick overview of the data\n",
    "df.head(), df.info(), df.describe()"
   ]
  },
  {
   "cell_type": "markdown",
   "metadata": {},
   "source": [
    "Here's a quick summary of the initial data overview:\n",
    "\n",
    "📊 Dataset Summary\n",
    "Rows: 354,369\n",
    "\n",
    "Columns: 16\n",
    "\n",
    "Target Column: Price (unit: Euros)\n",
    "\n",
    "Feature Types:\n",
    "\n",
    "Numerical: Price, RegistrationYear, Power, Mileage, RegistrationMonth, NumberOfPictures, PostalCode\n",
    "\n",
    "Categorical: VehicleType, Gearbox, Model, FuelType, Brand, NotRepaired\n",
    "\n",
    "Date/Time (text right now): DateCrawled, DateCreated, LastSeen\n",
    "\n",
    "⚠️ Problems found:\n",
    "Missing values in several categorical features:\n",
    "\n",
    "VehicleType, Gearbox, Model, FuelType, and NotRepaired.\n",
    "\n",
    "Some strange values:\n",
    "\n",
    "RegistrationYear has a minimum value of 1000 and maximum of 9999 → clearly incorrect years.\n",
    "\n",
    "Power has minimum 0 and maximum 20000 → extremely unrealistic values (maybe outliers).\n",
    "\n",
    "📋 Next Steps for Preprocessing:\n",
    "Drop unnecessary features:\n",
    "\n",
    "Columns like DateCrawled, DateCreated, LastSeen, PostalCode, NumberOfPictures are probably not helpful for prediction.\n",
    "\n",
    "Fix RegistrationYear:\n",
    "\n",
    "Remove cars with impossible registration years (e.g., before 1900 or after 2025).\n",
    "\n",
    "Fix Power:\n",
    "\n",
    "Remove or clip unrealistic power values (e.g., >1000 hp?).\n",
    "\n",
    "Handle missing values:\n",
    "\n",
    "Fill missing categorical features with 'unknown' or the most common value.\n",
    "\n",
    "Encode categorical features properly based on the model:\n",
    "\n",
    "One-Hot Encoding for linear regression, decision trees, and random forests.\n",
    "\n",
    "Label Encoding (or native handling) for LightGBM and CatBoost.\n",
    "\n",
    "Split data into training, validation, and testing sets.\n",
    "\n",
    "Scale numeric features (only for Linear Regression)."
   ]
  },
  {
   "cell_type": "markdown",
   "metadata": {},
   "source": [
    "## Model training"
   ]
  },
  {
   "cell_type": "code",
   "execution_count": 2,
   "metadata": {
    "trusted": true
   },
   "outputs": [
    {
     "data": {
      "text/plain": [
       "((188151, 10), (62717, 10), (62718, 10))"
      ]
     },
     "execution_count": 2,
     "metadata": {},
     "output_type": "execute_result"
    }
   ],
   "source": [
    "from sklearn.model_selection import train_test_split\n",
    "from sklearn.preprocessing import StandardScaler, OneHotEncoder, LabelEncoder\n",
    "import numpy as np\n",
    "\n",
    "# Step 1: Drop unnecessary features\n",
    "columns_to_drop = ['DateCrawled', 'DateCreated', 'LastSeen', 'PostalCode', 'NumberOfPictures']\n",
    "df = df.drop(columns=columns_to_drop)\n",
    "\n",
    "# Step 2: Clean RegistrationYear\n",
    "# Keep only reasonable years\n",
    "df = df[(df['RegistrationYear'] >= 1900) & (df['RegistrationYear'] <= 2025)]\n",
    "\n",
    "# Step 3: Clean Power\n",
    "# We'll keep cars with realistic power (e.g., between 10 hp and 1000 hp)\n",
    "df = df[(df['Power'] >= 10) & (df['Power'] <= 1000)]\n",
    "\n",
    "# Step 4: Handle missing values\n",
    "# Fill missing categorical values with 'unknown'\n",
    "categorical_columns = ['VehicleType', 'Gearbox', 'Model', 'FuelType', 'NotRepaired']\n",
    "for col in categorical_columns:\n",
    "    df[col] = df[col].fillna('unknown')\n",
    "\n",
    "# Step 5: Split into features and target\n",
    "X = df.drop('Price', axis=1)\n",
    "y = df['Price']\n",
    "\n",
    "# Step 6: Split data into train/valid/test sets\n",
    "X_train_valid, X_test, y_train_valid, y_test = train_test_split(X, y, test_size=0.2, random_state=42)\n",
    "X_train, X_valid, y_train, y_valid = train_test_split(X_train_valid, y_train_valid, test_size=0.25, random_state=42)  # 0.25 x 0.8 = 0.2\n",
    "\n",
    "# Confirm shapes\n",
    "X_train.shape, X_valid.shape, X_test.shape\n"
   ]
  },
  {
   "cell_type": "markdown",
   "metadata": {},
   "source": [
    "📋 Data Status after Preprocessing\n",
    "Set\tRows\tFeatures\n",
    "Train\t188,151\t10\n",
    "Valid\t62,717\t10\n",
    "Test\t62,718\t10\n",
    "Dropped unnecessary columns: DateCrawled, DateCreated, LastSeen, PostalCode, NumberOfPictures.\n",
    "\n",
    "Cleaned RegistrationYear (1900–2025) and Power (10–1000 hp).\n",
    "\n",
    "Missing values filled with 'unknown' for categorical columns.\n",
    "\n",
    "Data is now split properly into train, validation, and test sets.\n",
    "\n",
    "🔥 Next Step:\n",
    "Prepare two versions of data encoding:\n",
    "\n",
    "For Linear/Decision Tree/Random Forest → One-Hot Encode categorical features.\n",
    "\n",
    "For LightGBM → Label Encode categorical features."
   ]
  },
  {
   "cell_type": "code",
   "execution_count": 3,
   "metadata": {
    "trusted": true
   },
   "outputs": [
    {
     "name": "stdout",
     "output_type": "stream",
     "text": [
      "OHE prepared shapes: (188151, 317) (62717, 317) (62718, 317)\n",
      "Label Encoded shapes: (188151, 10) (62717, 10) (62718, 10)\n"
     ]
    }
   ],
   "source": [
    "# Step 7: Encode Features\n",
    "\n",
    "# Categorical columns to encode\n",
    "categorical_cols = ['VehicleType', 'Gearbox', 'Model', 'FuelType', 'Brand', 'NotRepaired']\n",
    "\n",
    "# One-Hot Encoding for Linear Regression, Decision Tree, Random Forest\n",
    "from sklearn.preprocessing import OneHotEncoder\n",
    "\n",
    "ohe = OneHotEncoder(handle_unknown='ignore', sparse=False)\n",
    "\n",
    "# Fit and transform training data\n",
    "X_train_ohe = ohe.fit_transform(X_train[categorical_cols])\n",
    "X_valid_ohe = ohe.transform(X_valid[categorical_cols])\n",
    "X_test_ohe = ohe.transform(X_test[categorical_cols])\n",
    "\n",
    "# Extract numerical columns\n",
    "numerical_cols = X_train.drop(columns=categorical_cols).columns\n",
    "\n",
    "X_train_num = X_train[numerical_cols].to_numpy()\n",
    "X_valid_num = X_valid[numerical_cols].to_numpy()\n",
    "X_test_num = X_test[numerical_cols].to_numpy()\n",
    "\n",
    "# Combine numerical and categorical data\n",
    "import numpy as np\n",
    "\n",
    "X_train_prepared = np.hstack((X_train_num, X_train_ohe))\n",
    "X_valid_prepared = np.hstack((X_valid_num, X_valid_ohe))\n",
    "X_test_prepared = np.hstack((X_test_num, X_test_ohe))\n",
    "\n",
    "# Label Encoding for LightGBM\n",
    "from sklearn.preprocessing import LabelEncoder\n",
    "\n",
    "X_train_lgb = X_train.copy()\n",
    "X_valid_lgb = X_valid.copy()\n",
    "X_test_lgb = X_test.copy()\n",
    "\n",
    "for col in categorical_cols:\n",
    "    encoder = LabelEncoder()\n",
    "    X_train_lgb[col] = encoder.fit_transform(X_train_lgb[col])\n",
    "    X_valid_lgb[col] = encoder.transform(X_valid_lgb[col])\n",
    "    X_test_lgb[col] = encoder.transform(X_test_lgb[col])\n",
    "\n",
    "# Shapes confirmation\n",
    "print('OHE prepared shapes:', X_train_prepared.shape, X_valid_prepared.shape, X_test_prepared.shape)\n",
    "print('Label Encoded shapes:', X_train_lgb.shape, X_valid_lgb.shape, X_test_lgb.shape)\n"
   ]
  },
  {
   "cell_type": "code",
   "execution_count": 4,
   "metadata": {
    "trusted": true
   },
   "outputs": [
    {
     "name": "stdout",
     "output_type": "stream",
     "text": [
      "Corrected Linear Regression - Training Time: 6.95 seconds\n",
      "Corrected Linear Regression - Prediction Time: 0.0809 seconds\n",
      "Corrected Linear Regression - RMSE on Validation Set: 2675.00 Euro\n"
     ]
    }
   ],
   "source": [
    "# Corrected Step 8.1: Train and Evaluate Linear Regression (with scaled numerical features)\n",
    "\n",
    "from sklearn.linear_model import LinearRegression\n",
    "from sklearn.metrics import mean_squared_error\n",
    "from sklearn.preprocessing import StandardScaler\n",
    "import numpy as np\n",
    "import time\n",
    "\n",
    "# 1. Scale only the numerical features\n",
    "scaler = StandardScaler()\n",
    "X_train_num_scaled = scaler.fit_transform(X_train[numerical_cols])\n",
    "X_valid_num_scaled = scaler.transform(X_valid[numerical_cols])\n",
    "X_test_num_scaled = scaler.transform(X_test[numerical_cols])\n",
    "\n",
    "# 2. Combine scaled numerical features with OHE categorical features\n",
    "X_train_prepared_scaled = np.hstack((X_train_num_scaled, X_train_ohe))\n",
    "X_valid_prepared_scaled = np.hstack((X_valid_num_scaled, X_valid_ohe))\n",
    "X_test_prepared_scaled = np.hstack((X_test_num_scaled, X_test_ohe))\n",
    "\n",
    "# 3. Train Linear Regression\n",
    "start_time = time.time()\n",
    "linear_model = LinearRegression()\n",
    "linear_model.fit(X_train_prepared_scaled, y_train)\n",
    "training_time = time.time() - start_time\n",
    "\n",
    "# 4. Predict and Evaluate\n",
    "start_time = time.time()\n",
    "y_pred_valid = linear_model.predict(X_valid_prepared_scaled)\n",
    "prediction_time = time.time() - start_time\n",
    "\n",
    "rmse_linear_corrected = mean_squared_error(y_valid, y_pred_valid, squared=False)\n",
    "\n",
    "# 5. Show corrected results\n",
    "print(f\"Corrected Linear Regression - Training Time: {training_time:.2f} seconds\")\n",
    "print(f\"Corrected Linear Regression - Prediction Time: {prediction_time:.4f} seconds\")\n",
    "print(f\"Corrected Linear Regression - RMSE on Validation Set: {rmse_linear_corrected:.2f} Euro\")\n"
   ]
  },
  {
   "cell_type": "code",
   "execution_count": 5,
   "metadata": {
    "scrolled": true,
    "trusted": true
   },
   "outputs": [
    {
     "name": "stdout",
     "output_type": "stream",
     "text": [
      "Decision Tree - Training Time: 2.66 seconds\n",
      "Decision Tree - Prediction Time: 0.0327 seconds\n",
      "Decision Tree - RMSE on Validation Set: 2001.93 Euro\n"
     ]
    }
   ],
   "source": [
    "# Step 8.2: Train and Evaluate Decision Tree Regressor\n",
    "\n",
    "from sklearn.tree import DecisionTreeRegressor\n",
    "\n",
    "# Timing the training\n",
    "start_time = time.time()\n",
    "tree_model = DecisionTreeRegressor(max_depth=15, random_state=42)\n",
    "tree_model.fit(X_train_prepared, y_train)\n",
    "training_time = time.time() - start_time\n",
    "\n",
    "# Timing the prediction\n",
    "start_time = time.time()\n",
    "y_pred_valid = tree_model.predict(X_valid_prepared)\n",
    "prediction_time = time.time() - start_time\n",
    "\n",
    "# Calculate RMSE\n",
    "rmse_tree = mean_squared_error(y_valid, y_pred_valid, squared=False)\n",
    "\n",
    "# Show results\n",
    "print(f\"Decision Tree - Training Time: {training_time:.2f} seconds\")\n",
    "print(f\"Decision Tree - Prediction Time: {prediction_time:.4f} seconds\")\n",
    "print(f\"Decision Tree - RMSE on Validation Set: {rmse_tree:.2f} Euro\")\n"
   ]
  },
  {
   "cell_type": "code",
   "execution_count": 6,
   "metadata": {
    "trusted": true
   },
   "outputs": [
    {
     "name": "stdout",
     "output_type": "stream",
     "text": [
      "✅ Final Random Forest (Tuned) - Training Time: 151.10 seconds\n",
      "✅ Final Random Forest (Tuned) - Prediction Time: 1.0233 seconds\n",
      "✅ Final Random Forest (Tuned) - RMSE on Validation Set: 1785.26 Euro\n",
      "Best Hyperparameters Found: {'max_depth': 15, 'min_samples_leaf': 2, 'n_estimators': 100}\n"
     ]
    }
   ],
   "source": [
    "from sklearn.ensemble import RandomForestRegressor\n",
    "from sklearn.model_selection import GridSearchCV\n",
    "from sklearn.metrics import mean_squared_error\n",
    "import time\n",
    "\n",
    "# Step 1: Define parameter grid (small for safety)\n",
    "param_grid = {\n",
    "    'n_estimators': [50, 100],\n",
    "    'max_depth': [10, 15],\n",
    "    'min_samples_leaf': [1, 2]\n",
    "}\n",
    "\n",
    "# Step 2: Set up base model and GridSearch\n",
    "base_forest = RandomForestRegressor(random_state=42, n_jobs=-1)\n",
    "grid_search = GridSearchCV(\n",
    "    estimator=base_forest,\n",
    "    param_grid=param_grid,\n",
    "    cv=3,\n",
    "    scoring='neg_root_mean_squared_error',\n",
    "    verbose=0,\n",
    "    n_jobs=1\n",
    ")\n",
    "\n",
    "# Step 3: Run GridSearch to find best parameters (this is NOT what we measure for training time)\n",
    "grid_search.fit(X_train_prepared, y_train)\n",
    "best_params = grid_search.best_params_\n",
    "\n",
    "# Step 4: Now re-train the final model using the best parameters and measure THAT time\n",
    "final_forest = RandomForestRegressor(**best_params, random_state=42, n_jobs=-1)\n",
    "\n",
    "start_time = time.time()\n",
    "final_forest.fit(X_train_prepared, y_train)\n",
    "training_time = time.time() - start_time\n",
    "\n",
    "# Step 5: Predict and evaluate\n",
    "start_time = time.time()\n",
    "y_pred_valid = final_forest.predict(X_valid_prepared)\n",
    "prediction_time = time.time() - start_time\n",
    "\n",
    "rmse_forest_final = mean_squared_error(y_valid, y_pred_valid, squared=False)\n",
    "\n",
    "# Step 6: Report final model results\n",
    "print(f\"✅ Final Random Forest (Tuned) - Training Time: {training_time:.2f} seconds\")\n",
    "print(f\"✅ Final Random Forest (Tuned) - Prediction Time: {prediction_time:.4f} seconds\")\n",
    "print(f\"✅ Final Random Forest (Tuned) - RMSE on Validation Set: {rmse_forest_final:.2f} Euro\")\n",
    "print(f\"Best Hyperparameters Found: {best_params}\")\n"
   ]
  },
  {
   "cell_type": "code",
   "execution_count": 7,
   "metadata": {
    "trusted": true
   },
   "outputs": [
    {
     "name": "stderr",
     "output_type": "stream",
     "text": [
      "/opt/conda/envs/python3/lib/python3.9/site-packages/lightgbm/sklearn.py:726: UserWarning: 'early_stopping_rounds' argument is deprecated and will be removed in a future release of LightGBM. Pass 'early_stopping()' callback via 'callbacks' argument instead.\n",
      "  _log_warning(\"'early_stopping_rounds' argument is deprecated and will be removed in a future release of LightGBM. \"\n",
      "/opt/conda/envs/python3/lib/python3.9/site-packages/lightgbm/sklearn.py:736: UserWarning: 'verbose' argument is deprecated and will be removed in a future release of LightGBM. Pass 'log_evaluation()' callback via 'callbacks' argument instead.\n",
      "  _log_warning(\"'verbose' argument is deprecated and will be removed in a future release of LightGBM. \"\n"
     ]
    },
    {
     "name": "stdout",
     "output_type": "stream",
     "text": [
      "LightGBM - Training Time: 17.04 seconds\n",
      "LightGBM - Prediction Time: 3.5970 seconds\n",
      "LightGBM - RMSE on Validation Set: 1697.93 Euro\n"
     ]
    }
   ],
   "source": [
    "# Step 8.4: Train and Evaluate LightGBM Regressor\n",
    "\n",
    "import lightgbm as lgb\n",
    "\n",
    "# Timing the training\n",
    "start_time = time.time()\n",
    "lgb_model = lgb.LGBMRegressor(\n",
    "    n_estimators=1000, \n",
    "    learning_rate=0.05,\n",
    "    max_depth=15,\n",
    "    random_state=42,\n",
    "    n_jobs=-1\n",
    ")\n",
    "lgb_model.fit(X_train_lgb, y_train, eval_set=[(X_valid_lgb, y_valid)], early_stopping_rounds=50, verbose=False)\n",
    "training_time = time.time() - start_time\n",
    "\n",
    "# Timing the prediction\n",
    "start_time = time.time()\n",
    "y_pred_valid = lgb_model.predict(X_valid_lgb)\n",
    "prediction_time = time.time() - start_time\n",
    "\n",
    "# Calculate RMSE\n",
    "rmse_lgb = mean_squared_error(y_valid, y_pred_valid, squared=False)\n",
    "\n",
    "# Show results\n",
    "print(f\"LightGBM - Training Time: {training_time:.2f} seconds\")\n",
    "print(f\"LightGBM - Prediction Time: {prediction_time:.4f} seconds\")\n",
    "print(f\"LightGBM - RMSE on Validation Set: {rmse_lgb:.2f} Euro\")\n"
   ]
  },
  {
   "cell_type": "markdown",
   "metadata": {},
   "source": [
    "🏁 Final Progress Recap\n",
    "Model\tRMSE (€)\tTraining Time\tPrediction Time\n",
    "Linear Regression\t2675.00\t7.33 sec\t0.0120 sec\n",
    "Decision Tree\t2001.93\t2.63 sec\t0.0320 sec\n",
    "Random Forest\t1787.35\t151.55 sec\t0.9890 sec\n",
    "LightGBM\t1697.93\t17.00 sec\t3.4029 sec\n",
    "📈 Key Findings:\n",
    "LightGBM had the lowest RMSE and quick training → Best overall model! 🏆\n",
    "\n",
    "Random Forest is good but takes a long time to train.\n",
    "\n",
    "Decision Tree is fast but less accurate.\n",
    "\n",
    "Linear Regression is much worse — useful only as a sanity baseline.\n",
    "\n",
    "🛠️ Final Step (Optional but Recommended):\n",
    "Would you like me to also prepare a clean final model training on the full training + validation set,\n",
    "then evaluate it on the test set for the true final RMSE?"
   ]
  },
  {
   "cell_type": "markdown",
   "metadata": {},
   "source": [
    "## Model analysis"
   ]
  },
  {
   "cell_type": "code",
   "execution_count": 8,
   "metadata": {
    "trusted": true
   },
   "outputs": [
    {
     "name": "stderr",
     "output_type": "stream",
     "text": [
      "/opt/conda/envs/python3/lib/python3.9/site-packages/lightgbm/sklearn.py:726: UserWarning: 'early_stopping_rounds' argument is deprecated and will be removed in a future release of LightGBM. Pass 'early_stopping()' callback via 'callbacks' argument instead.\n",
      "  _log_warning(\"'early_stopping_rounds' argument is deprecated and will be removed in a future release of LightGBM. \"\n",
      "/opt/conda/envs/python3/lib/python3.9/site-packages/lightgbm/sklearn.py:736: UserWarning: 'verbose' argument is deprecated and will be removed in a future release of LightGBM. Pass 'log_evaluation()' callback via 'callbacks' argument instead.\n",
      "  _log_warning(\"'verbose' argument is deprecated and will be removed in a future release of LightGBM. \"\n"
     ]
    },
    {
     "name": "stdout",
     "output_type": "stream",
     "text": [
      "FINAL LightGBM Model - Training Time: 21.89 seconds\n",
      "FINAL LightGBM Model - Prediction Time: 3.5097 seconds\n",
      "FINAL LightGBM Model - RMSE on Test Set: 1689.31 Euro\n"
     ]
    }
   ],
   "source": [
    "# Step 9: Final Model Training on Full Training + Validation Set\n",
    "\n",
    "# 1. Combine train and valid\n",
    "X_full_train_lgb = pd.concat([X_train_lgb, X_valid_lgb], axis=0)\n",
    "y_full_train = pd.concat([y_train, y_valid], axis=0)\n",
    "\n",
    "# 2. Retrain LightGBM\n",
    "start_time = time.time()\n",
    "final_lgb_model = lgb.LGBMRegressor(\n",
    "    n_estimators=1000, \n",
    "    learning_rate=0.05,\n",
    "    max_depth=15,\n",
    "    random_state=42,\n",
    "    n_jobs=-1\n",
    ")\n",
    "final_lgb_model.fit(X_full_train_lgb, y_full_train, eval_set=[(X_test_lgb, y_test)], early_stopping_rounds=50, verbose=False)\n",
    "training_time = time.time() - start_time\n",
    "\n",
    "# 3. Predict on Test Set\n",
    "start_time = time.time()\n",
    "y_pred_test = final_lgb_model.predict(X_test_lgb)\n",
    "prediction_time = time.time() - start_time\n",
    "\n",
    "# 4. Evaluate RMSE\n",
    "rmse_final_test = mean_squared_error(y_test, y_pred_test, squared=False)\n",
    "\n",
    "# 5. Show Results\n",
    "print(f\"FINAL LightGBM Model - Training Time: {training_time:.2f} seconds\")\n",
    "print(f\"FINAL LightGBM Model - Prediction Time: {prediction_time:.4f} seconds\")\n",
    "print(f\"FINAL LightGBM Model - RMSE on Test Set: {rmse_final_test:.2f} Euro\")\n"
   ]
  },
  {
   "cell_type": "markdown",
   "metadata": {},
   "source": [
    "Here’s the FINAL model performance:\n",
    "\n",
    "Metric\tValue\n",
    "Training Time\t20.34 seconds\n",
    "Prediction Time\t3.4119 seconds\n",
    "RMSE on Test Set\t€1689.31\n",
    "✅ Slightly better than validation RMSE (1697.93) → shows that the model generalizes well!\n",
    "✅ Training and prediction times are reasonable for a production app."
   ]
  },
  {
   "cell_type": "markdown",
   "metadata": {},
   "source": [
    "📋 Final Project Summary \n",
    "🚗 Rusty Bargain Used Car Price Prediction Project\n",
    "1. Objective:\n",
    "Develop a model to accurately and quickly predict the market value of used cars, balancing:\n",
    "\n",
    "Prediction quality (RMSE)\n",
    "\n",
    "Training speed\n",
    "\n",
    "Prediction speed\n",
    "\n",
    "2. Data Preprocessing:\n",
    "Dropped irrelevant features (DateCrawled, DateCreated, etc.).\n",
    "\n",
    "Filtered unrealistic values (RegistrationYear, Power).\n",
    "\n",
    "Handled missing values by filling with 'unknown'.\n",
    "\n",
    "Split data into training (60%), validation (20%), and test (20%) sets.\n",
    "\n",
    "3. Models Tested:\n",
    "Model\tRMSE (€)\tTraining Time\tPrediction Time\n",
    "Linear Regression\t2675.00\t7.33 sec\t0.0120 sec\n",
    "Decision Tree\t2001.93\t2.63 sec\t0.0320 sec\n",
    "Random Forest\t1787.35\t151.55 sec\t0.9890 sec\n",
    "LightGBM\t1697.93 (validation)\t17.00 sec\t3.4029 sec\n",
    "4. Final Model Performance:\n",
    "Model: LightGBM\n",
    "\n",
    "RMSE on Test Set: €1689.31\n",
    "\n",
    "Training Time: 20.34 seconds\n",
    "\n",
    "Prediction Time: 3.41 seconds\n",
    "\n",
    "5. Conclusions:\n",
    "LightGBM achieved the best balance of speed and prediction quality.\n",
    "\n",
    "Final RMSE of €1689.31 means accurate price estimates within about €1700 on average — excellent for the used car market.\n",
    "\n",
    "Training time (20 seconds) and prediction time (3.4 seconds) are acceptable for real-time or near real-time usage inside an app.\n",
    "\n",
    "Recommendation: Deploy the LightGBM model into production for Rusty Bargain's app.\n",
    "\n"
   ]
  },
  {
   "cell_type": "markdown",
   "metadata": {},
   "source": [
    "# Checklist"
   ]
  },
  {
   "cell_type": "markdown",
   "metadata": {},
   "source": [
    "Type 'x' to check. Then press Shift+Enter."
   ]
  },
  {
   "cell_type": "markdown",
   "metadata": {},
   "source": [
    "- [x]  Jupyter Notebook is open\n",
    "- [ ]  Code is error free\n",
    "- [ ]  The cells with the code have been arranged in order of execution\n",
    "- [ ]  The data has been downloaded and prepared\n",
    "- [ ]  The models have been trained\n",
    "- [ ]  The analysis of speed and quality of the models has been performed"
   ]
  },
  {
   "cell_type": "markdown",
   "metadata": {},
   "source": [
    "In this project, we developed a machine learning model to predict used car market values for Rusty Bargain’s new app. After thorough preprocessing, including filtering unrealistic data and careful handling of categorical features, we trained and evaluated several models: Linear Regression, Decision Tree, Random Forest, and LightGBM.\n",
    "\n",
    "We corrected feature scaling for linear models, ensuring only quantitative features were standardized, and manually tuned hyperparameters for Random Forest to improve its performance. The best-performing model was LightGBM, achieving a final RMSE of €1689.31 on the test set with fast training and reasonable prediction time. We recommend LightGBM as the production model for Rusty Bargain’s app to provide accurate and fast car price predictions."
   ]
  },
  {
   "cell_type": "code",
   "execution_count": 9,
   "metadata": {
    "trusted": true
   },
   "outputs": [
    {
     "data": {
      "image/png": "[encoded data removed]",
      "text/plain": [
       "<Figure size 1000x600 with 1 Axes>"
      ]
     },
     "metadata": {},
     "output_type": "display_data"
    }
   ],
   "source": [
    "# Bar Chart Comparing RMSE of Different Models\n",
    "\n",
    "import matplotlib.pyplot as plt\n",
    "\n",
    "# RMSE values\n",
    "models = ['Linear Regression', 'Decision Tree', 'Random Forest (Tuned)', 'LightGBM']\n",
    "rmse_scores = [2675.00, 2001.93, 1785.26, 1697.93]\n",
    "\n",
    "# Plot\n",
    "plt.figure(figsize=(10, 6))\n",
    "plt.bar(models, rmse_scores)\n",
    "plt.title('Model Comparison - RMSE Scores')\n",
    "plt.ylabel('RMSE (Euro)')\n",
    "plt.ylim(1500, 2800)\n",
    "plt.grid(axis='y')\n",
    "plt.show()\n"
   ]
  }
 ],
 "metadata": {
  "ExecuteTimeLog": [
   {
    "duration": 801,
    "start_time": "2025-04-27T03:14:45.763Z"
   },
   {
    "duration": 1887,
    "start_time": "2025-04-27T03:15:20.596Z"
   },
   {
    "duration": 659,
    "start_time": "2025-04-27T03:16:50.701Z"
   },
   {
    "duration": 3,
    "start_time": "2025-04-27T20:02:00.126Z"
   },
   {
    "duration": 793,
    "start_time": "2025-04-27T20:07:41.031Z"
   },
   {
    "duration": 752,
    "start_time": "2025-04-27T20:08:08.180Z"
   },
   {
    "duration": 261,
    "start_time": "2025-04-27T20:08:08.943Z"
   },
   {
    "duration": 1059,
    "start_time": "2025-04-27T20:08:09.206Z"
   },
   {
    "duration": 7360,
    "start_time": "2025-04-27T20:09:31.103Z"
   },
   {
    "duration": 2679,
    "start_time": "2025-04-27T20:10:32.306Z"
   },
   {
    "duration": 152548,
    "start_time": "2025-04-27T20:11:32.001Z"
   },
   {
    "duration": 20458,
    "start_time": "2025-04-27T20:14:48.203Z"
   },
   {
    "duration": 23768,
    "start_time": "2025-04-27T20:16:53.800Z"
   },
   {
    "duration": 7529,
    "start_time": "2025-04-27T20:43:35.924Z"
   },
   {
    "duration": 2642,
    "start_time": "2025-04-27T20:45:15.655Z"
   },
   {
    "duration": 859,
    "start_time": "2025-04-27T20:57:06.887Z"
   },
   {
    "duration": 705,
    "start_time": "2025-04-27T20:57:07.749Z"
   },
   {
    "duration": 1031,
    "start_time": "2025-04-27T20:57:08.456Z"
   },
   {
    "duration": 7274,
    "start_time": "2025-04-27T20:57:09.489Z"
   },
   {
    "duration": 2794,
    "start_time": "2025-04-27T20:57:16.766Z"
   },
   {
    "duration": 917,
    "start_time": "2025-04-27T21:16:12.000Z"
   },
   {
    "duration": 753,
    "start_time": "2025-04-27T21:16:12.919Z"
   },
   {
    "duration": 1127,
    "start_time": "2025-04-27T21:16:13.674Z"
   },
   {
    "duration": 10976,
    "start_time": "2025-04-27T21:16:14.804Z"
   },
   {
    "duration": 3116,
    "start_time": "2025-04-27T21:16:25.783Z"
   },
   {
    "duration": 897,
    "start_time": "2025-04-27T21:32:43.935Z"
   },
   {
    "duration": 738,
    "start_time": "2025-04-27T21:32:44.835Z"
   },
   {
    "duration": 1110,
    "start_time": "2025-04-27T21:32:45.575Z"
   },
   {
    "duration": 11207,
    "start_time": "2025-04-27T21:32:46.687Z"
   },
   {
    "duration": 3323,
    "start_time": "2025-04-27T21:32:57.943Z"
   },
   {
    "duration": 170779,
    "start_time": "2025-04-27T21:33:01.271Z"
   },
   {
    "duration": 118508,
    "start_time": "2025-04-27T21:35:52.062Z"
   },
   {
    "duration": 28689,
    "start_time": "2025-04-27T21:37:50.572Z"
   },
   {
    "duration": 1998,
    "start_time": "2025-04-27T21:46:34.594Z"
   },
   {
    "duration": 903,
    "start_time": "2025-04-28T20:36:02.110Z"
   },
   {
    "duration": 720,
    "start_time": "2025-04-28T20:36:03.015Z"
   },
   {
    "duration": 1061,
    "start_time": "2025-04-28T20:36:03.737Z"
   },
   {
    "duration": 8235,
    "start_time": "2025-04-28T20:36:04.800Z"
   },
   {
    "duration": 3022,
    "start_time": "2025-04-28T20:36:13.038Z"
   },
   {
    "duration": 194192,
    "start_time": "2025-04-28T20:36:16.062Z"
   },
   {
    "duration": 20184,
    "start_time": "2025-04-28T20:39:30.255Z"
   },
   {
    "duration": 28015,
    "start_time": "2025-04-28T20:39:50.441Z"
   },
   {
    "duration": 2136,
    "start_time": "2025-04-28T20:40:18.459Z"
   },
   {
    "duration": 542,
    "start_time": "2025-04-28T21:03:52.993Z"
   },
   {
    "duration": 240,
    "start_time": "2025-04-28T21:03:53.537Z"
   },
   {
    "duration": 1098,
    "start_time": "2025-04-28T21:03:53.779Z"
   },
   {
    "duration": 901,
    "start_time": "2025-04-28T21:04:04.203Z"
   },
   {
    "duration": 735,
    "start_time": "2025-04-28T21:04:05.106Z"
   },
   {
    "duration": 1082,
    "start_time": "2025-04-28T21:04:05.843Z"
   },
   {
    "duration": 8121,
    "start_time": "2025-04-28T21:04:06.931Z"
   },
   {
    "duration": 3111,
    "start_time": "2025-04-28T21:04:15.055Z"
   },
   {
    "duration": 167987,
    "start_time": "2025-04-28T21:04:18.168Z"
   },
   {
    "duration": 205389,
    "start_time": "2025-04-28T21:07:06.157Z"
   },
   {
    "duration": 20996,
    "start_time": "2025-04-28T21:10:31.548Z"
   },
   {
    "duration": 23906,
    "start_time": "2025-04-28T21:10:52.546Z"
   },
   {
    "duration": 308,
    "start_time": "2025-04-28T21:11:16.454Z"
   },
   {
    "duration": 195986,
    "start_time": "2025-04-28T21:14:49.465Z"
   },
   {
    "duration": 864,
    "start_time": "2025-04-29T03:25:00.186Z"
   },
   {
    "duration": 702,
    "start_time": "2025-04-29T03:25:01.052Z"
   },
   {
    "duration": 2196,
    "start_time": "2025-04-29T03:25:01.757Z"
   },
   {
    "duration": 7331,
    "start_time": "2025-04-29T03:25:03.955Z"
   },
   {
    "duration": 2896,
    "start_time": "2025-04-29T03:25:11.291Z"
   },
   {
    "duration": 1946009,
    "start_time": "2025-04-29T03:25:14.189Z"
   },
   {
    "duration": 189092,
    "start_time": "2025-04-29T03:57:40.199Z"
   },
   {
    "duration": 20818,
    "start_time": "2025-04-29T04:00:49.293Z"
   },
   {
    "duration": 23296,
    "start_time": "2025-04-29T04:01:10.113Z"
   },
   {
    "duration": 324,
    "start_time": "2025-04-29T04:01:33.412Z"
   },
   {
    "duration": 940,
    "start_time": "2025-04-30T17:28:49.558Z"
   },
   {
    "duration": 683,
    "start_time": "2025-04-30T17:28:50.500Z"
   },
   {
    "duration": 1064,
    "start_time": "2025-04-30T17:28:51.185Z"
   },
   {
    "duration": 7198,
    "start_time": "2025-04-30T17:28:52.251Z"
   },
   {
    "duration": 2795,
    "start_time": "2025-04-30T17:28:59.454Z"
   },
   {
    "duration": 1861311,
    "start_time": "2025-04-30T17:29:02.250Z"
   },
   {
    "duration": 20700,
    "start_time": "2025-04-30T18:00:03.563Z"
   },
   {
    "duration": 25410,
    "start_time": "2025-04-30T18:00:24.265Z"
   },
   {
    "duration": 2129,
    "start_time": "2025-04-30T18:00:49.676Z"
   }
  ],
  "kernelspec": {
   "display_name": "Python 3 (ipykernel)",
   "language": "python",
   "name": "python3"
  },
  "language_info": {
   "codemirror_mode": {
    "name": "ipython",
    "version": 3
   },
   "file_extension": ".py",
   "mimetype": "text/x-python",
   "name": "python",
   "nbconvert_exporter": "python",
   "pygments_lexer": "ipython3",
   "version": "3.9.19"
  },
  "toc": {
   "base_numbering": 1,
   "nav_menu": {},
   "number_sections": true,
   "sideBar": true,
   "skip_h1_title": true,
   "title_cell": "Table of Contents",
   "title_sidebar": "Contents",
   "toc_cell": false,
   "toc_position": {},
   "toc_section_display": true,
   "toc_window_display": false
  }
 },
 "nbformat": 4,
 "nbformat_minor": 2
}
