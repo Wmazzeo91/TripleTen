{
 "cells": [
  {
   "cell_type": "markdown",
   "metadata": {},
   "source": [
    "# Which one is a better plan?\n",
    "\n",
    "You work as an analyst for the telecom operator Megaline. The company offers its clients two prepaid plans, Surf and Ultimate. The commercial department wants to know which of the plans brings in more revenue in order to adjust the advertising budget.\n",
    "\n",
    "You are going to carry out a preliminary analysis of the plans based on a relatively small client selection. You'll have the data on 500 Megaline clients: who the clients are, where they're from, which plan they use, and the number of calls they made and text messages they sent in 2018. Your job is to analyze the clients' behavior and determine which prepaid plan brings in more revenue."
   ]
  },
  {
   "cell_type": "markdown",
   "metadata": {},
   "source": [
    "## Initialization"
   ]
  },
  {
   "cell_type": "code",
   "execution_count": 1,
   "metadata": {
    "trusted": false
   },
   "outputs": [],
   "source": [
    "# Loading all the libraries\n",
    "import pandas as pd\n",
    "df_calls = pd.read_csv('/datasets/megaline_calls.csv')\n",
    "df_internet = pd.read_csv('/datasets/megaline_internet.csv')\n",
    "df_messages = pd.read_csv('/datasets/megaline_messages.csv')\n",
    "df_plans = pd.read_csv('/datasets/megaline_plans.csv')\n",
    "df_users = pd.read_csv('/datasets/megaline_users.csv')\n"
   ]
  },
  {
   "cell_type": "markdown",
   "metadata": {},
   "source": [
    "## Load data"
   ]
  },
  {
   "cell_type": "code",
   "execution_count": 2,
   "metadata": {
    "trusted": false
   },
   "outputs": [
    {
     "data": {
      "text/html": [
       "<div>\n",
       "<style scoped>\n",
       "    .dataframe tbody tr th:only-of-type {\n",
       "        vertical-align: middle;\n",
       "    }\n",
       "\n",
       "    .dataframe tbody tr th {\n",
       "        vertical-align: top;\n",
       "    }\n",
       "\n",
       "    .dataframe thead th {\n",
       "        text-align: right;\n",
       "    }\n",
       "</style>\n",
       "<table border=\"1\" class=\"dataframe\">\n",
       "  <thead>\n",
       "    <tr style=\"text-align: right;\">\n",
       "      <th></th>\n",
       "      <th>id</th>\n",
       "      <th>user_id</th>\n",
       "      <th>call_date</th>\n",
       "      <th>duration</th>\n",
       "    </tr>\n",
       "  </thead>\n",
       "  <tbody>\n",
       "    <tr>\n",
       "      <th>0</th>\n",
       "      <td>1000_93</td>\n",
       "      <td>1000</td>\n",
       "      <td>2018-12-27</td>\n",
       "      <td>8.52</td>\n",
       "    </tr>\n",
       "    <tr>\n",
       "      <th>1</th>\n",
       "      <td>1000_145</td>\n",
       "      <td>1000</td>\n",
       "      <td>2018-12-27</td>\n",
       "      <td>13.66</td>\n",
       "    </tr>\n",
       "    <tr>\n",
       "      <th>2</th>\n",
       "      <td>1000_247</td>\n",
       "      <td>1000</td>\n",
       "      <td>2018-12-27</td>\n",
       "      <td>14.48</td>\n",
       "    </tr>\n",
       "    <tr>\n",
       "      <th>3</th>\n",
       "      <td>1000_309</td>\n",
       "      <td>1000</td>\n",
       "      <td>2018-12-28</td>\n",
       "      <td>5.76</td>\n",
       "    </tr>\n",
       "    <tr>\n",
       "      <th>4</th>\n",
       "      <td>1000_380</td>\n",
       "      <td>1000</td>\n",
       "      <td>2018-12-30</td>\n",
       "      <td>4.22</td>\n",
       "    </tr>\n",
       "    <tr>\n",
       "      <th>...</th>\n",
       "      <td>...</td>\n",
       "      <td>...</td>\n",
       "      <td>...</td>\n",
       "      <td>...</td>\n",
       "    </tr>\n",
       "    <tr>\n",
       "      <th>137730</th>\n",
       "      <td>1499_199</td>\n",
       "      <td>1499</td>\n",
       "      <td>2018-11-21</td>\n",
       "      <td>8.72</td>\n",
       "    </tr>\n",
       "    <tr>\n",
       "      <th>137731</th>\n",
       "      <td>1499_200</td>\n",
       "      <td>1499</td>\n",
       "      <td>2018-10-20</td>\n",
       "      <td>10.89</td>\n",
       "    </tr>\n",
       "    <tr>\n",
       "      <th>137732</th>\n",
       "      <td>1499_201</td>\n",
       "      <td>1499</td>\n",
       "      <td>2018-09-21</td>\n",
       "      <td>8.12</td>\n",
       "    </tr>\n",
       "    <tr>\n",
       "      <th>137733</th>\n",
       "      <td>1499_202</td>\n",
       "      <td>1499</td>\n",
       "      <td>2018-10-10</td>\n",
       "      <td>0.37</td>\n",
       "    </tr>\n",
       "    <tr>\n",
       "      <th>137734</th>\n",
       "      <td>1499_203</td>\n",
       "      <td>1499</td>\n",
       "      <td>2018-12-29</td>\n",
       "      <td>13.86</td>\n",
       "    </tr>\n",
       "  </tbody>\n",
       "</table>\n",
       "<p>137735 rows × 4 columns</p>\n",
       "</div>"
      ],
      "text/plain": [
       "              id  user_id   call_date  duration\n",
       "0        1000_93     1000  2018-12-27      8.52\n",
       "1       1000_145     1000  2018-12-27     13.66\n",
       "2       1000_247     1000  2018-12-27     14.48\n",
       "3       1000_309     1000  2018-12-28      5.76\n",
       "4       1000_380     1000  2018-12-30      4.22\n",
       "...          ...      ...         ...       ...\n",
       "137730  1499_199     1499  2018-11-21      8.72\n",
       "137731  1499_200     1499  2018-10-20     10.89\n",
       "137732  1499_201     1499  2018-09-21      8.12\n",
       "137733  1499_202     1499  2018-10-10      0.37\n",
       "137734  1499_203     1499  2018-12-29     13.86\n",
       "\n",
       "[137735 rows x 4 columns]"
      ]
     },
     "metadata": {},
     "output_type": "display_data"
    },
    {
     "data": {
      "text/html": [
       "<div>\n",
       "<style scoped>\n",
       "    .dataframe tbody tr th:only-of-type {\n",
       "        vertical-align: middle;\n",
       "    }\n",
       "\n",
       "    .dataframe tbody tr th {\n",
       "        vertical-align: top;\n",
       "    }\n",
       "\n",
       "    .dataframe thead th {\n",
       "        text-align: right;\n",
       "    }\n",
       "</style>\n",
       "<table border=\"1\" class=\"dataframe\">\n",
       "  <thead>\n",
       "    <tr style=\"text-align: right;\">\n",
       "      <th></th>\n",
       "      <th>id</th>\n",
       "      <th>user_id</th>\n",
       "      <th>session_date</th>\n",
       "      <th>mb_used</th>\n",
       "    </tr>\n",
       "  </thead>\n",
       "  <tbody>\n",
       "    <tr>\n",
       "      <th>0</th>\n",
       "      <td>1000_13</td>\n",
       "      <td>1000</td>\n",
       "      <td>2018-12-29</td>\n",
       "      <td>89.86</td>\n",
       "    </tr>\n",
       "    <tr>\n",
       "      <th>1</th>\n",
       "      <td>1000_204</td>\n",
       "      <td>1000</td>\n",
       "      <td>2018-12-31</td>\n",
       "      <td>0.00</td>\n",
       "    </tr>\n",
       "    <tr>\n",
       "      <th>2</th>\n",
       "      <td>1000_379</td>\n",
       "      <td>1000</td>\n",
       "      <td>2018-12-28</td>\n",
       "      <td>660.40</td>\n",
       "    </tr>\n",
       "    <tr>\n",
       "      <th>3</th>\n",
       "      <td>1000_413</td>\n",
       "      <td>1000</td>\n",
       "      <td>2018-12-26</td>\n",
       "      <td>270.99</td>\n",
       "    </tr>\n",
       "    <tr>\n",
       "      <th>4</th>\n",
       "      <td>1000_442</td>\n",
       "      <td>1000</td>\n",
       "      <td>2018-12-27</td>\n",
       "      <td>880.22</td>\n",
       "    </tr>\n",
       "    <tr>\n",
       "      <th>...</th>\n",
       "      <td>...</td>\n",
       "      <td>...</td>\n",
       "      <td>...</td>\n",
       "      <td>...</td>\n",
       "    </tr>\n",
       "    <tr>\n",
       "      <th>104820</th>\n",
       "      <td>1499_215</td>\n",
       "      <td>1499</td>\n",
       "      <td>2018-10-20</td>\n",
       "      <td>218.06</td>\n",
       "    </tr>\n",
       "    <tr>\n",
       "      <th>104821</th>\n",
       "      <td>1499_216</td>\n",
       "      <td>1499</td>\n",
       "      <td>2018-12-30</td>\n",
       "      <td>304.72</td>\n",
       "    </tr>\n",
       "    <tr>\n",
       "      <th>104822</th>\n",
       "      <td>1499_217</td>\n",
       "      <td>1499</td>\n",
       "      <td>2018-09-22</td>\n",
       "      <td>292.75</td>\n",
       "    </tr>\n",
       "    <tr>\n",
       "      <th>104823</th>\n",
       "      <td>1499_218</td>\n",
       "      <td>1499</td>\n",
       "      <td>2018-12-07</td>\n",
       "      <td>0.00</td>\n",
       "    </tr>\n",
       "    <tr>\n",
       "      <th>104824</th>\n",
       "      <td>1499_219</td>\n",
       "      <td>1499</td>\n",
       "      <td>2018-12-24</td>\n",
       "      <td>758.31</td>\n",
       "    </tr>\n",
       "  </tbody>\n",
       "</table>\n",
       "<p>104825 rows × 4 columns</p>\n",
       "</div>"
      ],
      "text/plain": [
       "              id  user_id session_date  mb_used\n",
       "0        1000_13     1000   2018-12-29    89.86\n",
       "1       1000_204     1000   2018-12-31     0.00\n",
       "2       1000_379     1000   2018-12-28   660.40\n",
       "3       1000_413     1000   2018-12-26   270.99\n",
       "4       1000_442     1000   2018-12-27   880.22\n",
       "...          ...      ...          ...      ...\n",
       "104820  1499_215     1499   2018-10-20   218.06\n",
       "104821  1499_216     1499   2018-12-30   304.72\n",
       "104822  1499_217     1499   2018-09-22   292.75\n",
       "104823  1499_218     1499   2018-12-07     0.00\n",
       "104824  1499_219     1499   2018-12-24   758.31\n",
       "\n",
       "[104825 rows x 4 columns]"
      ]
     },
     "metadata": {},
     "output_type": "display_data"
    },
    {
     "data": {
      "text/html": [
       "<div>\n",
       "<style scoped>\n",
       "    .dataframe tbody tr th:only-of-type {\n",
       "        vertical-align: middle;\n",
       "    }\n",
       "\n",
       "    .dataframe tbody tr th {\n",
       "        vertical-align: top;\n",
       "    }\n",
       "\n",
       "    .dataframe thead th {\n",
       "        text-align: right;\n",
       "    }\n",
       "</style>\n",
       "<table border=\"1\" class=\"dataframe\">\n",
       "  <thead>\n",
       "    <tr style=\"text-align: right;\">\n",
       "      <th></th>\n",
       "      <th>id</th>\n",
       "      <th>user_id</th>\n",
       "      <th>message_date</th>\n",
       "    </tr>\n",
       "  </thead>\n",
       "  <tbody>\n",
       "    <tr>\n",
       "      <th>0</th>\n",
       "      <td>1000_125</td>\n",
       "      <td>1000</td>\n",
       "      <td>2018-12-27</td>\n",
       "    </tr>\n",
       "    <tr>\n",
       "      <th>1</th>\n",
       "      <td>1000_160</td>\n",
       "      <td>1000</td>\n",
       "      <td>2018-12-31</td>\n",
       "    </tr>\n",
       "    <tr>\n",
       "      <th>2</th>\n",
       "      <td>1000_223</td>\n",
       "      <td>1000</td>\n",
       "      <td>2018-12-31</td>\n",
       "    </tr>\n",
       "    <tr>\n",
       "      <th>3</th>\n",
       "      <td>1000_251</td>\n",
       "      <td>1000</td>\n",
       "      <td>2018-12-27</td>\n",
       "    </tr>\n",
       "    <tr>\n",
       "      <th>4</th>\n",
       "      <td>1000_255</td>\n",
       "      <td>1000</td>\n",
       "      <td>2018-12-26</td>\n",
       "    </tr>\n",
       "    <tr>\n",
       "      <th>...</th>\n",
       "      <td>...</td>\n",
       "      <td>...</td>\n",
       "      <td>...</td>\n",
       "    </tr>\n",
       "    <tr>\n",
       "      <th>76046</th>\n",
       "      <td>1497_526</td>\n",
       "      <td>1497</td>\n",
       "      <td>2018-12-24</td>\n",
       "    </tr>\n",
       "    <tr>\n",
       "      <th>76047</th>\n",
       "      <td>1497_536</td>\n",
       "      <td>1497</td>\n",
       "      <td>2018-12-24</td>\n",
       "    </tr>\n",
       "    <tr>\n",
       "      <th>76048</th>\n",
       "      <td>1497_547</td>\n",
       "      <td>1497</td>\n",
       "      <td>2018-12-31</td>\n",
       "    </tr>\n",
       "    <tr>\n",
       "      <th>76049</th>\n",
       "      <td>1497_558</td>\n",
       "      <td>1497</td>\n",
       "      <td>2018-12-24</td>\n",
       "    </tr>\n",
       "    <tr>\n",
       "      <th>76050</th>\n",
       "      <td>1497_613</td>\n",
       "      <td>1497</td>\n",
       "      <td>2018-12-23</td>\n",
       "    </tr>\n",
       "  </tbody>\n",
       "</table>\n",
       "<p>76051 rows × 3 columns</p>\n",
       "</div>"
      ],
      "text/plain": [
       "             id  user_id message_date\n",
       "0      1000_125     1000   2018-12-27\n",
       "1      1000_160     1000   2018-12-31\n",
       "2      1000_223     1000   2018-12-31\n",
       "3      1000_251     1000   2018-12-27\n",
       "4      1000_255     1000   2018-12-26\n",
       "...         ...      ...          ...\n",
       "76046  1497_526     1497   2018-12-24\n",
       "76047  1497_536     1497   2018-12-24\n",
       "76048  1497_547     1497   2018-12-31\n",
       "76049  1497_558     1497   2018-12-24\n",
       "76050  1497_613     1497   2018-12-23\n",
       "\n",
       "[76051 rows x 3 columns]"
      ]
     },
     "metadata": {},
     "output_type": "display_data"
    },
    {
     "data": {
      "text/html": [
       "<div>\n",
       "<style scoped>\n",
       "    .dataframe tbody tr th:only-of-type {\n",
       "        vertical-align: middle;\n",
       "    }\n",
       "\n",
       "    .dataframe tbody tr th {\n",
       "        vertical-align: top;\n",
       "    }\n",
       "\n",
       "    .dataframe thead th {\n",
       "        text-align: right;\n",
       "    }\n",
       "</style>\n",
       "<table border=\"1\" class=\"dataframe\">\n",
       "  <thead>\n",
       "    <tr style=\"text-align: right;\">\n",
       "      <th></th>\n",
       "      <th>messages_included</th>\n",
       "      <th>mb_per_month_included</th>\n",
       "      <th>minutes_included</th>\n",
       "      <th>usd_monthly_pay</th>\n",
       "      <th>usd_per_gb</th>\n",
       "      <th>usd_per_message</th>\n",
       "      <th>usd_per_minute</th>\n",
       "      <th>plan_name</th>\n",
       "    </tr>\n",
       "  </thead>\n",
       "  <tbody>\n",
       "    <tr>\n",
       "      <th>0</th>\n",
       "      <td>50</td>\n",
       "      <td>15360</td>\n",
       "      <td>500</td>\n",
       "      <td>20</td>\n",
       "      <td>10</td>\n",
       "      <td>0.03</td>\n",
       "      <td>0.03</td>\n",
       "      <td>surf</td>\n",
       "    </tr>\n",
       "    <tr>\n",
       "      <th>1</th>\n",
       "      <td>1000</td>\n",
       "      <td>30720</td>\n",
       "      <td>3000</td>\n",
       "      <td>70</td>\n",
       "      <td>7</td>\n",
       "      <td>0.01</td>\n",
       "      <td>0.01</td>\n",
       "      <td>ultimate</td>\n",
       "    </tr>\n",
       "  </tbody>\n",
       "</table>\n",
       "</div>"
      ],
      "text/plain": [
       "   messages_included  mb_per_month_included  minutes_included  \\\n",
       "0                 50                  15360               500   \n",
       "1               1000                  30720              3000   \n",
       "\n",
       "   usd_monthly_pay  usd_per_gb  usd_per_message  usd_per_minute plan_name  \n",
       "0               20          10             0.03            0.03      surf  \n",
       "1               70           7             0.01            0.01  ultimate  "
      ]
     },
     "metadata": {},
     "output_type": "display_data"
    },
    {
     "data": {
      "text/html": [
       "<div>\n",
       "<style scoped>\n",
       "    .dataframe tbody tr th:only-of-type {\n",
       "        vertical-align: middle;\n",
       "    }\n",
       "\n",
       "    .dataframe tbody tr th {\n",
       "        vertical-align: top;\n",
       "    }\n",
       "\n",
       "    .dataframe thead th {\n",
       "        text-align: right;\n",
       "    }\n",
       "</style>\n",
       "<table border=\"1\" class=\"dataframe\">\n",
       "  <thead>\n",
       "    <tr style=\"text-align: right;\">\n",
       "      <th></th>\n",
       "      <th>user_id</th>\n",
       "      <th>first_name</th>\n",
       "      <th>last_name</th>\n",
       "      <th>age</th>\n",
       "      <th>city</th>\n",
       "      <th>reg_date</th>\n",
       "      <th>plan</th>\n",
       "      <th>churn_date</th>\n",
       "    </tr>\n",
       "  </thead>\n",
       "  <tbody>\n",
       "    <tr>\n",
       "      <th>0</th>\n",
       "      <td>1000</td>\n",
       "      <td>Anamaria</td>\n",
       "      <td>Bauer</td>\n",
       "      <td>45</td>\n",
       "      <td>Atlanta-Sandy Springs-Roswell, GA MSA</td>\n",
       "      <td>2018-12-24</td>\n",
       "      <td>ultimate</td>\n",
       "      <td>NaN</td>\n",
       "    </tr>\n",
       "    <tr>\n",
       "      <th>1</th>\n",
       "      <td>1001</td>\n",
       "      <td>Mickey</td>\n",
       "      <td>Wilkerson</td>\n",
       "      <td>28</td>\n",
       "      <td>Seattle-Tacoma-Bellevue, WA MSA</td>\n",
       "      <td>2018-08-13</td>\n",
       "      <td>surf</td>\n",
       "      <td>NaN</td>\n",
       "    </tr>\n",
       "    <tr>\n",
       "      <th>2</th>\n",
       "      <td>1002</td>\n",
       "      <td>Carlee</td>\n",
       "      <td>Hoffman</td>\n",
       "      <td>36</td>\n",
       "      <td>Las Vegas-Henderson-Paradise, NV MSA</td>\n",
       "      <td>2018-10-21</td>\n",
       "      <td>surf</td>\n",
       "      <td>NaN</td>\n",
       "    </tr>\n",
       "    <tr>\n",
       "      <th>3</th>\n",
       "      <td>1003</td>\n",
       "      <td>Reynaldo</td>\n",
       "      <td>Jenkins</td>\n",
       "      <td>52</td>\n",
       "      <td>Tulsa, OK MSA</td>\n",
       "      <td>2018-01-28</td>\n",
       "      <td>surf</td>\n",
       "      <td>NaN</td>\n",
       "    </tr>\n",
       "    <tr>\n",
       "      <th>4</th>\n",
       "      <td>1004</td>\n",
       "      <td>Leonila</td>\n",
       "      <td>Thompson</td>\n",
       "      <td>40</td>\n",
       "      <td>Seattle-Tacoma-Bellevue, WA MSA</td>\n",
       "      <td>2018-05-23</td>\n",
       "      <td>surf</td>\n",
       "      <td>NaN</td>\n",
       "    </tr>\n",
       "    <tr>\n",
       "      <th>...</th>\n",
       "      <td>...</td>\n",
       "      <td>...</td>\n",
       "      <td>...</td>\n",
       "      <td>...</td>\n",
       "      <td>...</td>\n",
       "      <td>...</td>\n",
       "      <td>...</td>\n",
       "      <td>...</td>\n",
       "    </tr>\n",
       "    <tr>\n",
       "      <th>495</th>\n",
       "      <td>1495</td>\n",
       "      <td>Fidel</td>\n",
       "      <td>Sharpe</td>\n",
       "      <td>67</td>\n",
       "      <td>New York-Newark-Jersey City, NY-NJ-PA MSA</td>\n",
       "      <td>2018-09-04</td>\n",
       "      <td>surf</td>\n",
       "      <td>NaN</td>\n",
       "    </tr>\n",
       "    <tr>\n",
       "      <th>496</th>\n",
       "      <td>1496</td>\n",
       "      <td>Ariel</td>\n",
       "      <td>Shepherd</td>\n",
       "      <td>49</td>\n",
       "      <td>New Orleans-Metairie, LA MSA</td>\n",
       "      <td>2018-02-20</td>\n",
       "      <td>surf</td>\n",
       "      <td>NaN</td>\n",
       "    </tr>\n",
       "    <tr>\n",
       "      <th>497</th>\n",
       "      <td>1497</td>\n",
       "      <td>Donte</td>\n",
       "      <td>Barrera</td>\n",
       "      <td>49</td>\n",
       "      <td>Los Angeles-Long Beach-Anaheim, CA MSA</td>\n",
       "      <td>2018-12-10</td>\n",
       "      <td>ultimate</td>\n",
       "      <td>NaN</td>\n",
       "    </tr>\n",
       "    <tr>\n",
       "      <th>498</th>\n",
       "      <td>1498</td>\n",
       "      <td>Scot</td>\n",
       "      <td>Williamson</td>\n",
       "      <td>51</td>\n",
       "      <td>New York-Newark-Jersey City, NY-NJ-PA MSA</td>\n",
       "      <td>2018-02-04</td>\n",
       "      <td>surf</td>\n",
       "      <td>NaN</td>\n",
       "    </tr>\n",
       "    <tr>\n",
       "      <th>499</th>\n",
       "      <td>1499</td>\n",
       "      <td>Shena</td>\n",
       "      <td>Dickson</td>\n",
       "      <td>37</td>\n",
       "      <td>Orlando-Kissimmee-Sanford, FL MSA</td>\n",
       "      <td>2018-05-06</td>\n",
       "      <td>surf</td>\n",
       "      <td>NaN</td>\n",
       "    </tr>\n",
       "  </tbody>\n",
       "</table>\n",
       "<p>500 rows × 8 columns</p>\n",
       "</div>"
      ],
      "text/plain": [
       "     user_id first_name   last_name  age  \\\n",
       "0       1000   Anamaria       Bauer   45   \n",
       "1       1001     Mickey   Wilkerson   28   \n",
       "2       1002     Carlee     Hoffman   36   \n",
       "3       1003   Reynaldo     Jenkins   52   \n",
       "4       1004    Leonila    Thompson   40   \n",
       "..       ...        ...         ...  ...   \n",
       "495     1495      Fidel      Sharpe   67   \n",
       "496     1496      Ariel    Shepherd   49   \n",
       "497     1497      Donte     Barrera   49   \n",
       "498     1498       Scot  Williamson   51   \n",
       "499     1499      Shena     Dickson   37   \n",
       "\n",
       "                                          city    reg_date      plan  \\\n",
       "0        Atlanta-Sandy Springs-Roswell, GA MSA  2018-12-24  ultimate   \n",
       "1              Seattle-Tacoma-Bellevue, WA MSA  2018-08-13      surf   \n",
       "2         Las Vegas-Henderson-Paradise, NV MSA  2018-10-21      surf   \n",
       "3                                Tulsa, OK MSA  2018-01-28      surf   \n",
       "4              Seattle-Tacoma-Bellevue, WA MSA  2018-05-23      surf   \n",
       "..                                         ...         ...       ...   \n",
       "495  New York-Newark-Jersey City, NY-NJ-PA MSA  2018-09-04      surf   \n",
       "496               New Orleans-Metairie, LA MSA  2018-02-20      surf   \n",
       "497     Los Angeles-Long Beach-Anaheim, CA MSA  2018-12-10  ultimate   \n",
       "498  New York-Newark-Jersey City, NY-NJ-PA MSA  2018-02-04      surf   \n",
       "499          Orlando-Kissimmee-Sanford, FL MSA  2018-05-06      surf   \n",
       "\n",
       "    churn_date  \n",
       "0          NaN  \n",
       "1          NaN  \n",
       "2          NaN  \n",
       "3          NaN  \n",
       "4          NaN  \n",
       "..         ...  \n",
       "495        NaN  \n",
       "496        NaN  \n",
       "497        NaN  \n",
       "498        NaN  \n",
       "499        NaN  \n",
       "\n",
       "[500 rows x 8 columns]"
      ]
     },
     "metadata": {},
     "output_type": "display_data"
    },
    {
     "data": {
      "text/plain": [
       "0"
      ]
     },
     "execution_count": 2,
     "metadata": {},
     "output_type": "execute_result"
    }
   ],
   "source": [
    "# Load the data files into different DataFrames\n",
    "display(df_calls)\n",
    "display(df_internet)\n",
    "display(df_messages)\n",
    "display(df_plans)\n",
    "display(df_users)"
   ]
  },
  {
   "cell_type": "markdown",
   "metadata": {},
   "source": [
    "## Prepare the data"
   ]
  },
  {
   "cell_type": "markdown",
   "metadata": {},
   "source": [
    "Currently have 5 seperate data frames that are specific to individual factors of the customers usage. From looking over the information breifly we can see there are some NaN values in the user data. Message, calls, user data and internet all have some duplicated information. Will be looking further into the data provided with the goal of merging all data plans together, studying the overall revenue based off the plan details provided and testing some hypothesis at the end of the project."
   ]
  },
  {
   "cell_type": "markdown",
   "metadata": {},
   "source": [
    "## Plans"
   ]
  },
  {
   "cell_type": "code",
   "execution_count": 44,
   "metadata": {
    "trusted": false
   },
   "outputs": [
    {
     "name": "stdout",
     "output_type": "stream",
     "text": [
      "<class 'pandas.core.frame.DataFrame'>\n",
      "RangeIndex: 2 entries, 0 to 1\n",
      "Data columns (total 8 columns):\n",
      " #   Column                 Non-Null Count  Dtype  \n",
      "---  ------                 --------------  -----  \n",
      " 0   messages_included      2 non-null      int64  \n",
      " 1   mb_per_month_included  2 non-null      int64  \n",
      " 2   minutes_included       2 non-null      int64  \n",
      " 3   usd_monthly_pay        2 non-null      int64  \n",
      " 4   usd_per_gb             2 non-null      int64  \n",
      " 5   usd_per_message        2 non-null      float64\n",
      " 6   usd_per_minute         2 non-null      float64\n",
      " 7   plan_name              2 non-null      object \n",
      "dtypes: float64(2), int64(5), object(1)\n",
      "memory usage: 256.0+ bytes\n"
     ]
    },
    {
     "data": {
      "text/plain": [
       "0"
      ]
     },
     "execution_count": 44,
     "metadata": {},
     "output_type": "execute_result"
    }
   ],
   "source": [
    "# Print the general/summary information about the plans' DataFrame\n",
    "df_plans.info()\n",
    "df_plans.describe()\n",
    "df_plans.duplicated().sum()"
   ]
  },
  {
   "cell_type": "code",
   "execution_count": 46,
   "metadata": {
    "trusted": false
   },
   "outputs": [
    {
     "data": {
      "text/html": [
       "<div>\n",
       "<style scoped>\n",
       "    .dataframe tbody tr th:only-of-type {\n",
       "        vertical-align: middle;\n",
       "    }\n",
       "\n",
       "    .dataframe tbody tr th {\n",
       "        vertical-align: top;\n",
       "    }\n",
       "\n",
       "    .dataframe thead th {\n",
       "        text-align: right;\n",
       "    }\n",
       "</style>\n",
       "<table border=\"1\" class=\"dataframe\">\n",
       "  <thead>\n",
       "    <tr style=\"text-align: right;\">\n",
       "      <th></th>\n",
       "      <th>messages_included</th>\n",
       "      <th>mb_per_month_included</th>\n",
       "      <th>minutes_included</th>\n",
       "      <th>usd_monthly_pay</th>\n",
       "      <th>usd_per_gb</th>\n",
       "      <th>usd_per_message</th>\n",
       "      <th>usd_per_minute</th>\n",
       "      <th>plan_name</th>\n",
       "    </tr>\n",
       "  </thead>\n",
       "  <tbody>\n",
       "    <tr>\n",
       "      <th>0</th>\n",
       "      <td>50</td>\n",
       "      <td>15360</td>\n",
       "      <td>500</td>\n",
       "      <td>20</td>\n",
       "      <td>10</td>\n",
       "      <td>0.03</td>\n",
       "      <td>0.03</td>\n",
       "      <td>surf</td>\n",
       "    </tr>\n",
       "    <tr>\n",
       "      <th>1</th>\n",
       "      <td>1000</td>\n",
       "      <td>30720</td>\n",
       "      <td>3000</td>\n",
       "      <td>70</td>\n",
       "      <td>7</td>\n",
       "      <td>0.01</td>\n",
       "      <td>0.01</td>\n",
       "      <td>ultimate</td>\n",
       "    </tr>\n",
       "  </tbody>\n",
       "</table>\n",
       "</div>"
      ],
      "text/plain": [
       "   messages_included  mb_per_month_included  minutes_included  \\\n",
       "0                 50                  15360               500   \n",
       "1               1000                  30720              3000   \n",
       "\n",
       "   usd_monthly_pay  usd_per_gb  usd_per_message  usd_per_minute plan_name  \n",
       "0               20          10             0.03            0.03      surf  \n",
       "1               70           7             0.01            0.01  ultimate  "
      ]
     },
     "metadata": {},
     "output_type": "display_data"
    },
    {
     "data": {
      "text/plain": [
       "0"
      ]
     },
     "execution_count": 46,
     "metadata": {},
     "output_type": "execute_result"
    }
   ],
   "source": [
    "# Print a sample of data for plans \n",
    "display(df_plans)"
   ]
  },
  {
   "cell_type": "markdown",
   "metadata": {},
   "source": [
    "[Describe what you see and notice in the general information and the printed data sample for the above price of data. Are there any issues (inappropriate data types, missing data etc) that may need further investigation and changes? How that can be fixed?]"
   ]
  },
  {
   "cell_type": "markdown",
   "metadata": {},
   "source": [
    "Would appear that the data allotted is slightly over the standard of 15GB and 30GB which would incure an additional charge for each plan of $10 (surf) and $7 (ultimate)."
   ]
  },
  {
   "cell_type": "markdown",
   "metadata": {},
   "source": [
    "## Fix data"
   ]
  },
  {
   "cell_type": "markdown",
   "metadata": {},
   "source": [
    "df requires no corrections as everything seems to align with the specifications regarding cost and allotment of data, minuets and talk time. All column names are in lower case with _ used for space and both plans labeled correctly"
   ]
  },
  {
   "cell_type": "markdown",
   "metadata": {},
   "source": [
    "## Enrich data"
   ]
  },
  {
   "cell_type": "markdown",
   "metadata": {},
   "source": [
    "df requires no enrichment as everything seems to align with the specifications given in the project overview."
   ]
  },
  {
   "cell_type": "markdown",
   "metadata": {},
   "source": [
    "## Users"
   ]
  },
  {
   "cell_type": "code",
   "execution_count": 5,
   "metadata": {
    "trusted": false
   },
   "outputs": [
    {
     "name": "stdout",
     "output_type": "stream",
     "text": [
      "<class 'pandas.core.frame.DataFrame'>\n",
      "RangeIndex: 500 entries, 0 to 499\n",
      "Data columns (total 8 columns):\n",
      " #   Column      Non-Null Count  Dtype \n",
      "---  ------      --------------  ----- \n",
      " 0   user_id     500 non-null    int64 \n",
      " 1   first_name  500 non-null    object\n",
      " 2   last_name   500 non-null    object\n",
      " 3   age         500 non-null    int64 \n",
      " 4   city        500 non-null    object\n",
      " 5   reg_date    500 non-null    object\n",
      " 6   plan        500 non-null    object\n",
      " 7   churn_date  34 non-null     object\n",
      "dtypes: int64(2), object(6)\n",
      "memory usage: 31.4+ KB\n"
     ]
    },
    {
     "data": {
      "text/html": [
       "<div>\n",
       "<style scoped>\n",
       "    .dataframe tbody tr th:only-of-type {\n",
       "        vertical-align: middle;\n",
       "    }\n",
       "\n",
       "    .dataframe tbody tr th {\n",
       "        vertical-align: top;\n",
       "    }\n",
       "\n",
       "    .dataframe thead th {\n",
       "        text-align: right;\n",
       "    }\n",
       "</style>\n",
       "<table border=\"1\" class=\"dataframe\">\n",
       "  <thead>\n",
       "    <tr style=\"text-align: right;\">\n",
       "      <th></th>\n",
       "      <th>user_id</th>\n",
       "      <th>age</th>\n",
       "    </tr>\n",
       "  </thead>\n",
       "  <tbody>\n",
       "    <tr>\n",
       "      <th>count</th>\n",
       "      <td>500.000000</td>\n",
       "      <td>500.000000</td>\n",
       "    </tr>\n",
       "    <tr>\n",
       "      <th>mean</th>\n",
       "      <td>1249.500000</td>\n",
       "      <td>45.486000</td>\n",
       "    </tr>\n",
       "    <tr>\n",
       "      <th>std</th>\n",
       "      <td>144.481833</td>\n",
       "      <td>16.972269</td>\n",
       "    </tr>\n",
       "    <tr>\n",
       "      <th>min</th>\n",
       "      <td>1000.000000</td>\n",
       "      <td>18.000000</td>\n",
       "    </tr>\n",
       "    <tr>\n",
       "      <th>25%</th>\n",
       "      <td>1124.750000</td>\n",
       "      <td>30.000000</td>\n",
       "    </tr>\n",
       "    <tr>\n",
       "      <th>50%</th>\n",
       "      <td>1249.500000</td>\n",
       "      <td>46.000000</td>\n",
       "    </tr>\n",
       "    <tr>\n",
       "      <th>75%</th>\n",
       "      <td>1374.250000</td>\n",
       "      <td>61.000000</td>\n",
       "    </tr>\n",
       "    <tr>\n",
       "      <th>max</th>\n",
       "      <td>1499.000000</td>\n",
       "      <td>75.000000</td>\n",
       "    </tr>\n",
       "  </tbody>\n",
       "</table>\n",
       "</div>"
      ],
      "text/plain": [
       "           user_id         age\n",
       "count   500.000000  500.000000\n",
       "mean   1249.500000   45.486000\n",
       "std     144.481833   16.972269\n",
       "min    1000.000000   18.000000\n",
       "25%    1124.750000   30.000000\n",
       "50%    1249.500000   46.000000\n",
       "75%    1374.250000   61.000000\n",
       "max    1499.000000   75.000000"
      ]
     },
     "execution_count": 5,
     "metadata": {},
     "output_type": "execute_result"
    }
   ],
   "source": [
    "# Print the general/summary information about the users' DataFrame\n",
    "df_users.info()\n",
    "df_users.describe()\n"
   ]
  },
  {
   "cell_type": "code",
   "execution_count": 6,
   "metadata": {
    "trusted": false
   },
   "outputs": [
    {
     "data": {
      "text/html": [
       "<div>\n",
       "<style scoped>\n",
       "    .dataframe tbody tr th:only-of-type {\n",
       "        vertical-align: middle;\n",
       "    }\n",
       "\n",
       "    .dataframe tbody tr th {\n",
       "        vertical-align: top;\n",
       "    }\n",
       "\n",
       "    .dataframe thead th {\n",
       "        text-align: right;\n",
       "    }\n",
       "</style>\n",
       "<table border=\"1\" class=\"dataframe\">\n",
       "  <thead>\n",
       "    <tr style=\"text-align: right;\">\n",
       "      <th></th>\n",
       "      <th>user_id</th>\n",
       "      <th>first_name</th>\n",
       "      <th>last_name</th>\n",
       "      <th>age</th>\n",
       "      <th>city</th>\n",
       "      <th>reg_date</th>\n",
       "      <th>plan</th>\n",
       "      <th>churn_date</th>\n",
       "    </tr>\n",
       "  </thead>\n",
       "  <tbody>\n",
       "    <tr>\n",
       "      <th>23</th>\n",
       "      <td>1023</td>\n",
       "      <td>Jack</td>\n",
       "      <td>Delaney</td>\n",
       "      <td>70</td>\n",
       "      <td>Omaha-Council Bluffs, NE-IA MSA</td>\n",
       "      <td>2018-07-06</td>\n",
       "      <td>surf</td>\n",
       "      <td>NaN</td>\n",
       "    </tr>\n",
       "    <tr>\n",
       "      <th>437</th>\n",
       "      <td>1437</td>\n",
       "      <td>Louis</td>\n",
       "      <td>Neal</td>\n",
       "      <td>42</td>\n",
       "      <td>Dallas-Fort Worth-Arlington, TX MSA</td>\n",
       "      <td>2018-11-12</td>\n",
       "      <td>surf</td>\n",
       "      <td>NaN</td>\n",
       "    </tr>\n",
       "    <tr>\n",
       "      <th>26</th>\n",
       "      <td>1026</td>\n",
       "      <td>Meggan</td>\n",
       "      <td>Hamilton</td>\n",
       "      <td>49</td>\n",
       "      <td>Houston-The Woodlands-Sugar Land, TX MSA</td>\n",
       "      <td>2018-07-20</td>\n",
       "      <td>ultimate</td>\n",
       "      <td>NaN</td>\n",
       "    </tr>\n",
       "    <tr>\n",
       "      <th>284</th>\n",
       "      <td>1284</td>\n",
       "      <td>Yuri</td>\n",
       "      <td>Odom</td>\n",
       "      <td>51</td>\n",
       "      <td>Dayton-Kettering, OH MSA</td>\n",
       "      <td>2018-09-07</td>\n",
       "      <td>surf</td>\n",
       "      <td>NaN</td>\n",
       "    </tr>\n",
       "    <tr>\n",
       "      <th>267</th>\n",
       "      <td>1267</td>\n",
       "      <td>Gia</td>\n",
       "      <td>Parker</td>\n",
       "      <td>53</td>\n",
       "      <td>St. Louis, MO-IL MSA</td>\n",
       "      <td>2018-03-12</td>\n",
       "      <td>surf</td>\n",
       "      <td>NaN</td>\n",
       "    </tr>\n",
       "    <tr>\n",
       "      <th>86</th>\n",
       "      <td>1086</td>\n",
       "      <td>Adena</td>\n",
       "      <td>Macias</td>\n",
       "      <td>36</td>\n",
       "      <td>New York-Newark-Jersey City, NY-NJ-PA MSA</td>\n",
       "      <td>2018-01-13</td>\n",
       "      <td>ultimate</td>\n",
       "      <td>NaN</td>\n",
       "    </tr>\n",
       "    <tr>\n",
       "      <th>128</th>\n",
       "      <td>1128</td>\n",
       "      <td>Lucius</td>\n",
       "      <td>Fernandez</td>\n",
       "      <td>41</td>\n",
       "      <td>Knoxville, TN MSA</td>\n",
       "      <td>2018-01-25</td>\n",
       "      <td>ultimate</td>\n",
       "      <td>NaN</td>\n",
       "    </tr>\n",
       "    <tr>\n",
       "      <th>228</th>\n",
       "      <td>1228</td>\n",
       "      <td>Jude</td>\n",
       "      <td>Hale</td>\n",
       "      <td>26</td>\n",
       "      <td>Detroit-Warren-Dearborn, MI MSA</td>\n",
       "      <td>2018-04-15</td>\n",
       "      <td>surf</td>\n",
       "      <td>NaN</td>\n",
       "    </tr>\n",
       "    <tr>\n",
       "      <th>189</th>\n",
       "      <td>1189</td>\n",
       "      <td>Terrence</td>\n",
       "      <td>Smith</td>\n",
       "      <td>75</td>\n",
       "      <td>Columbus, OH MSA</td>\n",
       "      <td>2018-09-24</td>\n",
       "      <td>surf</td>\n",
       "      <td>NaN</td>\n",
       "    </tr>\n",
       "    <tr>\n",
       "      <th>456</th>\n",
       "      <td>1456</td>\n",
       "      <td>Seymour</td>\n",
       "      <td>Olsen</td>\n",
       "      <td>66</td>\n",
       "      <td>Minneapolis-St. Paul-Bloomington, MN-WI MSA</td>\n",
       "      <td>2018-06-02</td>\n",
       "      <td>ultimate</td>\n",
       "      <td>NaN</td>\n",
       "    </tr>\n",
       "  </tbody>\n",
       "</table>\n",
       "</div>"
      ],
      "text/plain": [
       "     user_id first_name  last_name  age  \\\n",
       "23      1023       Jack    Delaney   70   \n",
       "437     1437      Louis       Neal   42   \n",
       "26      1026     Meggan   Hamilton   49   \n",
       "284     1284       Yuri       Odom   51   \n",
       "267     1267        Gia     Parker   53   \n",
       "86      1086      Adena     Macias   36   \n",
       "128     1128     Lucius  Fernandez   41   \n",
       "228     1228       Jude       Hale   26   \n",
       "189     1189   Terrence      Smith   75   \n",
       "456     1456    Seymour      Olsen   66   \n",
       "\n",
       "                                            city    reg_date      plan  \\\n",
       "23               Omaha-Council Bluffs, NE-IA MSA  2018-07-06      surf   \n",
       "437          Dallas-Fort Worth-Arlington, TX MSA  2018-11-12      surf   \n",
       "26      Houston-The Woodlands-Sugar Land, TX MSA  2018-07-20  ultimate   \n",
       "284                     Dayton-Kettering, OH MSA  2018-09-07      surf   \n",
       "267                         St. Louis, MO-IL MSA  2018-03-12      surf   \n",
       "86     New York-Newark-Jersey City, NY-NJ-PA MSA  2018-01-13  ultimate   \n",
       "128                            Knoxville, TN MSA  2018-01-25  ultimate   \n",
       "228              Detroit-Warren-Dearborn, MI MSA  2018-04-15      surf   \n",
       "189                             Columbus, OH MSA  2018-09-24      surf   \n",
       "456  Minneapolis-St. Paul-Bloomington, MN-WI MSA  2018-06-02  ultimate   \n",
       "\n",
       "    churn_date  \n",
       "23         NaN  \n",
       "437        NaN  \n",
       "26         NaN  \n",
       "284        NaN  \n",
       "267        NaN  \n",
       "86         NaN  \n",
       "128        NaN  \n",
       "228        NaN  \n",
       "189        NaN  \n",
       "456        NaN  "
      ]
     },
     "execution_count": 6,
     "metadata": {},
     "output_type": "execute_result"
    }
   ],
   "source": [
    "# Print a sample of data for users\n",
    "df_users.sample(10)\n"
   ]
  },
  {
   "cell_type": "markdown",
   "metadata": {},
   "source": [
    "[Describe what you see and notice in the general information and the printed data sample for the above price of data. Are there any issues (inappropriate data types, missing data etc) that may need further investigation and changes? How that can be fixed?]"
   ]
  },
  {
   "cell_type": "markdown",
   "metadata": {},
   "source": [
    "Based on the sampled data we can see that most plans are still currently active based on the churn date being NaN and more often than not they are on the surf plan"
   ]
  },
  {
   "cell_type": "markdown",
   "metadata": {},
   "source": [
    "### Fix Data"
   ]
  },
  {
   "cell_type": "code",
   "execution_count": 7,
   "metadata": {
    "scrolled": true,
    "trusted": false
   },
   "outputs": [
    {
     "name": "stdout",
     "output_type": "stream",
     "text": [
      "Number of users still active: 466\n"
     ]
    },
    {
     "data": {
      "text/html": [
       "<div>\n",
       "<style scoped>\n",
       "    .dataframe tbody tr th:only-of-type {\n",
       "        vertical-align: middle;\n",
       "    }\n",
       "\n",
       "    .dataframe tbody tr th {\n",
       "        vertical-align: top;\n",
       "    }\n",
       "\n",
       "    .dataframe thead th {\n",
       "        text-align: right;\n",
       "    }\n",
       "</style>\n",
       "<table border=\"1\" class=\"dataframe\">\n",
       "  <thead>\n",
       "    <tr style=\"text-align: right;\">\n",
       "      <th></th>\n",
       "      <th>user_id</th>\n",
       "      <th>first_name</th>\n",
       "      <th>last_name</th>\n",
       "      <th>age</th>\n",
       "      <th>city</th>\n",
       "      <th>reg_date</th>\n",
       "      <th>plan</th>\n",
       "      <th>churn_date</th>\n",
       "      <th>is_active</th>\n",
       "    </tr>\n",
       "  </thead>\n",
       "  <tbody>\n",
       "    <tr>\n",
       "      <th>0</th>\n",
       "      <td>1000</td>\n",
       "      <td>Anamaria</td>\n",
       "      <td>Bauer</td>\n",
       "      <td>45</td>\n",
       "      <td>Atlanta-Sandy Springs-Roswell, GA MSA</td>\n",
       "      <td>2018-12-24</td>\n",
       "      <td>ultimate</td>\n",
       "      <td>NaN</td>\n",
       "      <td>True</td>\n",
       "    </tr>\n",
       "    <tr>\n",
       "      <th>1</th>\n",
       "      <td>1001</td>\n",
       "      <td>Mickey</td>\n",
       "      <td>Wilkerson</td>\n",
       "      <td>28</td>\n",
       "      <td>Seattle-Tacoma-Bellevue, WA MSA</td>\n",
       "      <td>2018-08-13</td>\n",
       "      <td>surf</td>\n",
       "      <td>NaN</td>\n",
       "      <td>True</td>\n",
       "    </tr>\n",
       "    <tr>\n",
       "      <th>2</th>\n",
       "      <td>1002</td>\n",
       "      <td>Carlee</td>\n",
       "      <td>Hoffman</td>\n",
       "      <td>36</td>\n",
       "      <td>Las Vegas-Henderson-Paradise, NV MSA</td>\n",
       "      <td>2018-10-21</td>\n",
       "      <td>surf</td>\n",
       "      <td>NaN</td>\n",
       "      <td>True</td>\n",
       "    </tr>\n",
       "    <tr>\n",
       "      <th>3</th>\n",
       "      <td>1003</td>\n",
       "      <td>Reynaldo</td>\n",
       "      <td>Jenkins</td>\n",
       "      <td>52</td>\n",
       "      <td>Tulsa, OK MSA</td>\n",
       "      <td>2018-01-28</td>\n",
       "      <td>surf</td>\n",
       "      <td>NaN</td>\n",
       "      <td>True</td>\n",
       "    </tr>\n",
       "    <tr>\n",
       "      <th>4</th>\n",
       "      <td>1004</td>\n",
       "      <td>Leonila</td>\n",
       "      <td>Thompson</td>\n",
       "      <td>40</td>\n",
       "      <td>Seattle-Tacoma-Bellevue, WA MSA</td>\n",
       "      <td>2018-05-23</td>\n",
       "      <td>surf</td>\n",
       "      <td>NaN</td>\n",
       "      <td>True</td>\n",
       "    </tr>\n",
       "    <tr>\n",
       "      <th>...</th>\n",
       "      <td>...</td>\n",
       "      <td>...</td>\n",
       "      <td>...</td>\n",
       "      <td>...</td>\n",
       "      <td>...</td>\n",
       "      <td>...</td>\n",
       "      <td>...</td>\n",
       "      <td>...</td>\n",
       "      <td>...</td>\n",
       "    </tr>\n",
       "    <tr>\n",
       "      <th>495</th>\n",
       "      <td>1495</td>\n",
       "      <td>Fidel</td>\n",
       "      <td>Sharpe</td>\n",
       "      <td>67</td>\n",
       "      <td>New York-Newark-Jersey City, NY-NJ-PA MSA</td>\n",
       "      <td>2018-09-04</td>\n",
       "      <td>surf</td>\n",
       "      <td>NaN</td>\n",
       "      <td>True</td>\n",
       "    </tr>\n",
       "    <tr>\n",
       "      <th>496</th>\n",
       "      <td>1496</td>\n",
       "      <td>Ariel</td>\n",
       "      <td>Shepherd</td>\n",
       "      <td>49</td>\n",
       "      <td>New Orleans-Metairie, LA MSA</td>\n",
       "      <td>2018-02-20</td>\n",
       "      <td>surf</td>\n",
       "      <td>NaN</td>\n",
       "      <td>True</td>\n",
       "    </tr>\n",
       "    <tr>\n",
       "      <th>497</th>\n",
       "      <td>1497</td>\n",
       "      <td>Donte</td>\n",
       "      <td>Barrera</td>\n",
       "      <td>49</td>\n",
       "      <td>Los Angeles-Long Beach-Anaheim, CA MSA</td>\n",
       "      <td>2018-12-10</td>\n",
       "      <td>ultimate</td>\n",
       "      <td>NaN</td>\n",
       "      <td>True</td>\n",
       "    </tr>\n",
       "    <tr>\n",
       "      <th>498</th>\n",
       "      <td>1498</td>\n",
       "      <td>Scot</td>\n",
       "      <td>Williamson</td>\n",
       "      <td>51</td>\n",
       "      <td>New York-Newark-Jersey City, NY-NJ-PA MSA</td>\n",
       "      <td>2018-02-04</td>\n",
       "      <td>surf</td>\n",
       "      <td>NaN</td>\n",
       "      <td>True</td>\n",
       "    </tr>\n",
       "    <tr>\n",
       "      <th>499</th>\n",
       "      <td>1499</td>\n",
       "      <td>Shena</td>\n",
       "      <td>Dickson</td>\n",
       "      <td>37</td>\n",
       "      <td>Orlando-Kissimmee-Sanford, FL MSA</td>\n",
       "      <td>2018-05-06</td>\n",
       "      <td>surf</td>\n",
       "      <td>NaN</td>\n",
       "      <td>True</td>\n",
       "    </tr>\n",
       "  </tbody>\n",
       "</table>\n",
       "<p>500 rows × 9 columns</p>\n",
       "</div>"
      ],
      "text/plain": [
       "     user_id first_name   last_name  age  \\\n",
       "0       1000   Anamaria       Bauer   45   \n",
       "1       1001     Mickey   Wilkerson   28   \n",
       "2       1002     Carlee     Hoffman   36   \n",
       "3       1003   Reynaldo     Jenkins   52   \n",
       "4       1004    Leonila    Thompson   40   \n",
       "..       ...        ...         ...  ...   \n",
       "495     1495      Fidel      Sharpe   67   \n",
       "496     1496      Ariel    Shepherd   49   \n",
       "497     1497      Donte     Barrera   49   \n",
       "498     1498       Scot  Williamson   51   \n",
       "499     1499      Shena     Dickson   37   \n",
       "\n",
       "                                          city    reg_date      plan  \\\n",
       "0        Atlanta-Sandy Springs-Roswell, GA MSA  2018-12-24  ultimate   \n",
       "1              Seattle-Tacoma-Bellevue, WA MSA  2018-08-13      surf   \n",
       "2         Las Vegas-Henderson-Paradise, NV MSA  2018-10-21      surf   \n",
       "3                                Tulsa, OK MSA  2018-01-28      surf   \n",
       "4              Seattle-Tacoma-Bellevue, WA MSA  2018-05-23      surf   \n",
       "..                                         ...         ...       ...   \n",
       "495  New York-Newark-Jersey City, NY-NJ-PA MSA  2018-09-04      surf   \n",
       "496               New Orleans-Metairie, LA MSA  2018-02-20      surf   \n",
       "497     Los Angeles-Long Beach-Anaheim, CA MSA  2018-12-10  ultimate   \n",
       "498  New York-Newark-Jersey City, NY-NJ-PA MSA  2018-02-04      surf   \n",
       "499          Orlando-Kissimmee-Sanford, FL MSA  2018-05-06      surf   \n",
       "\n",
       "    churn_date  is_active  \n",
       "0          NaN       True  \n",
       "1          NaN       True  \n",
       "2          NaN       True  \n",
       "3          NaN       True  \n",
       "4          NaN       True  \n",
       "..         ...        ...  \n",
       "495        NaN       True  \n",
       "496        NaN       True  \n",
       "497        NaN       True  \n",
       "498        NaN       True  \n",
       "499        NaN       True  \n",
       "\n",
       "[500 rows x 9 columns]"
      ]
     },
     "execution_count": 7,
     "metadata": {},
     "output_type": "execute_result"
    }
   ],
   "source": [
    "# Count missing values in churn_date\n",
    "missing_churn = df_users['churn_date'].isna().sum()\n",
    "print(f\"Number of users still active: {missing_churn}\")\n",
    "\n",
    "# If desired, you can create a new column indicating active users\n",
    "df_users['is_active'] = df_users['churn_date'].isna()\n",
    "df_users"
   ]
  },
  {
   "cell_type": "code",
   "execution_count": 8,
   "metadata": {
    "scrolled": true,
    "trusted": false
   },
   "outputs": [
    {
     "data": {
      "text/html": [
       "<div>\n",
       "<style scoped>\n",
       "    .dataframe tbody tr th:only-of-type {\n",
       "        vertical-align: middle;\n",
       "    }\n",
       "\n",
       "    .dataframe tbody tr th {\n",
       "        vertical-align: top;\n",
       "    }\n",
       "\n",
       "    .dataframe thead th {\n",
       "        text-align: right;\n",
       "    }\n",
       "</style>\n",
       "<table border=\"1\" class=\"dataframe\">\n",
       "  <thead>\n",
       "    <tr style=\"text-align: right;\">\n",
       "      <th></th>\n",
       "      <th>user_id</th>\n",
       "      <th>first_name</th>\n",
       "      <th>last_name</th>\n",
       "      <th>age</th>\n",
       "      <th>city</th>\n",
       "      <th>reg_date</th>\n",
       "      <th>plan</th>\n",
       "      <th>churn_date</th>\n",
       "      <th>is_active</th>\n",
       "    </tr>\n",
       "  </thead>\n",
       "  <tbody>\n",
       "    <tr>\n",
       "      <th>0</th>\n",
       "      <td>1000</td>\n",
       "      <td>Anamaria</td>\n",
       "      <td>Bauer</td>\n",
       "      <td>45</td>\n",
       "      <td>Atlanta-Sandy Springs-Roswell, GA MSA</td>\n",
       "      <td>2018-12-24</td>\n",
       "      <td>ultimate</td>\n",
       "      <td>NaT</td>\n",
       "      <td>True</td>\n",
       "    </tr>\n",
       "    <tr>\n",
       "      <th>1</th>\n",
       "      <td>1001</td>\n",
       "      <td>Mickey</td>\n",
       "      <td>Wilkerson</td>\n",
       "      <td>28</td>\n",
       "      <td>Seattle-Tacoma-Bellevue, WA MSA</td>\n",
       "      <td>2018-08-13</td>\n",
       "      <td>surf</td>\n",
       "      <td>NaT</td>\n",
       "      <td>True</td>\n",
       "    </tr>\n",
       "    <tr>\n",
       "      <th>2</th>\n",
       "      <td>1002</td>\n",
       "      <td>Carlee</td>\n",
       "      <td>Hoffman</td>\n",
       "      <td>36</td>\n",
       "      <td>Las Vegas-Henderson-Paradise, NV MSA</td>\n",
       "      <td>2018-10-21</td>\n",
       "      <td>surf</td>\n",
       "      <td>NaT</td>\n",
       "      <td>True</td>\n",
       "    </tr>\n",
       "    <tr>\n",
       "      <th>3</th>\n",
       "      <td>1003</td>\n",
       "      <td>Reynaldo</td>\n",
       "      <td>Jenkins</td>\n",
       "      <td>52</td>\n",
       "      <td>Tulsa, OK MSA</td>\n",
       "      <td>2018-01-28</td>\n",
       "      <td>surf</td>\n",
       "      <td>NaT</td>\n",
       "      <td>True</td>\n",
       "    </tr>\n",
       "    <tr>\n",
       "      <th>4</th>\n",
       "      <td>1004</td>\n",
       "      <td>Leonila</td>\n",
       "      <td>Thompson</td>\n",
       "      <td>40</td>\n",
       "      <td>Seattle-Tacoma-Bellevue, WA MSA</td>\n",
       "      <td>2018-05-23</td>\n",
       "      <td>surf</td>\n",
       "      <td>NaT</td>\n",
       "      <td>True</td>\n",
       "    </tr>\n",
       "    <tr>\n",
       "      <th>...</th>\n",
       "      <td>...</td>\n",
       "      <td>...</td>\n",
       "      <td>...</td>\n",
       "      <td>...</td>\n",
       "      <td>...</td>\n",
       "      <td>...</td>\n",
       "      <td>...</td>\n",
       "      <td>...</td>\n",
       "      <td>...</td>\n",
       "    </tr>\n",
       "    <tr>\n",
       "      <th>495</th>\n",
       "      <td>1495</td>\n",
       "      <td>Fidel</td>\n",
       "      <td>Sharpe</td>\n",
       "      <td>67</td>\n",
       "      <td>New York-Newark-Jersey City, NY-NJ-PA MSA</td>\n",
       "      <td>2018-09-04</td>\n",
       "      <td>surf</td>\n",
       "      <td>NaT</td>\n",
       "      <td>True</td>\n",
       "    </tr>\n",
       "    <tr>\n",
       "      <th>496</th>\n",
       "      <td>1496</td>\n",
       "      <td>Ariel</td>\n",
       "      <td>Shepherd</td>\n",
       "      <td>49</td>\n",
       "      <td>New Orleans-Metairie, LA MSA</td>\n",
       "      <td>2018-02-20</td>\n",
       "      <td>surf</td>\n",
       "      <td>NaT</td>\n",
       "      <td>True</td>\n",
       "    </tr>\n",
       "    <tr>\n",
       "      <th>497</th>\n",
       "      <td>1497</td>\n",
       "      <td>Donte</td>\n",
       "      <td>Barrera</td>\n",
       "      <td>49</td>\n",
       "      <td>Los Angeles-Long Beach-Anaheim, CA MSA</td>\n",
       "      <td>2018-12-10</td>\n",
       "      <td>ultimate</td>\n",
       "      <td>NaT</td>\n",
       "      <td>True</td>\n",
       "    </tr>\n",
       "    <tr>\n",
       "      <th>498</th>\n",
       "      <td>1498</td>\n",
       "      <td>Scot</td>\n",
       "      <td>Williamson</td>\n",
       "      <td>51</td>\n",
       "      <td>New York-Newark-Jersey City, NY-NJ-PA MSA</td>\n",
       "      <td>2018-02-04</td>\n",
       "      <td>surf</td>\n",
       "      <td>NaT</td>\n",
       "      <td>True</td>\n",
       "    </tr>\n",
       "    <tr>\n",
       "      <th>499</th>\n",
       "      <td>1499</td>\n",
       "      <td>Shena</td>\n",
       "      <td>Dickson</td>\n",
       "      <td>37</td>\n",
       "      <td>Orlando-Kissimmee-Sanford, FL MSA</td>\n",
       "      <td>2018-05-06</td>\n",
       "      <td>surf</td>\n",
       "      <td>NaT</td>\n",
       "      <td>True</td>\n",
       "    </tr>\n",
       "  </tbody>\n",
       "</table>\n",
       "<p>500 rows × 9 columns</p>\n",
       "</div>"
      ],
      "text/plain": [
       "     user_id first_name   last_name  age  \\\n",
       "0       1000   Anamaria       Bauer   45   \n",
       "1       1001     Mickey   Wilkerson   28   \n",
       "2       1002     Carlee     Hoffman   36   \n",
       "3       1003   Reynaldo     Jenkins   52   \n",
       "4       1004    Leonila    Thompson   40   \n",
       "..       ...        ...         ...  ...   \n",
       "495     1495      Fidel      Sharpe   67   \n",
       "496     1496      Ariel    Shepherd   49   \n",
       "497     1497      Donte     Barrera   49   \n",
       "498     1498       Scot  Williamson   51   \n",
       "499     1499      Shena     Dickson   37   \n",
       "\n",
       "                                          city   reg_date      plan  \\\n",
       "0        Atlanta-Sandy Springs-Roswell, GA MSA 2018-12-24  ultimate   \n",
       "1              Seattle-Tacoma-Bellevue, WA MSA 2018-08-13      surf   \n",
       "2         Las Vegas-Henderson-Paradise, NV MSA 2018-10-21      surf   \n",
       "3                                Tulsa, OK MSA 2018-01-28      surf   \n",
       "4              Seattle-Tacoma-Bellevue, WA MSA 2018-05-23      surf   \n",
       "..                                         ...        ...       ...   \n",
       "495  New York-Newark-Jersey City, NY-NJ-PA MSA 2018-09-04      surf   \n",
       "496               New Orleans-Metairie, LA MSA 2018-02-20      surf   \n",
       "497     Los Angeles-Long Beach-Anaheim, CA MSA 2018-12-10  ultimate   \n",
       "498  New York-Newark-Jersey City, NY-NJ-PA MSA 2018-02-04      surf   \n",
       "499          Orlando-Kissimmee-Sanford, FL MSA 2018-05-06      surf   \n",
       "\n",
       "    churn_date  is_active  \n",
       "0          NaT       True  \n",
       "1          NaT       True  \n",
       "2          NaT       True  \n",
       "3          NaT       True  \n",
       "4          NaT       True  \n",
       "..         ...        ...  \n",
       "495        NaT       True  \n",
       "496        NaT       True  \n",
       "497        NaT       True  \n",
       "498        NaT       True  \n",
       "499        NaT       True  \n",
       "\n",
       "[500 rows x 9 columns]"
      ]
     },
     "execution_count": 8,
     "metadata": {},
     "output_type": "execute_result"
    }
   ],
   "source": [
    "df_users['reg_date'] = pd.to_datetime(df_users['reg_date'], format='%Y-%m-%d')\n",
    "df_users['churn_date'] = pd.to_datetime(df_users['churn_date'])\n",
    "df_users"
   ]
  },
  {
   "cell_type": "code",
   "execution_count": 9,
   "metadata": {
    "trusted": false
   },
   "outputs": [
    {
     "data": {
      "text/plain": [
       "0"
      ]
     },
     "execution_count": 9,
     "metadata": {},
     "output_type": "execute_result"
    }
   ],
   "source": [
    "df_users.duplicated().sum()"
   ]
  },
  {
   "cell_type": "markdown",
   "metadata": {},
   "source": [
    "### Enrich Data"
   ]
  },
  {
   "cell_type": "markdown",
   "metadata": {},
   "source": [
    "Additional column added in to show current active users. Changed reg_date and churn_date to datetime values. No further action needed for this df."
   ]
  },
  {
   "cell_type": "markdown",
   "metadata": {},
   "source": [
    "## Calls"
   ]
  },
  {
   "cell_type": "code",
   "execution_count": 48,
   "metadata": {
    "trusted": false
   },
   "outputs": [
    {
     "name": "stdout",
     "output_type": "stream",
     "text": [
      "<class 'pandas.core.frame.DataFrame'>\n",
      "RangeIndex: 137735 entries, 0 to 137734\n",
      "Data columns (total 5 columns):\n",
      " #   Column     Non-Null Count   Dtype         \n",
      "---  ------     --------------   -----         \n",
      " 0   id         137735 non-null  object        \n",
      " 1   user_id    137735 non-null  int64         \n",
      " 2   call_date  137735 non-null  datetime64[ns]\n",
      " 3   duration   137735 non-null  float64       \n",
      " 4   month      137735 non-null  period[M]     \n",
      "dtypes: datetime64[ns](1), float64(1), int64(1), object(1), period[M](1)\n",
      "memory usage: 5.3+ MB\n"
     ]
    },
    {
     "data": {
      "text/html": [
       "<div>\n",
       "<style scoped>\n",
       "    .dataframe tbody tr th:only-of-type {\n",
       "        vertical-align: middle;\n",
       "    }\n",
       "\n",
       "    .dataframe tbody tr th {\n",
       "        vertical-align: top;\n",
       "    }\n",
       "\n",
       "    .dataframe thead th {\n",
       "        text-align: right;\n",
       "    }\n",
       "</style>\n",
       "<table border=\"1\" class=\"dataframe\">\n",
       "  <thead>\n",
       "    <tr style=\"text-align: right;\">\n",
       "      <th></th>\n",
       "      <th>id</th>\n",
       "      <th>user_id</th>\n",
       "      <th>call_date</th>\n",
       "      <th>duration</th>\n",
       "      <th>month</th>\n",
       "    </tr>\n",
       "  </thead>\n",
       "  <tbody>\n",
       "    <tr>\n",
       "      <th>0</th>\n",
       "      <td>1000_93</td>\n",
       "      <td>1000</td>\n",
       "      <td>2018-12-27</td>\n",
       "      <td>9.0</td>\n",
       "      <td>2018-12</td>\n",
       "    </tr>\n",
       "    <tr>\n",
       "      <th>1</th>\n",
       "      <td>1000_145</td>\n",
       "      <td>1000</td>\n",
       "      <td>2018-12-27</td>\n",
       "      <td>14.0</td>\n",
       "      <td>2018-12</td>\n",
       "    </tr>\n",
       "    <tr>\n",
       "      <th>2</th>\n",
       "      <td>1000_247</td>\n",
       "      <td>1000</td>\n",
       "      <td>2018-12-27</td>\n",
       "      <td>15.0</td>\n",
       "      <td>2018-12</td>\n",
       "    </tr>\n",
       "    <tr>\n",
       "      <th>3</th>\n",
       "      <td>1000_309</td>\n",
       "      <td>1000</td>\n",
       "      <td>2018-12-28</td>\n",
       "      <td>6.0</td>\n",
       "      <td>2018-12</td>\n",
       "    </tr>\n",
       "    <tr>\n",
       "      <th>4</th>\n",
       "      <td>1000_380</td>\n",
       "      <td>1000</td>\n",
       "      <td>2018-12-30</td>\n",
       "      <td>5.0</td>\n",
       "      <td>2018-12</td>\n",
       "    </tr>\n",
       "    <tr>\n",
       "      <th>...</th>\n",
       "      <td>...</td>\n",
       "      <td>...</td>\n",
       "      <td>...</td>\n",
       "      <td>...</td>\n",
       "      <td>...</td>\n",
       "    </tr>\n",
       "    <tr>\n",
       "      <th>137730</th>\n",
       "      <td>1499_199</td>\n",
       "      <td>1499</td>\n",
       "      <td>2018-11-21</td>\n",
       "      <td>9.0</td>\n",
       "      <td>2018-11</td>\n",
       "    </tr>\n",
       "    <tr>\n",
       "      <th>137731</th>\n",
       "      <td>1499_200</td>\n",
       "      <td>1499</td>\n",
       "      <td>2018-10-20</td>\n",
       "      <td>11.0</td>\n",
       "      <td>2018-10</td>\n",
       "    </tr>\n",
       "    <tr>\n",
       "      <th>137732</th>\n",
       "      <td>1499_201</td>\n",
       "      <td>1499</td>\n",
       "      <td>2018-09-21</td>\n",
       "      <td>9.0</td>\n",
       "      <td>2018-09</td>\n",
       "    </tr>\n",
       "    <tr>\n",
       "      <th>137733</th>\n",
       "      <td>1499_202</td>\n",
       "      <td>1499</td>\n",
       "      <td>2018-10-10</td>\n",
       "      <td>1.0</td>\n",
       "      <td>2018-10</td>\n",
       "    </tr>\n",
       "    <tr>\n",
       "      <th>137734</th>\n",
       "      <td>1499_203</td>\n",
       "      <td>1499</td>\n",
       "      <td>2018-12-29</td>\n",
       "      <td>14.0</td>\n",
       "      <td>2018-12</td>\n",
       "    </tr>\n",
       "  </tbody>\n",
       "</table>\n",
       "<p>137735 rows × 5 columns</p>\n",
       "</div>"
      ],
      "text/plain": [
       "              id  user_id  call_date  duration    month\n",
       "0        1000_93     1000 2018-12-27       9.0  2018-12\n",
       "1       1000_145     1000 2018-12-27      14.0  2018-12\n",
       "2       1000_247     1000 2018-12-27      15.0  2018-12\n",
       "3       1000_309     1000 2018-12-28       6.0  2018-12\n",
       "4       1000_380     1000 2018-12-30       5.0  2018-12\n",
       "...          ...      ...        ...       ...      ...\n",
       "137730  1499_199     1499 2018-11-21       9.0  2018-11\n",
       "137731  1499_200     1499 2018-10-20      11.0  2018-10\n",
       "137732  1499_201     1499 2018-09-21       9.0  2018-09\n",
       "137733  1499_202     1499 2018-10-10       1.0  2018-10\n",
       "137734  1499_203     1499 2018-12-29      14.0  2018-12\n",
       "\n",
       "[137735 rows x 5 columns]"
      ]
     },
     "metadata": {},
     "output_type": "display_data"
    },
    {
     "data": {
      "text/plain": [
       "0"
      ]
     },
     "execution_count": 48,
     "metadata": {},
     "output_type": "execute_result"
    }
   ],
   "source": [
    "# Print the general/summary information about the calls' DataFrame\n",
    "df_calls.info()\n",
    "display(df_calls)\n",
    "df_calls.duplicated().sum()\n"
   ]
  },
  {
   "cell_type": "code",
   "execution_count": 11,
   "metadata": {
    "trusted": false
   },
   "outputs": [
    {
     "data": {
      "text/html": [
       "<div>\n",
       "<style scoped>\n",
       "    .dataframe tbody tr th:only-of-type {\n",
       "        vertical-align: middle;\n",
       "    }\n",
       "\n",
       "    .dataframe tbody tr th {\n",
       "        vertical-align: top;\n",
       "    }\n",
       "\n",
       "    .dataframe thead th {\n",
       "        text-align: right;\n",
       "    }\n",
       "</style>\n",
       "<table border=\"1\" class=\"dataframe\">\n",
       "  <thead>\n",
       "    <tr style=\"text-align: right;\">\n",
       "      <th></th>\n",
       "      <th>id</th>\n",
       "      <th>user_id</th>\n",
       "      <th>call_date</th>\n",
       "      <th>duration</th>\n",
       "    </tr>\n",
       "  </thead>\n",
       "  <tbody>\n",
       "    <tr>\n",
       "      <th>1785</th>\n",
       "      <td>1009_207</td>\n",
       "      <td>1009</td>\n",
       "      <td>2018-11-16</td>\n",
       "      <td>0.00</td>\n",
       "    </tr>\n",
       "    <tr>\n",
       "      <th>87964</th>\n",
       "      <td>1324_5</td>\n",
       "      <td>1324</td>\n",
       "      <td>2018-08-01</td>\n",
       "      <td>4.10</td>\n",
       "    </tr>\n",
       "    <tr>\n",
       "      <th>94903</th>\n",
       "      <td>1336_840</td>\n",
       "      <td>1336</td>\n",
       "      <td>2018-06-06</td>\n",
       "      <td>14.46</td>\n",
       "    </tr>\n",
       "    <tr>\n",
       "      <th>116216</th>\n",
       "      <td>1406_442</td>\n",
       "      <td>1406</td>\n",
       "      <td>2018-11-29</td>\n",
       "      <td>4.26</td>\n",
       "    </tr>\n",
       "    <tr>\n",
       "      <th>22836</th>\n",
       "      <td>1082_1001</td>\n",
       "      <td>1082</td>\n",
       "      <td>2018-09-23</td>\n",
       "      <td>6.60</td>\n",
       "    </tr>\n",
       "    <tr>\n",
       "      <th>121091</th>\n",
       "      <td>1424_109</td>\n",
       "      <td>1424</td>\n",
       "      <td>2018-12-31</td>\n",
       "      <td>6.83</td>\n",
       "    </tr>\n",
       "    <tr>\n",
       "      <th>84508</th>\n",
       "      <td>1312_0</td>\n",
       "      <td>1312</td>\n",
       "      <td>2018-10-10</td>\n",
       "      <td>11.30</td>\n",
       "    </tr>\n",
       "    <tr>\n",
       "      <th>127017</th>\n",
       "      <td>1454_7</td>\n",
       "      <td>1454</td>\n",
       "      <td>2018-08-07</td>\n",
       "      <td>14.97</td>\n",
       "    </tr>\n",
       "    <tr>\n",
       "      <th>19393</th>\n",
       "      <td>1073_232</td>\n",
       "      <td>1073</td>\n",
       "      <td>2018-07-29</td>\n",
       "      <td>9.37</td>\n",
       "    </tr>\n",
       "    <tr>\n",
       "      <th>23290</th>\n",
       "      <td>1085_82</td>\n",
       "      <td>1085</td>\n",
       "      <td>2018-11-07</td>\n",
       "      <td>1.02</td>\n",
       "    </tr>\n",
       "  </tbody>\n",
       "</table>\n",
       "</div>"
      ],
      "text/plain": [
       "               id  user_id   call_date  duration\n",
       "1785     1009_207     1009  2018-11-16      0.00\n",
       "87964      1324_5     1324  2018-08-01      4.10\n",
       "94903    1336_840     1336  2018-06-06     14.46\n",
       "116216   1406_442     1406  2018-11-29      4.26\n",
       "22836   1082_1001     1082  2018-09-23      6.60\n",
       "121091   1424_109     1424  2018-12-31      6.83\n",
       "84508      1312_0     1312  2018-10-10     11.30\n",
       "127017     1454_7     1454  2018-08-07     14.97\n",
       "19393    1073_232     1073  2018-07-29      9.37\n",
       "23290     1085_82     1085  2018-11-07      1.02"
      ]
     },
     "execution_count": 11,
     "metadata": {},
     "output_type": "execute_result"
    }
   ],
   "source": [
    "# Print a sample of data for calls\n",
    "df_calls.sample(10)\n"
   ]
  },
  {
   "cell_type": "markdown",
   "metadata": {},
   "source": [
    "[Describe what you see and notice in the general information and the printed data sample for the above price of data. Are there any issues (inappropriate data types, missing data etc) that may need further investigation and changes? How that can be fixed?]"
   ]
  },
  {
   "cell_type": "markdown",
   "metadata": {},
   "source": [
    "df appears to have missing information in regards to call duration as some calls appear to have a 0.00 duration. Based off parameters of the project these calls would have no impact on total min allotment as they were >0.01"
   ]
  },
  {
   "cell_type": "markdown",
   "metadata": {},
   "source": [
    " "
   ]
  },
  {
   "cell_type": "markdown",
   "metadata": {},
   "source": [
    "### Fix data"
   ]
  },
  {
   "cell_type": "markdown",
   "metadata": {},
   "source": [
    "[Fix obvious issues with the data given the initial observations.]"
   ]
  },
  {
   "cell_type": "code",
   "execution_count": 12,
   "metadata": {
    "scrolled": true,
    "trusted": false
   },
   "outputs": [
    {
     "name": "stdout",
     "output_type": "stream",
     "text": [
      "<class 'pandas.core.frame.DataFrame'>\n",
      "RangeIndex: 137735 entries, 0 to 137734\n",
      "Data columns (total 4 columns):\n",
      " #   Column     Non-Null Count   Dtype         \n",
      "---  ------     --------------   -----         \n",
      " 0   id         137735 non-null  object        \n",
      " 1   user_id    137735 non-null  int64         \n",
      " 2   call_date  137735 non-null  datetime64[ns]\n",
      " 3   duration   137735 non-null  float64       \n",
      "dtypes: datetime64[ns](1), float64(1), int64(1), object(1)\n",
      "memory usage: 4.2+ MB\n"
     ]
    }
   ],
   "source": [
    "df_calls['call_date'] = pd.to_datetime(df_calls['call_date'], format='%Y-%m-%d')\n",
    "df_calls.info()"
   ]
  },
  {
   "cell_type": "code",
   "execution_count": 13,
   "metadata": {
    "trusted": false
   },
   "outputs": [
    {
     "name": "stdout",
     "output_type": "stream",
     "text": [
      "Number of negative duration entries: 0\n",
      "Cleaning complete. Any negative durations left: False\n"
     ]
    }
   ],
   "source": [
    "# Find entries with negative duration\n",
    "negative_durations = df_calls['duration'] < 0\n",
    "\n",
    "# Count or review them\n",
    "print(f\"Number of negative duration entries: {negative_durations.sum()}\")\n",
    "\n",
    "# df_calls = df_calls[~negative_durations]\n",
    "\n",
    "# Check if cleaning is done\n",
    "print(\"Cleaning complete. Any negative durations left:\", (df_calls['duration'] < 0).any())"
   ]
  },
  {
   "cell_type": "code",
   "execution_count": 14,
   "metadata": {
    "trusted": false
   },
   "outputs": [],
   "source": [
    "import numpy as np \n",
    "df_calls.duration = np.ceil(df_calls.duration)"
   ]
  },
  {
   "cell_type": "code",
   "execution_count": 15,
   "metadata": {
    "trusted": false
   },
   "outputs": [
    {
     "data": {
      "text/html": [
       "<div>\n",
       "<style scoped>\n",
       "    .dataframe tbody tr th:only-of-type {\n",
       "        vertical-align: middle;\n",
       "    }\n",
       "\n",
       "    .dataframe tbody tr th {\n",
       "        vertical-align: top;\n",
       "    }\n",
       "\n",
       "    .dataframe thead th {\n",
       "        text-align: right;\n",
       "    }\n",
       "</style>\n",
       "<table border=\"1\" class=\"dataframe\">\n",
       "  <thead>\n",
       "    <tr style=\"text-align: right;\">\n",
       "      <th></th>\n",
       "      <th>id</th>\n",
       "      <th>user_id</th>\n",
       "      <th>call_date</th>\n",
       "      <th>duration</th>\n",
       "    </tr>\n",
       "  </thead>\n",
       "  <tbody>\n",
       "    <tr>\n",
       "      <th>0</th>\n",
       "      <td>1000_93</td>\n",
       "      <td>1000</td>\n",
       "      <td>2018-12-27</td>\n",
       "      <td>9.0</td>\n",
       "    </tr>\n",
       "    <tr>\n",
       "      <th>1</th>\n",
       "      <td>1000_145</td>\n",
       "      <td>1000</td>\n",
       "      <td>2018-12-27</td>\n",
       "      <td>14.0</td>\n",
       "    </tr>\n",
       "  </tbody>\n",
       "</table>\n",
       "</div>"
      ],
      "text/plain": [
       "         id  user_id  call_date  duration\n",
       "0   1000_93     1000 2018-12-27       9.0\n",
       "1  1000_145     1000 2018-12-27      14.0"
      ]
     },
     "execution_count": 15,
     "metadata": {},
     "output_type": "execute_result"
    }
   ],
   "source": [
    "df_calls.head(2)"
   ]
  },
  {
   "cell_type": "markdown",
   "metadata": {},
   "source": [
    "### Enrich data"
   ]
  },
  {
   "cell_type": "markdown",
   "metadata": {},
   "source": [
    "Changed call_date to datetime dtype. Checked for negative call durations, total number is zero. No further corrections needed for this df."
   ]
  },
  {
   "cell_type": "markdown",
   "metadata": {},
   "source": [
    "## Messages"
   ]
  },
  {
   "cell_type": "code",
   "execution_count": 49,
   "metadata": {
    "trusted": false
   },
   "outputs": [
    {
     "name": "stdout",
     "output_type": "stream",
     "text": [
      "<class 'pandas.core.frame.DataFrame'>\n",
      "Int64Index: 33243 entries, 0 to 76045\n",
      "Data columns (total 4 columns):\n",
      " #   Column        Non-Null Count  Dtype         \n",
      "---  ------        --------------  -----         \n",
      " 0   id            33243 non-null  object        \n",
      " 1   user_id       33243 non-null  int64         \n",
      " 2   message_date  33243 non-null  datetime64[ns]\n",
      " 3   month         33243 non-null  period[M]     \n",
      "dtypes: datetime64[ns](1), int64(1), object(1), period[M](1)\n",
      "memory usage: 1.3+ MB\n"
     ]
    },
    {
     "data": {
      "text/plain": [
       "0"
      ]
     },
     "execution_count": 49,
     "metadata": {},
     "output_type": "execute_result"
    }
   ],
   "source": [
    "# Print the general/summary information about the messages' DataFrame\n",
    "df_messages.info()\n",
    "df_messages.duplicated().sum()"
   ]
  },
  {
   "cell_type": "code",
   "execution_count": 17,
   "metadata": {
    "trusted": false
   },
   "outputs": [
    {
     "data": {
      "text/html": [
       "<div>\n",
       "<style scoped>\n",
       "    .dataframe tbody tr th:only-of-type {\n",
       "        vertical-align: middle;\n",
       "    }\n",
       "\n",
       "    .dataframe tbody tr th {\n",
       "        vertical-align: top;\n",
       "    }\n",
       "\n",
       "    .dataframe thead th {\n",
       "        text-align: right;\n",
       "    }\n",
       "</style>\n",
       "<table border=\"1\" class=\"dataframe\">\n",
       "  <thead>\n",
       "    <tr style=\"text-align: right;\">\n",
       "      <th></th>\n",
       "      <th>id</th>\n",
       "      <th>user_id</th>\n",
       "      <th>message_date</th>\n",
       "    </tr>\n",
       "  </thead>\n",
       "  <tbody>\n",
       "    <tr>\n",
       "      <th>6770</th>\n",
       "      <td>1057_94</td>\n",
       "      <td>1057</td>\n",
       "      <td>2018-10-23</td>\n",
       "    </tr>\n",
       "    <tr>\n",
       "      <th>63952</th>\n",
       "      <td>1408_77</td>\n",
       "      <td>1408</td>\n",
       "      <td>2018-04-13</td>\n",
       "    </tr>\n",
       "    <tr>\n",
       "      <th>36631</th>\n",
       "      <td>1244_63</td>\n",
       "      <td>1244</td>\n",
       "      <td>2018-11-07</td>\n",
       "    </tr>\n",
       "    <tr>\n",
       "      <th>50871</th>\n",
       "      <td>1331_46</td>\n",
       "      <td>1331</td>\n",
       "      <td>2018-12-02</td>\n",
       "    </tr>\n",
       "    <tr>\n",
       "      <th>12089</th>\n",
       "      <td>1080_92</td>\n",
       "      <td>1080</td>\n",
       "      <td>2018-09-01</td>\n",
       "    </tr>\n",
       "    <tr>\n",
       "      <th>10851</th>\n",
       "      <td>1077_122</td>\n",
       "      <td>1077</td>\n",
       "      <td>2018-04-16</td>\n",
       "    </tr>\n",
       "    <tr>\n",
       "      <th>66721</th>\n",
       "      <td>1434_255</td>\n",
       "      <td>1434</td>\n",
       "      <td>2018-09-14</td>\n",
       "    </tr>\n",
       "    <tr>\n",
       "      <th>11366</th>\n",
       "      <td>1077_637</td>\n",
       "      <td>1077</td>\n",
       "      <td>2018-11-08</td>\n",
       "    </tr>\n",
       "    <tr>\n",
       "      <th>12371</th>\n",
       "      <td>1081_121</td>\n",
       "      <td>1081</td>\n",
       "      <td>2018-09-13</td>\n",
       "    </tr>\n",
       "    <tr>\n",
       "      <th>75913</th>\n",
       "      <td>1494_151</td>\n",
       "      <td>1494</td>\n",
       "      <td>2018-07-25</td>\n",
       "    </tr>\n",
       "  </tbody>\n",
       "</table>\n",
       "</div>"
      ],
      "text/plain": [
       "             id  user_id message_date\n",
       "6770    1057_94     1057   2018-10-23\n",
       "63952   1408_77     1408   2018-04-13\n",
       "36631   1244_63     1244   2018-11-07\n",
       "50871   1331_46     1331   2018-12-02\n",
       "12089   1080_92     1080   2018-09-01\n",
       "10851  1077_122     1077   2018-04-16\n",
       "66721  1434_255     1434   2018-09-14\n",
       "11366  1077_637     1077   2018-11-08\n",
       "12371  1081_121     1081   2018-09-13\n",
       "75913  1494_151     1494   2018-07-25"
      ]
     },
     "execution_count": 17,
     "metadata": {},
     "output_type": "execute_result"
    }
   ],
   "source": [
    "# Print a sample of data for messages\n",
    "df_messages.sample(10)\n"
   ]
  },
  {
   "cell_type": "markdown",
   "metadata": {},
   "source": [
    "### Fix data"
   ]
  },
  {
   "cell_type": "code",
   "execution_count": 18,
   "metadata": {
    "scrolled": true,
    "trusted": false
   },
   "outputs": [
    {
     "name": "stdout",
     "output_type": "stream",
     "text": [
      "<class 'pandas.core.frame.DataFrame'>\n",
      "RangeIndex: 76051 entries, 0 to 76050\n",
      "Data columns (total 3 columns):\n",
      " #   Column        Non-Null Count  Dtype         \n",
      "---  ------        --------------  -----         \n",
      " 0   id            76051 non-null  object        \n",
      " 1   user_id       76051 non-null  int64         \n",
      " 2   message_date  76051 non-null  datetime64[ns]\n",
      "dtypes: datetime64[ns](1), int64(1), object(1)\n",
      "memory usage: 1.7+ MB\n"
     ]
    }
   ],
   "source": [
    "df_messages['message_date'] = pd.to_datetime(df_messages['message_date'], format='%Y-%m-%d')\n",
    "df_messages.info()"
   ]
  },
  {
   "cell_type": "code",
   "execution_count": 19,
   "metadata": {
    "trusted": false
   },
   "outputs": [
    {
     "name": "stdout",
     "output_type": "stream",
     "text": [
      "Number of duplicate message IDs: 0\n",
      "Number of duplicate message entries: 42808\n",
      "Duplicates handling complete. Any duplicates left: False\n"
     ]
    }
   ],
   "source": [
    "# Check for duplicates in the 'id' column\n",
    "duplicate_ids = df_messages.duplicated(subset='id').sum()\n",
    "print(f\"Number of duplicate message IDs: {duplicate_ids}\")\n",
    "\n",
    "# Option 1: Drop duplicates based on 'id'\n",
    "df_messages = df_messages.drop_duplicates(subset='id')\n",
    "\n",
    "# Option 2: If you suspect aggregation is needed, you might inspect other columns as well\n",
    "# For instance, you could check duplicates across 'user_id' and 'message_date' for unusual repetition:\n",
    "duplicate_entries = df_messages.duplicated(subset=['user_id', 'message_date']).sum()\n",
    "print(f\"Number of duplicate message entries: {duplicate_entries}\")\n",
    "\n",
    "# If required, drop those as well\n",
    "df_messages = df_messages.drop_duplicates(subset=['user_id', 'message_date'])\n",
    "\n",
    "# Check\n",
    "print(\"Duplicates handling complete. Any duplicates left:\", df_messages.duplicated(subset='id').any())"
   ]
  },
  {
   "cell_type": "markdown",
   "metadata": {},
   "source": [
    "### Enrich data"
   ]
  },
  {
   "cell_type": "markdown",
   "metadata": {},
   "source": [
    "## Internet"
   ]
  },
  {
   "cell_type": "code",
   "execution_count": 47,
   "metadata": {
    "trusted": false
   },
   "outputs": [
    {
     "name": "stdout",
     "output_type": "stream",
     "text": [
      "<class 'pandas.core.frame.DataFrame'>\n",
      "Int64Index: 91078 entries, 0 to 104824\n",
      "Data columns (total 6 columns):\n",
      " #   Column        Non-Null Count  Dtype         \n",
      "---  ------        --------------  -----         \n",
      " 0   id            91078 non-null  object        \n",
      " 1   user_id       91078 non-null  int64         \n",
      " 2   session_date  91078 non-null  datetime64[ns]\n",
      " 3   mb_used       91078 non-null  float64       \n",
      " 4   gb_used       91078 non-null  float64       \n",
      " 5   month         91078 non-null  period[M]     \n",
      "dtypes: datetime64[ns](1), float64(2), int64(1), object(1), period[M](1)\n",
      "memory usage: 4.9+ MB\n"
     ]
    },
    {
     "data": {
      "text/plain": [
       "0"
      ]
     },
     "execution_count": 47,
     "metadata": {},
     "output_type": "execute_result"
    }
   ],
   "source": [
    "# Print the general/summary information about the internet DataFrame\n",
    "df_internet.info()\n",
    "df_internet.duplicated().sum()"
   ]
  },
  {
   "cell_type": "code",
   "execution_count": 21,
   "metadata": {
    "trusted": false
   },
   "outputs": [
    {
     "data": {
      "text/html": [
       "<div>\n",
       "<style scoped>\n",
       "    .dataframe tbody tr th:only-of-type {\n",
       "        vertical-align: middle;\n",
       "    }\n",
       "\n",
       "    .dataframe tbody tr th {\n",
       "        vertical-align: top;\n",
       "    }\n",
       "\n",
       "    .dataframe thead th {\n",
       "        text-align: right;\n",
       "    }\n",
       "</style>\n",
       "<table border=\"1\" class=\"dataframe\">\n",
       "  <thead>\n",
       "    <tr style=\"text-align: right;\">\n",
       "      <th></th>\n",
       "      <th>id</th>\n",
       "      <th>user_id</th>\n",
       "      <th>session_date</th>\n",
       "      <th>mb_used</th>\n",
       "    </tr>\n",
       "  </thead>\n",
       "  <tbody>\n",
       "    <tr>\n",
       "      <th>55590</th>\n",
       "      <td>1251_401</td>\n",
       "      <td>1251</td>\n",
       "      <td>2018-05-28</td>\n",
       "      <td>520.91</td>\n",
       "    </tr>\n",
       "    <tr>\n",
       "      <th>40895</th>\n",
       "      <td>1183_86</td>\n",
       "      <td>1183</td>\n",
       "      <td>2018-12-06</td>\n",
       "      <td>375.10</td>\n",
       "    </tr>\n",
       "    <tr>\n",
       "      <th>28688</th>\n",
       "      <td>1132_54</td>\n",
       "      <td>1132</td>\n",
       "      <td>2018-08-20</td>\n",
       "      <td>687.74</td>\n",
       "    </tr>\n",
       "    <tr>\n",
       "      <th>64285</th>\n",
       "      <td>1295_147</td>\n",
       "      <td>1295</td>\n",
       "      <td>2018-10-18</td>\n",
       "      <td>403.25</td>\n",
       "    </tr>\n",
       "    <tr>\n",
       "      <th>56098</th>\n",
       "      <td>1253_162</td>\n",
       "      <td>1253</td>\n",
       "      <td>2018-10-07</td>\n",
       "      <td>430.82</td>\n",
       "    </tr>\n",
       "    <tr>\n",
       "      <th>54111</th>\n",
       "      <td>1246_12</td>\n",
       "      <td>1246</td>\n",
       "      <td>2018-02-26</td>\n",
       "      <td>671.77</td>\n",
       "    </tr>\n",
       "    <tr>\n",
       "      <th>19390</th>\n",
       "      <td>1088_94</td>\n",
       "      <td>1088</td>\n",
       "      <td>2018-12-31</td>\n",
       "      <td>336.21</td>\n",
       "    </tr>\n",
       "    <tr>\n",
       "      <th>7201</th>\n",
       "      <td>1041_41</td>\n",
       "      <td>1041</td>\n",
       "      <td>2018-11-27</td>\n",
       "      <td>0.00</td>\n",
       "    </tr>\n",
       "    <tr>\n",
       "      <th>41769</th>\n",
       "      <td>1185_806</td>\n",
       "      <td>1185</td>\n",
       "      <td>2018-02-03</td>\n",
       "      <td>641.01</td>\n",
       "    </tr>\n",
       "    <tr>\n",
       "      <th>5415</th>\n",
       "      <td>1030_14</td>\n",
       "      <td>1030</td>\n",
       "      <td>2018-10-29</td>\n",
       "      <td>532.41</td>\n",
       "    </tr>\n",
       "  </tbody>\n",
       "</table>\n",
       "</div>"
      ],
      "text/plain": [
       "             id  user_id session_date  mb_used\n",
       "55590  1251_401     1251   2018-05-28   520.91\n",
       "40895   1183_86     1183   2018-12-06   375.10\n",
       "28688   1132_54     1132   2018-08-20   687.74\n",
       "64285  1295_147     1295   2018-10-18   403.25\n",
       "56098  1253_162     1253   2018-10-07   430.82\n",
       "54111   1246_12     1246   2018-02-26   671.77\n",
       "19390   1088_94     1088   2018-12-31   336.21\n",
       "7201    1041_41     1041   2018-11-27     0.00\n",
       "41769  1185_806     1185   2018-02-03   641.01\n",
       "5415    1030_14     1030   2018-10-29   532.41"
      ]
     },
     "execution_count": 21,
     "metadata": {},
     "output_type": "execute_result"
    }
   ],
   "source": [
    "# Print a sample of data for the internet traffic\n",
    "df_internet.sample(10)\n"
   ]
  },
  {
   "cell_type": "markdown",
   "metadata": {},
   "source": [
    "[Describe what you see and notice in the general information and the printed data sample for the above price of data. Are there any issues (inappropriate data types, missing data etc) that may need further investigation and changes? How that can be fixed?]"
   ]
  },
  {
   "cell_type": "markdown",
   "metadata": {},
   "source": [
    "Appears that the df contains missing information in regards to mb_used for certain sessions. "
   ]
  },
  {
   "cell_type": "markdown",
   "metadata": {},
   "source": [
    "### Fix data"
   ]
  },
  {
   "cell_type": "code",
   "execution_count": 22,
   "metadata": {
    "trusted": false
   },
   "outputs": [],
   "source": [
    "df_internet['session_date'] = pd.to_datetime(df_internet['session_date'], format='%Y-%m-%d')\n"
   ]
  },
  {
   "cell_type": "code",
   "execution_count": 23,
   "metadata": {
    "trusted": false
   },
   "outputs": [
    {
     "name": "stdout",
     "output_type": "stream",
     "text": [
      "Number of entries with non-positive MB usage: 13747\n",
      "count    91078.000000\n",
      "mean       422.064206\n",
      "std        255.063501\n",
      "min          0.010000\n",
      "25%        223.380000\n",
      "50%        395.905000\n",
      "75%        588.367500\n",
      "max       1693.470000\n",
      "Name: mb_used, dtype: float64\n",
      "Number of potential outliers (above 1097.8791999999999 MB): 911\n"
     ]
    },
    {
     "data": {
      "image/png": "[encoded data removed]",
      "text/plain": [
       "<Figure size 640x480 with 1 Axes>"
      ]
     },
     "metadata": {},
     "output_type": "display_data"
    }
   ],
   "source": [
    "# Check for non-negative and zero values\n",
    "negative_or_zero_mb = (df_internet['mb_used'] <= 0).sum()\n",
    "print(f\"Number of entries with non-positive MB usage: {negative_or_zero_mb}\")\n",
    "\n",
    "# Option 1: Remove rows with non-positive MB usage, if they are errors\n",
    "df_internet = df_internet[df_internet['mb_used'] > 0]\n",
    "\n",
    "# Check for unusually high values\n",
    "# First, get some statistics to understand typical usage\n",
    "print(df_internet['mb_used'].describe())\n",
    "\n",
    "# Option 2: Define a sensible upper limit based on your domain knowledge or statistical analysis\n",
    "# For example, consider anything above the 99th percentile as potential outliers\n",
    "upper_limit = df_internet['mb_used'].quantile(0.99)\n",
    "outliers = (df_internet['mb_used'] > upper_limit).sum()\n",
    "print(f\"Number of potential outliers (above {upper_limit} MB): {outliers}\")\n",
    "\n",
    "# Decide on a strategy: investigate, cap, or review these outliers\n",
    "\n",
    "# Another check: Plotting could help visualize distributions\n",
    "import matplotlib.pyplot as plt\n",
    "df_internet['mb_used'].plot(kind='box')\n",
    "plt.show()"
   ]
  },
  {
   "cell_type": "markdown",
   "metadata": {},
   "source": [
    "### Enrich data"
   ]
  },
  {
   "cell_type": "markdown",
   "metadata": {},
   "source": [
    "[Add additional factors to the data if you believe they might be useful.]"
   ]
  },
  {
   "cell_type": "code",
   "execution_count": 24,
   "metadata": {
    "trusted": false
   },
   "outputs": [
    {
     "data": {
      "text/html": [
       "<div>\n",
       "<style scoped>\n",
       "    .dataframe tbody tr th:only-of-type {\n",
       "        vertical-align: middle;\n",
       "    }\n",
       "\n",
       "    .dataframe tbody tr th {\n",
       "        vertical-align: top;\n",
       "    }\n",
       "\n",
       "    .dataframe thead th {\n",
       "        text-align: right;\n",
       "    }\n",
       "</style>\n",
       "<table border=\"1\" class=\"dataframe\">\n",
       "  <thead>\n",
       "    <tr style=\"text-align: right;\">\n",
       "      <th></th>\n",
       "      <th>id</th>\n",
       "      <th>user_id</th>\n",
       "      <th>session_date</th>\n",
       "      <th>mb_used</th>\n",
       "      <th>gb_used</th>\n",
       "    </tr>\n",
       "  </thead>\n",
       "  <tbody>\n",
       "    <tr>\n",
       "      <th>0</th>\n",
       "      <td>1000_13</td>\n",
       "      <td>1000</td>\n",
       "      <td>2018-12-29</td>\n",
       "      <td>89.86</td>\n",
       "      <td>1.0</td>\n",
       "    </tr>\n",
       "    <tr>\n",
       "      <th>2</th>\n",
       "      <td>1000_379</td>\n",
       "      <td>1000</td>\n",
       "      <td>2018-12-28</td>\n",
       "      <td>660.40</td>\n",
       "      <td>1.0</td>\n",
       "    </tr>\n",
       "  </tbody>\n",
       "</table>\n",
       "</div>"
      ],
      "text/plain": [
       "         id  user_id session_date  mb_used  gb_used\n",
       "0   1000_13     1000   2018-12-29    89.86      1.0\n",
       "2  1000_379     1000   2018-12-28   660.40      1.0"
      ]
     },
     "execution_count": 24,
     "metadata": {},
     "output_type": "execute_result"
    }
   ],
   "source": [
    "df_internet[\"gb_used\"] = np.ceil(df_internet.mb_used / 1024)\n",
    "df_internet.head(2)"
   ]
  },
  {
   "cell_type": "markdown",
   "metadata": {},
   "source": [
    "## Study plan conditions"
   ]
  },
  {
   "cell_type": "markdown",
   "metadata": {},
   "source": [
    "[It is critical to understand how the plans work, how users are charged based on their plan subscription. So, we suggest printing out the plan information to view their conditions once again.]"
   ]
  },
  {
   "cell_type": "markdown",
   "metadata": {},
   "source": [
    "Description of the plans\n",
    "Note: Megaline rounds seconds up to minutes, and megabytes to gigabytes. For calls, each individual call is rounded up: even if the call lasted just one second, it will be counted as one minute. For web traffic, individual web sessions are not rounded up. Instead, the total for the month is rounded up. If someone uses 1025 megabytes this month, they will be charged for 2 gigabytes.\n",
    "\n",
    "Surf\n",
    "\n",
    "Monthly charge: 20.00 usd\n",
    "\n",
    "500 monthly minutes, 50 texts, and 15 GB of data\n",
    "\n",
    "After exceeding the package limits:\n",
    "1 minute: 3 cents\n",
    "1 text message: 3 cents\n",
    "1 GB of data: 10.00 usd\n",
    "\n",
    "Ultimate\n",
    "\n",
    "Monthly charge: 70.00 usd\n",
    "\n",
    "3000 monthly minutes, 1000 text messages, and 30 GB of data\n",
    "\n",
    "After exceeding the package limits:\n",
    "1 minute: 1 cent\n",
    "1 text message: 1 cent\n",
    "1 GB of data: 7.00 usd"
   ]
  },
  {
   "cell_type": "markdown",
   "metadata": {},
   "source": [
    "## Aggregate data per user\n",
    "\n",
    "[Now, as the data is clean, aggregate data per user per period in order to have just one record per user per period. It should ease the further analysis a lot.]"
   ]
  },
  {
   "cell_type": "code",
   "execution_count": 25,
   "metadata": {
    "trusted": false
   },
   "outputs": [],
   "source": [
    "# Convert call_date, message_date, and session_date to datetime if not already\n",
    "df_calls['call_date'] = pd.to_datetime(df_calls['call_date'])\n",
    "df_messages['message_date'] = pd.to_datetime(df_messages['message_date'])\n",
    "df_internet['session_date'] = pd.to_datetime(df_internet['session_date'])\n",
    "\n",
    "# Extract month and year for grouping\n",
    "df_calls['month'] = df_calls['call_date'].dt.to_period('M')\n",
    "df_messages['month'] = df_messages['message_date'].dt.to_period('M')\n",
    "df_internet['month'] = df_internet['session_date'].dt.to_period('M')\n",
    "\n",
    "# Aggregate data\n",
    "calls_per_user = df_calls.groupby(['user_id', 'month'])['duration'].sum().reset_index()\n",
    "messages_per_user = df_messages.groupby(['user_id', 'month'])['id'].count().reset_index()\n",
    "internet_per_user = df_internet.groupby(['user_id', 'month'])['mb_used'].sum().reset_index()\n",
    "\n"
   ]
  },
  {
   "cell_type": "code",
   "execution_count": 26,
   "metadata": {
    "trusted": false
   },
   "outputs": [
    {
     "data": {
      "text/html": [
       "<div>\n",
       "<style scoped>\n",
       "    .dataframe tbody tr th:only-of-type {\n",
       "        vertical-align: middle;\n",
       "    }\n",
       "\n",
       "    .dataframe tbody tr th {\n",
       "        vertical-align: top;\n",
       "    }\n",
       "\n",
       "    .dataframe thead th {\n",
       "        text-align: right;\n",
       "    }\n",
       "</style>\n",
       "<table border=\"1\" class=\"dataframe\">\n",
       "  <thead>\n",
       "    <tr style=\"text-align: right;\">\n",
       "      <th></th>\n",
       "      <th></th>\n",
       "      <th>id</th>\n",
       "      <th>call_date</th>\n",
       "      <th>duration</th>\n",
       "    </tr>\n",
       "    <tr>\n",
       "      <th>user_id</th>\n",
       "      <th>month</th>\n",
       "      <th></th>\n",
       "      <th></th>\n",
       "      <th></th>\n",
       "    </tr>\n",
       "  </thead>\n",
       "  <tbody>\n",
       "    <tr>\n",
       "      <th>1000</th>\n",
       "      <th>2018-12</th>\n",
       "      <td>16</td>\n",
       "      <td>16</td>\n",
       "      <td>16</td>\n",
       "    </tr>\n",
       "    <tr>\n",
       "      <th rowspan=\"4\" valign=\"top\">1001</th>\n",
       "      <th>2018-08</th>\n",
       "      <td>27</td>\n",
       "      <td>27</td>\n",
       "      <td>27</td>\n",
       "    </tr>\n",
       "    <tr>\n",
       "      <th>2018-09</th>\n",
       "      <td>49</td>\n",
       "      <td>49</td>\n",
       "      <td>49</td>\n",
       "    </tr>\n",
       "    <tr>\n",
       "      <th>2018-10</th>\n",
       "      <td>65</td>\n",
       "      <td>65</td>\n",
       "      <td>65</td>\n",
       "    </tr>\n",
       "    <tr>\n",
       "      <th>2018-11</th>\n",
       "      <td>64</td>\n",
       "      <td>64</td>\n",
       "      <td>64</td>\n",
       "    </tr>\n",
       "    <tr>\n",
       "      <th>...</th>\n",
       "      <th>...</th>\n",
       "      <td>...</td>\n",
       "      <td>...</td>\n",
       "      <td>...</td>\n",
       "    </tr>\n",
       "    <tr>\n",
       "      <th>1498</th>\n",
       "      <th>2018-12</th>\n",
       "      <td>39</td>\n",
       "      <td>39</td>\n",
       "      <td>39</td>\n",
       "    </tr>\n",
       "    <tr>\n",
       "      <th rowspan=\"4\" valign=\"top\">1499</th>\n",
       "      <th>2018-09</th>\n",
       "      <td>41</td>\n",
       "      <td>41</td>\n",
       "      <td>41</td>\n",
       "    </tr>\n",
       "    <tr>\n",
       "      <th>2018-10</th>\n",
       "      <td>53</td>\n",
       "      <td>53</td>\n",
       "      <td>53</td>\n",
       "    </tr>\n",
       "    <tr>\n",
       "      <th>2018-11</th>\n",
       "      <td>45</td>\n",
       "      <td>45</td>\n",
       "      <td>45</td>\n",
       "    </tr>\n",
       "    <tr>\n",
       "      <th>2018-12</th>\n",
       "      <td>65</td>\n",
       "      <td>65</td>\n",
       "      <td>65</td>\n",
       "    </tr>\n",
       "  </tbody>\n",
       "</table>\n",
       "<p>2258 rows × 3 columns</p>\n",
       "</div>"
      ],
      "text/plain": [
       "                 id  call_date  duration\n",
       "user_id month                           \n",
       "1000    2018-12  16         16        16\n",
       "1001    2018-08  27         27        27\n",
       "        2018-09  49         49        49\n",
       "        2018-10  65         65        65\n",
       "        2018-11  64         64        64\n",
       "...              ..        ...       ...\n",
       "1498    2018-12  39         39        39\n",
       "1499    2018-09  41         41        41\n",
       "        2018-10  53         53        53\n",
       "        2018-11  45         45        45\n",
       "        2018-12  65         65        65\n",
       "\n",
       "[2258 rows x 3 columns]"
      ]
     },
     "execution_count": 26,
     "metadata": {},
     "output_type": "execute_result"
    }
   ],
   "source": [
    "# Calculate the number of calls\n",
    "calls_per_user = df_calls.groupby(['user_id', 'month']).count()\n",
    "calls_per_user"
   ]
  },
  {
   "cell_type": "code",
   "execution_count": 27,
   "metadata": {
    "trusted": false
   },
   "outputs": [
    {
     "data": {
      "text/html": [
       "<div>\n",
       "<style scoped>\n",
       "    .dataframe tbody tr th:only-of-type {\n",
       "        vertical-align: middle;\n",
       "    }\n",
       "\n",
       "    .dataframe tbody tr th {\n",
       "        vertical-align: top;\n",
       "    }\n",
       "\n",
       "    .dataframe thead th {\n",
       "        text-align: right;\n",
       "    }\n",
       "</style>\n",
       "<table border=\"1\" class=\"dataframe\">\n",
       "  <thead>\n",
       "    <tr style=\"text-align: right;\">\n",
       "      <th></th>\n",
       "      <th>user_id</th>\n",
       "      <th>month</th>\n",
       "      <th>duration</th>\n",
       "    </tr>\n",
       "  </thead>\n",
       "  <tbody>\n",
       "    <tr>\n",
       "      <th>0</th>\n",
       "      <td>1000</td>\n",
       "      <td>2018-12</td>\n",
       "      <td>124.0</td>\n",
       "    </tr>\n",
       "    <tr>\n",
       "      <th>1</th>\n",
       "      <td>1001</td>\n",
       "      <td>2018-08</td>\n",
       "      <td>182.0</td>\n",
       "    </tr>\n",
       "    <tr>\n",
       "      <th>2</th>\n",
       "      <td>1001</td>\n",
       "      <td>2018-09</td>\n",
       "      <td>315.0</td>\n",
       "    </tr>\n",
       "    <tr>\n",
       "      <th>3</th>\n",
       "      <td>1001</td>\n",
       "      <td>2018-10</td>\n",
       "      <td>393.0</td>\n",
       "    </tr>\n",
       "    <tr>\n",
       "      <th>4</th>\n",
       "      <td>1001</td>\n",
       "      <td>2018-11</td>\n",
       "      <td>426.0</td>\n",
       "    </tr>\n",
       "    <tr>\n",
       "      <th>...</th>\n",
       "      <td>...</td>\n",
       "      <td>...</td>\n",
       "      <td>...</td>\n",
       "    </tr>\n",
       "    <tr>\n",
       "      <th>2253</th>\n",
       "      <td>1498</td>\n",
       "      <td>2018-12</td>\n",
       "      <td>339.0</td>\n",
       "    </tr>\n",
       "    <tr>\n",
       "      <th>2254</th>\n",
       "      <td>1499</td>\n",
       "      <td>2018-09</td>\n",
       "      <td>346.0</td>\n",
       "    </tr>\n",
       "    <tr>\n",
       "      <th>2255</th>\n",
       "      <td>1499</td>\n",
       "      <td>2018-10</td>\n",
       "      <td>385.0</td>\n",
       "    </tr>\n",
       "    <tr>\n",
       "      <th>2256</th>\n",
       "      <td>1499</td>\n",
       "      <td>2018-11</td>\n",
       "      <td>308.0</td>\n",
       "    </tr>\n",
       "    <tr>\n",
       "      <th>2257</th>\n",
       "      <td>1499</td>\n",
       "      <td>2018-12</td>\n",
       "      <td>496.0</td>\n",
       "    </tr>\n",
       "  </tbody>\n",
       "</table>\n",
       "<p>2258 rows × 3 columns</p>\n",
       "</div>"
      ],
      "text/plain": [
       "      user_id    month  duration\n",
       "0        1000  2018-12     124.0\n",
       "1        1001  2018-08     182.0\n",
       "2        1001  2018-09     315.0\n",
       "3        1001  2018-10     393.0\n",
       "4        1001  2018-11     426.0\n",
       "...       ...      ...       ...\n",
       "2253     1498  2018-12     339.0\n",
       "2254     1499  2018-09     346.0\n",
       "2255     1499  2018-10     385.0\n",
       "2256     1499  2018-11     308.0\n",
       "2257     1499  2018-12     496.0\n",
       "\n",
       "[2258 rows x 3 columns]"
      ]
     },
     "execution_count": 27,
     "metadata": {},
     "output_type": "execute_result"
    }
   ],
   "source": [
    "# Calculate the total minutes\n",
    "minutes_per_user = df_calls.groupby(['user_id', 'month'])['duration'].sum().reset_index()\n",
    "minutes_per_user"
   ]
  },
  {
   "cell_type": "code",
   "execution_count": 28,
   "metadata": {
    "trusted": false
   },
   "outputs": [
    {
     "data": {
      "text/html": [
       "<div>\n",
       "<style scoped>\n",
       "    .dataframe tbody tr th:only-of-type {\n",
       "        vertical-align: middle;\n",
       "    }\n",
       "\n",
       "    .dataframe tbody tr th {\n",
       "        vertical-align: top;\n",
       "    }\n",
       "\n",
       "    .dataframe thead th {\n",
       "        text-align: right;\n",
       "    }\n",
       "</style>\n",
       "<table border=\"1\" class=\"dataframe\">\n",
       "  <thead>\n",
       "    <tr style=\"text-align: right;\">\n",
       "      <th></th>\n",
       "      <th>user_id</th>\n",
       "      <th>month</th>\n",
       "      <th>messages_count</th>\n",
       "    </tr>\n",
       "  </thead>\n",
       "  <tbody>\n",
       "    <tr>\n",
       "      <th>0</th>\n",
       "      <td>1000</td>\n",
       "      <td>2018-12</td>\n",
       "      <td>7</td>\n",
       "    </tr>\n",
       "    <tr>\n",
       "      <th>1</th>\n",
       "      <td>1001</td>\n",
       "      <td>2018-08</td>\n",
       "      <td>14</td>\n",
       "    </tr>\n",
       "    <tr>\n",
       "      <th>2</th>\n",
       "      <td>1001</td>\n",
       "      <td>2018-09</td>\n",
       "      <td>23</td>\n",
       "    </tr>\n",
       "    <tr>\n",
       "      <th>3</th>\n",
       "      <td>1001</td>\n",
       "      <td>2018-10</td>\n",
       "      <td>25</td>\n",
       "    </tr>\n",
       "    <tr>\n",
       "      <th>4</th>\n",
       "      <td>1001</td>\n",
       "      <td>2018-11</td>\n",
       "      <td>19</td>\n",
       "    </tr>\n",
       "    <tr>\n",
       "      <th>...</th>\n",
       "      <td>...</td>\n",
       "      <td>...</td>\n",
       "      <td>...</td>\n",
       "    </tr>\n",
       "    <tr>\n",
       "      <th>1801</th>\n",
       "      <td>1496</td>\n",
       "      <td>2018-09</td>\n",
       "      <td>17</td>\n",
       "    </tr>\n",
       "    <tr>\n",
       "      <th>1802</th>\n",
       "      <td>1496</td>\n",
       "      <td>2018-10</td>\n",
       "      <td>14</td>\n",
       "    </tr>\n",
       "    <tr>\n",
       "      <th>1803</th>\n",
       "      <td>1496</td>\n",
       "      <td>2018-11</td>\n",
       "      <td>10</td>\n",
       "    </tr>\n",
       "    <tr>\n",
       "      <th>1804</th>\n",
       "      <td>1496</td>\n",
       "      <td>2018-12</td>\n",
       "      <td>10</td>\n",
       "    </tr>\n",
       "    <tr>\n",
       "      <th>1805</th>\n",
       "      <td>1497</td>\n",
       "      <td>2018-12</td>\n",
       "      <td>20</td>\n",
       "    </tr>\n",
       "  </tbody>\n",
       "</table>\n",
       "<p>1806 rows × 3 columns</p>\n",
       "</div>"
      ],
      "text/plain": [
       "      user_id    month  messages_count\n",
       "0        1000  2018-12               7\n",
       "1        1001  2018-08              14\n",
       "2        1001  2018-09              23\n",
       "3        1001  2018-10              25\n",
       "4        1001  2018-11              19\n",
       "...       ...      ...             ...\n",
       "1801     1496  2018-09              17\n",
       "1802     1496  2018-10              14\n",
       "1803     1496  2018-11              10\n",
       "1804     1496  2018-12              10\n",
       "1805     1497  2018-12              20\n",
       "\n",
       "[1806 rows x 3 columns]"
      ]
     },
     "execution_count": 28,
     "metadata": {},
     "output_type": "execute_result"
    }
   ],
   "source": [
    "# Calculate the total messages\n",
    "messages_per_user = df_messages.groupby(['user_id', 'month'])['id'].count().reset_index()\n",
    "\n",
    "# Rename columns for clarity\n",
    "messages_per_user.rename(columns={'id': 'messages_count'}, inplace=True)\n",
    "\n",
    "messages_per_user"
   ]
  },
  {
   "cell_type": "code",
   "execution_count": 29,
   "metadata": {
    "trusted": false
   },
   "outputs": [
    {
     "data": {
      "text/html": [
       "<div>\n",
       "<style scoped>\n",
       "    .dataframe tbody tr th:only-of-type {\n",
       "        vertical-align: middle;\n",
       "    }\n",
       "\n",
       "    .dataframe tbody tr th {\n",
       "        vertical-align: top;\n",
       "    }\n",
       "\n",
       "    .dataframe thead th {\n",
       "        text-align: right;\n",
       "    }\n",
       "</style>\n",
       "<table border=\"1\" class=\"dataframe\">\n",
       "  <thead>\n",
       "    <tr style=\"text-align: right;\">\n",
       "      <th></th>\n",
       "      <th>user_id</th>\n",
       "      <th>month</th>\n",
       "      <th>mb_used</th>\n",
       "    </tr>\n",
       "  </thead>\n",
       "  <tbody>\n",
       "    <tr>\n",
       "      <th>0</th>\n",
       "      <td>1000</td>\n",
       "      <td>2018-12</td>\n",
       "      <td>1901.47</td>\n",
       "    </tr>\n",
       "    <tr>\n",
       "      <th>1</th>\n",
       "      <td>1001</td>\n",
       "      <td>2018-08</td>\n",
       "      <td>6919.15</td>\n",
       "    </tr>\n",
       "    <tr>\n",
       "      <th>2</th>\n",
       "      <td>1001</td>\n",
       "      <td>2018-09</td>\n",
       "      <td>13314.82</td>\n",
       "    </tr>\n",
       "    <tr>\n",
       "      <th>3</th>\n",
       "      <td>1001</td>\n",
       "      <td>2018-10</td>\n",
       "      <td>22330.49</td>\n",
       "    </tr>\n",
       "    <tr>\n",
       "      <th>4</th>\n",
       "      <td>1001</td>\n",
       "      <td>2018-11</td>\n",
       "      <td>18504.30</td>\n",
       "    </tr>\n",
       "    <tr>\n",
       "      <th>...</th>\n",
       "      <td>...</td>\n",
       "      <td>...</td>\n",
       "      <td>...</td>\n",
       "    </tr>\n",
       "    <tr>\n",
       "      <th>2272</th>\n",
       "      <td>1498</td>\n",
       "      <td>2018-12</td>\n",
       "      <td>23137.69</td>\n",
       "    </tr>\n",
       "    <tr>\n",
       "      <th>2273</th>\n",
       "      <td>1499</td>\n",
       "      <td>2018-09</td>\n",
       "      <td>12984.76</td>\n",
       "    </tr>\n",
       "    <tr>\n",
       "      <th>2274</th>\n",
       "      <td>1499</td>\n",
       "      <td>2018-10</td>\n",
       "      <td>19492.43</td>\n",
       "    </tr>\n",
       "    <tr>\n",
       "      <th>2275</th>\n",
       "      <td>1499</td>\n",
       "      <td>2018-11</td>\n",
       "      <td>16813.83</td>\n",
       "    </tr>\n",
       "    <tr>\n",
       "      <th>2276</th>\n",
       "      <td>1499</td>\n",
       "      <td>2018-12</td>\n",
       "      <td>22059.21</td>\n",
       "    </tr>\n",
       "  </tbody>\n",
       "</table>\n",
       "<p>2277 rows × 3 columns</p>\n",
       "</div>"
      ],
      "text/plain": [
       "      user_id    month   mb_used\n",
       "0        1000  2018-12   1901.47\n",
       "1        1001  2018-08   6919.15\n",
       "2        1001  2018-09  13314.82\n",
       "3        1001  2018-10  22330.49\n",
       "4        1001  2018-11  18504.30\n",
       "...       ...      ...       ...\n",
       "2272     1498  2018-12  23137.69\n",
       "2273     1499  2018-09  12984.76\n",
       "2274     1499  2018-10  19492.43\n",
       "2275     1499  2018-11  16813.83\n",
       "2276     1499  2018-12  22059.21\n",
       "\n",
       "[2277 rows x 3 columns]"
      ]
     },
     "execution_count": 29,
     "metadata": {},
     "output_type": "execute_result"
    }
   ],
   "source": [
    "# Calculate the volume of internet traffic used by each user per month. Save the result.\n",
    "internet_per_user = df_internet.groupby(['user_id', 'month'])['mb_used'].sum().reset_index()\n",
    "internet_per_user"
   ]
  },
  {
   "cell_type": "code",
   "execution_count": 30,
   "metadata": {
    "trusted": false
   },
   "outputs": [
    {
     "data": {
      "text/html": [
       "<div>\n",
       "<style scoped>\n",
       "    .dataframe tbody tr th:only-of-type {\n",
       "        vertical-align: middle;\n",
       "    }\n",
       "\n",
       "    .dataframe tbody tr th {\n",
       "        vertical-align: top;\n",
       "    }\n",
       "\n",
       "    .dataframe thead th {\n",
       "        text-align: right;\n",
       "    }\n",
       "</style>\n",
       "<table border=\"1\" class=\"dataframe\">\n",
       "  <thead>\n",
       "    <tr style=\"text-align: right;\">\n",
       "      <th></th>\n",
       "      <th>user_id</th>\n",
       "      <th>month</th>\n",
       "      <th>id</th>\n",
       "      <th>call_date</th>\n",
       "      <th>duration_x</th>\n",
       "      <th>messages_count</th>\n",
       "      <th>mb_used</th>\n",
       "      <th>duration_y</th>\n",
       "    </tr>\n",
       "  </thead>\n",
       "  <tbody>\n",
       "    <tr>\n",
       "      <th>0</th>\n",
       "      <td>1000</td>\n",
       "      <td>2018-12</td>\n",
       "      <td>16.0</td>\n",
       "      <td>16.0</td>\n",
       "      <td>16.0</td>\n",
       "      <td>7.0</td>\n",
       "      <td>1901.47</td>\n",
       "      <td>124.0</td>\n",
       "    </tr>\n",
       "    <tr>\n",
       "      <th>1</th>\n",
       "      <td>1001</td>\n",
       "      <td>2018-08</td>\n",
       "      <td>27.0</td>\n",
       "      <td>27.0</td>\n",
       "      <td>27.0</td>\n",
       "      <td>14.0</td>\n",
       "      <td>6919.15</td>\n",
       "      <td>182.0</td>\n",
       "    </tr>\n",
       "    <tr>\n",
       "      <th>2</th>\n",
       "      <td>1001</td>\n",
       "      <td>2018-09</td>\n",
       "      <td>49.0</td>\n",
       "      <td>49.0</td>\n",
       "      <td>49.0</td>\n",
       "      <td>23.0</td>\n",
       "      <td>13314.82</td>\n",
       "      <td>315.0</td>\n",
       "    </tr>\n",
       "    <tr>\n",
       "      <th>3</th>\n",
       "      <td>1001</td>\n",
       "      <td>2018-10</td>\n",
       "      <td>65.0</td>\n",
       "      <td>65.0</td>\n",
       "      <td>65.0</td>\n",
       "      <td>25.0</td>\n",
       "      <td>22330.49</td>\n",
       "      <td>393.0</td>\n",
       "    </tr>\n",
       "    <tr>\n",
       "      <th>4</th>\n",
       "      <td>1001</td>\n",
       "      <td>2018-11</td>\n",
       "      <td>64.0</td>\n",
       "      <td>64.0</td>\n",
       "      <td>64.0</td>\n",
       "      <td>19.0</td>\n",
       "      <td>18504.30</td>\n",
       "      <td>426.0</td>\n",
       "    </tr>\n",
       "  </tbody>\n",
       "</table>\n",
       "</div>"
      ],
      "text/plain": [
       "   user_id    month    id  call_date  duration_x  messages_count   mb_used  \\\n",
       "0     1000  2018-12  16.0       16.0        16.0             7.0   1901.47   \n",
       "1     1001  2018-08  27.0       27.0        27.0            14.0   6919.15   \n",
       "2     1001  2018-09  49.0       49.0        49.0            23.0  13314.82   \n",
       "3     1001  2018-10  65.0       65.0        65.0            25.0  22330.49   \n",
       "4     1001  2018-11  64.0       64.0        64.0            19.0  18504.30   \n",
       "\n",
       "   duration_y  \n",
       "0       124.0  \n",
       "1       182.0  \n",
       "2       315.0  \n",
       "3       393.0  \n",
       "4       426.0  "
      ]
     },
     "metadata": {},
     "output_type": "display_data"
    }
   ],
   "source": [
    "# Merge the data for calls, minutes, messages, internet based on user_id and month\n",
    "\n",
    "# Merge calls and messages data\n",
    "merged_data = pd.merge(calls_per_user, messages_per_user, on=['user_id', 'month'], how='outer')\n",
    "\n",
    "# Merge the result with internet data\n",
    "merged_data = pd.merge(merged_data, internet_per_user, on=['user_id', 'month'], how='outer')\n",
    "\n",
    "# Merge the result with minutes data\n",
    "merged_data = pd.merge(merged_data, minutes_per_user, on=['user_id', 'month'], how='outer')\n",
    "\n",
    "# Display the merged data\n",
    "display(merged_data.head())\n"
   ]
  },
  {
   "cell_type": "code",
   "execution_count": 31,
   "metadata": {
    "trusted": false
   },
   "outputs": [
    {
     "name": "stdout",
     "output_type": "stream",
     "text": [
      "   user_id    month    id  call_date  duration_x  messages_count   mb_used  \\\n",
      "0     1000  2018-12  16.0       16.0        16.0             7.0   1901.47   \n",
      "1     1001  2018-08  27.0       27.0        27.0            14.0   6919.15   \n",
      "2     1001  2018-09  49.0       49.0        49.0            23.0  13314.82   \n",
      "3     1001  2018-10  65.0       65.0        65.0            25.0  22330.49   \n",
      "4     1001  2018-11  64.0       64.0        64.0            19.0  18504.30   \n",
      "\n",
      "   duration_y      plan                                   city  \\\n",
      "0       124.0  ultimate  Atlanta-Sandy Springs-Roswell, GA MSA   \n",
      "1       182.0      surf        Seattle-Tacoma-Bellevue, WA MSA   \n",
      "2       315.0      surf        Seattle-Tacoma-Bellevue, WA MSA   \n",
      "3       393.0      surf        Seattle-Tacoma-Bellevue, WA MSA   \n",
      "4       426.0      surf        Seattle-Tacoma-Bellevue, WA MSA   \n",
      "\n",
      "   messages_included  mb_per_month_included  minutes_included  \\\n",
      "0               1000                  30720              3000   \n",
      "1                 50                  15360               500   \n",
      "2                 50                  15360               500   \n",
      "3                 50                  15360               500   \n",
      "4                 50                  15360               500   \n",
      "\n",
      "   usd_monthly_pay  usd_per_gb  usd_per_message  usd_per_minute plan_name  \n",
      "0               70           7             0.01            0.01  ultimate  \n",
      "1               20          10             0.03            0.03      surf  \n",
      "2               20          10             0.03            0.03      surf  \n",
      "3               20          10             0.03            0.03      surf  \n",
      "4               20          10             0.03            0.03      surf  \n"
     ]
    }
   ],
   "source": [
    "# Add the plan information\n",
    "\n",
    "# Merge with user plan information\n",
    "final_data = pd.merge(merged_data, df_users[['user_id', 'plan', 'city']], on='user_id', how='left')\n",
    "\n",
    "# If there's another DataFrame with plan details, add it to get plan specifics\n",
    "# Assuming df_plans contains details about the plans (plan name, monthly limits, etc.)\n",
    "final_data = pd.merge(final_data, df_plans, left_on='plan', right_on='plan_name', how='left')\n",
    "\n",
    "# Display the final data with the plan information\n",
    "print(final_data.head())\n"
   ]
  },
  {
   "cell_type": "code",
   "execution_count": 32,
   "metadata": {
    "trusted": false
   },
   "outputs": [
    {
     "name": "stdout",
     "output_type": "stream",
     "text": [
      "   user_id    month  monthly_revenue\n",
      "0     1000  2018-12        70.000000\n",
      "1     1001  2018-08        20.000000\n",
      "2     1001  2018-09        20.000000\n",
      "3     1001  2018-10        88.071191\n",
      "4     1001  2018-11        50.706055\n"
     ]
    }
   ],
   "source": [
    "# Calculate the monthly revenue for each user\n",
    "# Define a function to calculate monthly revenue\n",
    "def calculate_revenue(row):\n",
    "    # Define the plan details\n",
    "    plans = {\n",
    "        'surf': {\n",
    "            'monthly_fee': 20,\n",
    "            'minutes_included': 500,\n",
    "            'texts_included': 50,\n",
    "            'data_included_gb': 15,\n",
    "            'extra_minute_cost': 0.03,\n",
    "            'extra_text_cost': 0.03,\n",
    "            'extra_gb_cost': 10\n",
    "        },\n",
    "        'ultimate': {\n",
    "            'monthly_fee': 70,\n",
    "            'minutes_included': 3000,\n",
    "            'texts_included': 1000,\n",
    "            'data_included_gb': 30,\n",
    "            'extra_minute_cost': 0.01,\n",
    "            'extra_text_cost': 0.01,\n",
    "            'extra_gb_cost': 7\n",
    "        }\n",
    "    }\n",
    "    \n",
    "    # Get the user's plan details\n",
    "    plan = plans[row['plan']]\n",
    "    \n",
    "    # Calculate excess usage\n",
    "    extra_minutes = max(0, row['duration_x'] - plan['minutes_included'])\n",
    "    extra_texts = max(0, row['messages_count'] - plan['texts_included'])\n",
    "    extra_data_gb = max(0, (row['mb_used'] / 1024) - plan['data_included_gb'])\n",
    "\n",
    "    # Calculate charges\n",
    "    extra_minute_charge = extra_minutes * plan['extra_minute_cost']\n",
    "    extra_text_charge = extra_texts * plan['extra_text_cost']\n",
    "    extra_data_charge = extra_data_gb * plan['extra_gb_cost']\n",
    "\n",
    "    # Total revenue\n",
    "    total_revenue = plan['monthly_fee'] + extra_minute_charge + extra_text_charge + extra_data_charge\n",
    "    \n",
    "    return total_revenue\n",
    "\n",
    "# Apply the function to calculate revenue for each user\n",
    "final_data['monthly_revenue'] = final_data.apply(calculate_revenue, axis=1)\n",
    "\n",
    "# Display the final DataFrame with calculated revenue\n",
    "print(final_data[['user_id', 'month', 'monthly_revenue']].head())"
   ]
  },
  {
   "cell_type": "markdown",
   "metadata": {},
   "source": [
    "## Study user behaviour"
   ]
  },
  {
   "cell_type": "markdown",
   "metadata": {},
   "source": [
    "[Calculate some useful descriptive statistics for the aggregated and merged data, which typically reveal an overall picture captured by the data. Draw useful plots to help the understanding. Given that the main task is to compare the plans and decide on which one is more profitable, the statistics and the plots should be calculated on a per-plan basis.]\n",
    "\n",
    "[There are relevant hints in the comments for Calls but they are not provided for Messages and Internet though the principle of statistical study is the same for them as for Calls.]"
   ]
  },
  {
   "cell_type": "markdown",
   "metadata": {},
   "source": [
    "### Calls"
   ]
  },
  {
   "cell_type": "code",
   "execution_count": 33,
   "metadata": {
    "scrolled": false,
    "trusted": false
   },
   "outputs": [
    {
     "data": {
      "text/html": [
       "<div>\n",
       "<style scoped>\n",
       "    .dataframe tbody tr th:only-of-type {\n",
       "        vertical-align: middle;\n",
       "    }\n",
       "\n",
       "    .dataframe tbody tr th {\n",
       "        vertical-align: top;\n",
       "    }\n",
       "\n",
       "    .dataframe thead th {\n",
       "        text-align: right;\n",
       "    }\n",
       "</style>\n",
       "<table border=\"1\" class=\"dataframe\">\n",
       "  <thead>\n",
       "    <tr style=\"text-align: right;\">\n",
       "      <th></th>\n",
       "      <th>user_id</th>\n",
       "      <th>month</th>\n",
       "      <th>id</th>\n",
       "      <th>call_date</th>\n",
       "      <th>duration_x</th>\n",
       "      <th>messages_count</th>\n",
       "      <th>mb_used</th>\n",
       "      <th>duration_y</th>\n",
       "      <th>plan</th>\n",
       "      <th>city</th>\n",
       "      <th>messages_included</th>\n",
       "      <th>mb_per_month_included</th>\n",
       "      <th>minutes_included</th>\n",
       "      <th>usd_monthly_pay</th>\n",
       "      <th>usd_per_gb</th>\n",
       "      <th>usd_per_message</th>\n",
       "      <th>usd_per_minute</th>\n",
       "      <th>plan_name</th>\n",
       "      <th>monthly_revenue</th>\n",
       "    </tr>\n",
       "  </thead>\n",
       "  <tbody>\n",
       "    <tr>\n",
       "      <th>0</th>\n",
       "      <td>1000</td>\n",
       "      <td>2018-12</td>\n",
       "      <td>16.0</td>\n",
       "      <td>16.0</td>\n",
       "      <td>16.0</td>\n",
       "      <td>7.0</td>\n",
       "      <td>1901.47</td>\n",
       "      <td>124.0</td>\n",
       "      <td>ultimate</td>\n",
       "      <td>Atlanta-Sandy Springs-Roswell, GA MSA</td>\n",
       "      <td>1000</td>\n",
       "      <td>30720</td>\n",
       "      <td>3000</td>\n",
       "      <td>70</td>\n",
       "      <td>7</td>\n",
       "      <td>0.01</td>\n",
       "      <td>0.01</td>\n",
       "      <td>ultimate</td>\n",
       "      <td>70.000000</td>\n",
       "    </tr>\n",
       "    <tr>\n",
       "      <th>1</th>\n",
       "      <td>1001</td>\n",
       "      <td>2018-08</td>\n",
       "      <td>27.0</td>\n",
       "      <td>27.0</td>\n",
       "      <td>27.0</td>\n",
       "      <td>14.0</td>\n",
       "      <td>6919.15</td>\n",
       "      <td>182.0</td>\n",
       "      <td>surf</td>\n",
       "      <td>Seattle-Tacoma-Bellevue, WA MSA</td>\n",
       "      <td>50</td>\n",
       "      <td>15360</td>\n",
       "      <td>500</td>\n",
       "      <td>20</td>\n",
       "      <td>10</td>\n",
       "      <td>0.03</td>\n",
       "      <td>0.03</td>\n",
       "      <td>surf</td>\n",
       "      <td>20.000000</td>\n",
       "    </tr>\n",
       "    <tr>\n",
       "      <th>2</th>\n",
       "      <td>1001</td>\n",
       "      <td>2018-09</td>\n",
       "      <td>49.0</td>\n",
       "      <td>49.0</td>\n",
       "      <td>49.0</td>\n",
       "      <td>23.0</td>\n",
       "      <td>13314.82</td>\n",
       "      <td>315.0</td>\n",
       "      <td>surf</td>\n",
       "      <td>Seattle-Tacoma-Bellevue, WA MSA</td>\n",
       "      <td>50</td>\n",
       "      <td>15360</td>\n",
       "      <td>500</td>\n",
       "      <td>20</td>\n",
       "      <td>10</td>\n",
       "      <td>0.03</td>\n",
       "      <td>0.03</td>\n",
       "      <td>surf</td>\n",
       "      <td>20.000000</td>\n",
       "    </tr>\n",
       "    <tr>\n",
       "      <th>3</th>\n",
       "      <td>1001</td>\n",
       "      <td>2018-10</td>\n",
       "      <td>65.0</td>\n",
       "      <td>65.0</td>\n",
       "      <td>65.0</td>\n",
       "      <td>25.0</td>\n",
       "      <td>22330.49</td>\n",
       "      <td>393.0</td>\n",
       "      <td>surf</td>\n",
       "      <td>Seattle-Tacoma-Bellevue, WA MSA</td>\n",
       "      <td>50</td>\n",
       "      <td>15360</td>\n",
       "      <td>500</td>\n",
       "      <td>20</td>\n",
       "      <td>10</td>\n",
       "      <td>0.03</td>\n",
       "      <td>0.03</td>\n",
       "      <td>surf</td>\n",
       "      <td>88.071191</td>\n",
       "    </tr>\n",
       "    <tr>\n",
       "      <th>4</th>\n",
       "      <td>1001</td>\n",
       "      <td>2018-11</td>\n",
       "      <td>64.0</td>\n",
       "      <td>64.0</td>\n",
       "      <td>64.0</td>\n",
       "      <td>19.0</td>\n",
       "      <td>18504.30</td>\n",
       "      <td>426.0</td>\n",
       "      <td>surf</td>\n",
       "      <td>Seattle-Tacoma-Bellevue, WA MSA</td>\n",
       "      <td>50</td>\n",
       "      <td>15360</td>\n",
       "      <td>500</td>\n",
       "      <td>20</td>\n",
       "      <td>10</td>\n",
       "      <td>0.03</td>\n",
       "      <td>0.03</td>\n",
       "      <td>surf</td>\n",
       "      <td>50.706055</td>\n",
       "    </tr>\n",
       "  </tbody>\n",
       "</table>\n",
       "</div>"
      ],
      "text/plain": [
       "   user_id    month    id  call_date  duration_x  messages_count   mb_used  \\\n",
       "0     1000  2018-12  16.0       16.0        16.0             7.0   1901.47   \n",
       "1     1001  2018-08  27.0       27.0        27.0            14.0   6919.15   \n",
       "2     1001  2018-09  49.0       49.0        49.0            23.0  13314.82   \n",
       "3     1001  2018-10  65.0       65.0        65.0            25.0  22330.49   \n",
       "4     1001  2018-11  64.0       64.0        64.0            19.0  18504.30   \n",
       "\n",
       "   duration_y      plan                                   city  \\\n",
       "0       124.0  ultimate  Atlanta-Sandy Springs-Roswell, GA MSA   \n",
       "1       182.0      surf        Seattle-Tacoma-Bellevue, WA MSA   \n",
       "2       315.0      surf        Seattle-Tacoma-Bellevue, WA MSA   \n",
       "3       393.0      surf        Seattle-Tacoma-Bellevue, WA MSA   \n",
       "4       426.0      surf        Seattle-Tacoma-Bellevue, WA MSA   \n",
       "\n",
       "   messages_included  mb_per_month_included  minutes_included  \\\n",
       "0               1000                  30720              3000   \n",
       "1                 50                  15360               500   \n",
       "2                 50                  15360               500   \n",
       "3                 50                  15360               500   \n",
       "4                 50                  15360               500   \n",
       "\n",
       "   usd_monthly_pay  usd_per_gb  usd_per_message  usd_per_minute plan_name  \\\n",
       "0               70           7             0.01            0.01  ultimate   \n",
       "1               20          10             0.03            0.03      surf   \n",
       "2               20          10             0.03            0.03      surf   \n",
       "3               20          10             0.03            0.03      surf   \n",
       "4               20          10             0.03            0.03      surf   \n",
       "\n",
       "   monthly_revenue  \n",
       "0        70.000000  \n",
       "1        20.000000  \n",
       "2        20.000000  \n",
       "3        88.071191  \n",
       "4        50.706055  "
      ]
     },
     "execution_count": 33,
     "metadata": {},
     "output_type": "execute_result"
    }
   ],
   "source": [
    "final_data.head(5)"
   ]
  },
  {
   "cell_type": "code",
   "execution_count": 34,
   "metadata": {
    "trusted": false
   },
   "outputs": [
    {
     "data": {
      "image/png": "[encoded data removed]",
      "text/plain": [
       "<Figure size 1200x600 with 1 Axes>"
      ]
     },
     "metadata": {},
     "output_type": "display_data"
    }
   ],
   "source": [
    "# Compare average duration of calls per each plan per each distinct month. Plot a bar plat to visualize it.\n",
    "import matplotlib.pyplot as plt\n",
    "\n",
    "# Ensure 'final_data' has necessary columns and correct data types\n",
    "final_data['month'] = final_data['month'].astype(str)  # Ensure 'month' is a string for plotting\n",
    "\n",
    "# Group by 'plan' and 'month' and calculate the average call duration\n",
    "avg_duration_per_plan = final_data.groupby(['plan', 'month'])['duration_x'].mean().reset_index()\n",
    "\n",
    "# Plotting\n",
    "plt.figure(figsize=(12, 6))\n",
    "for plan in avg_duration_per_plan['plan'].unique():\n",
    "    plan_data = avg_duration_per_plan[avg_duration_per_plan['plan'] == plan]\n",
    "    plt.bar(plan_data['month'], plan_data['duration_x'], label=f\"Plan: {plan}\")\n",
    "\n",
    "plt.xlabel('Month')\n",
    "plt.ylabel('Average Call Duration (minutes)')\n",
    "plt.title('Average Call Duration per Plan per Month')\n",
    "plt.legend()\n",
    "plt.xticks(rotation=45)\n",
    "plt.tight_layout()\n",
    "plt.show()\n"
   ]
  },
  {
   "cell_type": "code",
   "execution_count": 35,
   "metadata": {
    "trusted": false
   },
   "outputs": [
    {
     "name": "stdout",
     "output_type": "stream",
     "text": [
      "Mean and Variance of Call Duration by Plan:\n",
      "       plan       mean          var\n",
      "0      surf  60.895793   977.690559\n",
      "1  ultimate  61.221599  1079.470488\n"
     ]
    },
    {
     "data": {
      "image/png": "[encoded data removed]",
      "text/plain": [
       "<Figure size 1000x600 with 1 Axes>"
      ]
     },
     "metadata": {},
     "output_type": "display_data"
    }
   ],
   "source": [
    "# Compare the number of minutes users of each plan require each month. Plot a histogram.\n",
    "\n",
    "\n",
    "# Calculate mean and variance of call duration grouped by plan\n",
    "call_stats = final_data.groupby('plan')['duration_x'].agg(['mean', 'var']).reset_index()\n",
    "print(\"Mean and Variance of Call Duration by Plan:\")\n",
    "print(call_stats)\n",
    "\n",
    "# Plot histograms of call durations for each plan\n",
    "plt.figure(figsize=(10, 6))\n",
    "for plan in final_data['plan'].unique():\n",
    "    subset = final_data[final_data['plan'] == plan]['duration_x'].dropna()\n",
    "    plt.hist(subset, bins=30, alpha=0.5, label=f\"Plan: {plan}\")\n",
    "\n",
    "plt.title(\"Histogram of Call Durations by Plan\")\n",
    "plt.xlabel(\"Call Duration (minutes)\")\n",
    "plt.ylabel(\"Frequency\")\n",
    "plt.legend()\n",
    "plt.grid()\n",
    "plt.show()\n"
   ]
  },
  {
   "cell_type": "code",
   "execution_count": 36,
   "metadata": {
    "trusted": false
   },
   "outputs": [
    {
     "name": "stdout",
     "output_type": "stream",
     "text": [
      "Mean of monthly call duration: 60.07 minutes\n",
      "Variance of monthly call duration: 1049.93 minutes²\n"
     ]
    }
   ],
   "source": [
    "# Calculate the mean and the variance of the monthly call duration\n",
    "\n",
    "# Group data by user and month, then sum the call durations for each group\n",
    "monthly_call_durations = final_data.groupby(['user_id', 'month'])['duration_x'].sum()\n",
    "\n",
    "# Calculate the overall mean and variance of the monthly call durations\n",
    "mean_monthly_duration = monthly_call_durations.mean()\n",
    "var_monthly_duration = monthly_call_durations.var()\n",
    "\n",
    "print(f\"Mean of monthly call duration: {mean_monthly_duration:.2f} minutes\")\n",
    "print(f\"Variance of monthly call duration: {var_monthly_duration:.2f} minutes²\")\n"
   ]
  },
  {
   "cell_type": "code",
   "execution_count": 37,
   "metadata": {
    "trusted": false
   },
   "outputs": [
    {
     "data": {
      "image/png": "[encoded data removed]",
      "text/plain": [
       "<Figure size 1000x600 with 1 Axes>"
      ]
     },
     "metadata": {},
     "output_type": "display_data"
    }
   ],
   "source": [
    "# Plot a boxplot to visualize the distribution of the monthly call duration\n",
    "import seaborn as sns\n",
    "# Aggregate monthly call durations for each user\n",
    "monthly_call_duration = final_data.groupby(['user_id', 'month'])['duration_x'].sum().reset_index()\n",
    "\n",
    "# Plot a boxplot for the monthly call durations\n",
    "plt.figure(figsize=(10, 6))\n",
    "sns.boxplot(x=monthly_call_duration['duration_x'], orient='h', color='skyblue')\n",
    "\n",
    "plt.title(\"Boxplot of Monthly Call Duration\")\n",
    "plt.xlabel(\"Monthly Call Duration (minutes)\")\n",
    "plt.grid(axis='x')\n",
    "plt.show()\n"
   ]
  },
  {
   "cell_type": "markdown",
   "metadata": {},
   "source": [
    "Based on the data provided here, it would appear that the surf users have a similar call duration time as ultimate users with ultimate users having a slightly higher overall variance. The average call time for users on both plans is about 60 mins per call."
   ]
  },
  {
   "cell_type": "markdown",
   "metadata": {},
   "source": [
    "### Messages"
   ]
  },
  {
   "cell_type": "code",
   "execution_count": 38,
   "metadata": {
    "trusted": false
   },
   "outputs": [
    {
     "data": {
      "image/png": "[encoded data removed]",
      "text/plain": [
       "<Figure size 1200x600 with 1 Axes>"
      ]
     },
     "metadata": {},
     "output_type": "display_data"
    }
   ],
   "source": [
    "# Compare the number of messages users of each plan tend to send each month\n",
    "\n",
    "import matplotlib.pyplot as plt\n",
    "\n",
    "# Ensure 'final_data' has necessary columns and correct data types\n",
    "final_data['month'] = final_data['month'].astype(str)  # Ensure 'month' is a string for plotting\n",
    "\n",
    "# Group by 'plan' and 'month' and calculate the total number of messages\n",
    "messages_per_plan = final_data.groupby(['plan', 'month'])['messages_count'].mean().reset_index()\n",
    "\n",
    "# Plotting\n",
    "plt.figure(figsize=(12, 6))\n",
    "for plan in messages_per_plan['plan'].unique():\n",
    "    plan_data = messages_per_plan[messages_per_plan['plan'] == plan]\n",
    "    plt.plot(plan_data['month'], plan_data['messages_count'], marker='o', label=f\"Plan: {plan}\")\n",
    "\n",
    "plt.xlabel('Month')\n",
    "plt.ylabel('Average Number of Messages')\n",
    "plt.title('Average Number of Messages Sent per Plan per Month')\n",
    "plt.legend()\n",
    "plt.xticks(rotation=45)\n",
    "plt.tight_layout()\n",
    "plt.show()"
   ]
  },
  {
   "cell_type": "markdown",
   "metadata": {},
   "source": [
    "Based on this chart we can observe a higher message rate from users on the ultimate plan. We have two outlier months were the average messages per plan per user are almost identical (April and June)."
   ]
  },
  {
   "cell_type": "markdown",
   "metadata": {},
   "source": [
    "### Internet"
   ]
  },
  {
   "cell_type": "code",
   "execution_count": 40,
   "metadata": {
    "trusted": false
   },
   "outputs": [
    {
     "data": {
      "image/png": "[encoded data removed]",
      "text/plain": [
       "<Figure size 1200x600 with 1 Axes>"
      ]
     },
     "metadata": {},
     "output_type": "display_data"
    }
   ],
   "source": [
    "import matplotlib.pyplot as plt\n",
    "\n",
    "# Ensure the 'month' is in the right format for plotting\n",
    "final_data['month'] = final_data['month'].astype(str)\n",
    "\n",
    "# Group by 'plan' and 'month' and calculate the average internet usage in GB\n",
    "internet_usage_per_plan = final_data.groupby(['plan', 'month'])['mb_used'].mean().reset_index()\n",
    "internet_usage_per_plan['gb_used'] = internet_usage_per_plan['mb_used'] / 1024  # Convert MB to GB\n",
    "\n",
    "# Plotting\n",
    "plt.figure(figsize=(12, 6))\n",
    "for plan in internet_usage_per_plan['plan'].unique():\n",
    "    plan_data = internet_usage_per_plan[internet_usage_per_plan['plan'] == plan]\n",
    "    plt.plot(plan_data['month'], plan_data['gb_used'], marker='o', label=f\"Plan: {plan}\")\n",
    "\n",
    "plt.xlabel('Month')\n",
    "plt.ylabel('Average Internet Usage (GB)')\n",
    "plt.title('Average Internet Traffic per Plan per Month')\n",
    "plt.legend()\n",
    "plt.xticks(rotation=45)\n",
    "plt.tight_layout()\n",
    "plt.show()"
   ]
  },
  {
   "cell_type": "markdown",
   "metadata": {},
   "source": [
    "Looking at the graph provided we can see that ultimate users have a higher rate of useage than those on surf. July is the only month recorded where surf users have a higher useage than those on ultimate. Months Januart-May we can see a significant differnce in useage while June-December are nearly identical."
   ]
  },
  {
   "cell_type": "markdown",
   "metadata": {},
   "source": [
    "## Revenue"
   ]
  },
  {
   "cell_type": "code",
   "execution_count": 41,
   "metadata": {
    "trusted": false
   },
   "outputs": [
    {
     "name": "stdout",
     "output_type": "stream",
     "text": [
      "       plan       mean    median        std\n",
      "0      surf  55.618695  34.34873  52.926412\n",
      "1  ultimate  72.116080  70.00000  10.768848\n"
     ]
    },
    {
     "data": {
      "image/png": "[encoded data removed]",
      "text/plain": [
       "<Figure size 1000x600 with 1 Axes>"
      ]
     },
     "metadata": {},
     "output_type": "display_data"
    }
   ],
   "source": [
    "import matplotlib.pyplot as plt\n",
    "import seaborn as sns\n",
    "\n",
    "\n",
    "# Compute summary statistics\n",
    "revenue_stats = final_data.groupby('plan')['monthly_revenue'].agg(['mean', 'median', 'std']).reset_index()\n",
    "print(revenue_stats)\n",
    "\n",
    "# Visualize revenue distribution with box plots\n",
    "plt.figure(figsize=(10, 6))\n",
    "sns.boxplot(data=final_data, x='plan', y='monthly_revenue')\n",
    "plt.title('Revenue Distribution by Plan')\n",
    "plt.xlabel('Plan')\n",
    "plt.ylabel('Monthly Revenue ($)')\n",
    "plt.tight_layout()\n",
    "plt.show()\n"
   ]
  },
  {
   "cell_type": "markdown",
   "metadata": {},
   "source": [
    "Based on the provided **mean** and **variance** of call durations for the two plans (`surf` and `ultimate`), we can draw the following conclusions about user behavior:\n",
    "\n",
    "---\n",
    "\n",
    "### Key Observations:\n",
    "1. **Mean Call Duration**:\n",
    "   - The mean call duration for both plans is almost identical:\n",
    "     - **Surf**: ~60.90 minutes\n",
    "     - **Ultimate**: ~61.22 minutes\n",
    "   - This indicates that, on average, users of both plans spend a similar amount of time on calls each month.\n",
    "\n",
    "2. **Variance of Call Duration**:\n",
    "   - The variance is slightly higher for the **Ultimate** plan (1079.47 minutes²) compared to the **Surf** plan (977.69 minutes²).\n",
    "   - This suggests that users on the Ultimate plan exhibit **slightly more variability** in their call durations. Some users might make significantly shorter or longer calls compared to the mean.\n",
    "\n",
    "---\n",
    "\n",
    "### Conclusions:\n",
    "1. **Similarity in Average Usage**:\n",
    "   - Users on both plans behave similarly in terms of their average calling habits. The small difference in mean duration (~0.3 minutes) is negligible and does not suggest a significant behavioral difference between the plans.\n",
    "\n",
    "2. **Slight Difference in Variability**:\n",
    "   - The higher variance for the Ultimate plan indicates a broader range of calling behaviors. This could mean:\n",
    "     - Some Ultimate plan users take advantage of the plan's features (e.g., more included minutes, better rates) to make very long calls.\n",
    "     - Alternatively, others may make very short calls, causing greater dispersion in call durations.\n",
    "\n",
    "3. **Impact of Plan Features**:\n",
    "   - While the means are similar, the difference in variance might reflect the flexibility or constraints of the plans:\n",
    "     - **Surf Plan**: Slightly lower variance suggests more uniform usage patterns, possibly due to tighter restrictions or less flexibility in the plan.\n",
    "     - **Ultimate Plan**: Slightly higher variance might indicate that users on this plan include both heavy and light callers, possibly due to the plan catering to a wider range of needs (e.g., unlimited minutes or better rates for longer calls).\n",
    "\n",
    "---\n",
    "\n",
    "### Final Insights:\n",
    "- **Behavior is largely consistent across plans**, with nearly identical average call durations.\n",
    "- The Ultimate plan shows **more diverse user behavior**, likely catering to both light and heavy callers, while Surf users are more uniform in their calling habits.\n",
    "\n",
    "Would you like to dive deeper into specific aspects, such as outlier analysis or monthly trends?"
   ]
  },
  {
   "cell_type": "markdown",
   "metadata": {},
   "source": [
    "## Test statistical hypotheses"
   ]
  },
  {
   "cell_type": "markdown",
   "metadata": {},
   "source": [
    "- H0: hypothesis that the average of the revenue in the surface plan population equals the average of the revenue in the ultimate plan population\n",
    "- H1: hypothesis that the average of the revenue in the surface plan population does not equal the average of the revenue in the ultimate plan population\n"
   ]
  },
  {
   "cell_type": "code",
   "execution_count": 42,
   "metadata": {
    "trusted": false
   },
   "outputs": [
    {
     "name": "stdout",
     "output_type": "stream",
     "text": [
      "T-statistic: -11.838724588147505, P-value: 3.2556834061110747e-31\n",
      "Reject the null hypothesis. There is a significant difference in average revenue between the two plans.\n"
     ]
    }
   ],
   "source": [
    "# Test the hypotheses\n",
    "from scipy.stats import ttest_ind\n",
    "\n",
    "# Remove any NaN values\n",
    "surf_revenue = final_data[final_data['plan_name'] == 'surf']['monthly_revenue'].dropna()\n",
    "ultimate_revenue = final_data[final_data['plan_name'] == 'ultimate']['monthly_revenue'].dropna()\n",
    "\n",
    "# Perform a two-sample t-test\n",
    "t_stat, p_value = ttest_ind(surf_revenue, ultimate_revenue, equal_var=False)\n",
    "\n",
    "# Interpret the results\n",
    "print(f\"T-statistic: {t_stat}, P-value: {p_value}\")\n",
    "\n",
    "if p_value < 0.01:\n",
    "    print(\"Reject the null hypothesis. There is a significant difference in average revenue between the two plans.\")\n",
    "else:\n",
    "    print(\"Fail to reject the null hypothesis. There is no significant difference in average revenue between the two plans.\")\n"
   ]
  },
  {
   "cell_type": "code",
   "execution_count": 50,
   "metadata": {
    "trusted": false
   },
   "outputs": [
    {
     "name": "stdout",
     "output_type": "stream",
     "text": [
      "T-statistic: -1.689257078930394, P-value: 0.09156791285454728\n",
      "Fail to reject the null hypothesis. There is no significant difference in average revenue between NY-NJ users and other regions.\n"
     ]
    }
   ],
   "source": [
    "# Test the hypotheses\n",
    "\n",
    "revenue_stats = final_data\n",
    "\n",
    "from scipy.stats import ttest_ind\n",
    "\n",
    "# Filter the data by region\n",
    "ny_nj_revenue = revenue_stats[revenue_stats['city'].str.contains('NY|NJ', na=False)]['monthly_revenue'].dropna()\n",
    "other_revenue = revenue_stats[~revenue_stats['city'].str.contains('NY|NJ', na=False)]['monthly_revenue'].dropna()\n",
    "\n",
    "# Perform a two-sample t-test\n",
    "t_stat, p_value = ttest_ind(ny_nj_revenue, other_revenue, equal_var=False)\n",
    "\n",
    "# Interpret the results\n",
    "print(f\"T-statistic: {t_stat}, P-value: {p_value}\")\n",
    "\n",
    "if p_value < 0.05:\n",
    "    print(\"Reject the null hypothesis. There is a significant difference in average revenue between NY-NJ users and other regions.\")\n",
    "else:\n",
    "    print(\"Fail to reject the null hypothesis. There is no significant difference in average revenue between NY-NJ users and other regions.\")\n"
   ]
  },
  {
   "cell_type": "markdown",
   "metadata": {},
   "source": [
    "## General conclusion"
   ]
  },
  {
   "cell_type": "markdown",
   "metadata": {},
   "source": [
    "The company generates revenue primarily from two plans: Surf and Ultimate.\n",
    "\n",
    "Surf Plan:\n",
    "\n",
    "The average (mean) revenue per customer is approximately $55.62, with a median of $34.35.\n",
    "This suggests a significant variation in revenue among customers, as indicated by the relatively high standard deviation of $52.93. The large gap between the mean and median could imply the presence of some high-revenue customers that skew the average upward.\n",
    "Ultimate Plan:\n",
    "\n",
    "The average (mean) revenue per customer is $72.12, and the median is $70.00.\n",
    "The relatively low standard deviation of $10.77 indicates more consistent revenue across customers, with less variation compared to the Surf Plan.\n",
    "\n",
    "Overall, the Ultimate Plan appears to provide more stable and predictable revenue, while the Surf Plan offers more variability and potentially greater risk but may attract a broader range of customers. Depending on the company’s goals, this data can guide decisions on pricing strategies, marketing efforts, or resource allocation for each plan."
   ]
  }
 ],
 "metadata": {
  "ExecuteTimeLog": [
   {
    "duration": 828,
    "start_time": "2021-11-16T09:21:11.304Z"
   },
   {
    "duration": 893,
    "start_time": "2021-11-16T09:21:17.728Z"
   },
   {
    "duration": 1150,
    "start_time": "2021-11-16T09:21:29.568Z"
   },
   {
    "duration": 3,
    "start_time": "2021-11-16T09:24:14.495Z"
   },
   {
    "duration": 120,
    "start_time": "2021-11-16T09:24:46.630Z"
   },
   {
    "duration": 3,
    "start_time": "2021-11-16T09:28:27.882Z"
   },
   {
    "duration": 4,
    "start_time": "2021-11-16T09:29:54.281Z"
   },
   {
    "duration": 3,
    "start_time": "2021-11-16T09:30:45.936Z"
   },
   {
    "duration": 4,
    "start_time": "2021-11-16T09:31:06.300Z"
   },
   {
    "duration": 113,
    "start_time": "2021-11-16T09:31:37.208Z"
   },
   {
    "duration": 143,
    "start_time": "2021-11-16T09:31:48.656Z"
   },
   {
    "duration": 98,
    "start_time": "2021-11-16T09:31:55.678Z"
   },
   {
    "duration": 3,
    "start_time": "2021-11-16T09:32:08.535Z"
   },
   {
    "duration": 111,
    "start_time": "2021-11-16T09:32:10.120Z"
   },
   {
    "duration": 3,
    "start_time": "2021-11-16T09:32:15.732Z"
   },
   {
    "duration": 4,
    "start_time": "2021-11-16T09:32:29.423Z"
   },
   {
    "duration": 3,
    "start_time": "2021-11-16T10:03:03.074Z"
   },
   {
    "duration": 3,
    "start_time": "2021-11-16T10:10:01.288Z"
   },
   {
    "duration": 3,
    "start_time": "2021-11-16T10:10:46.923Z"
   },
   {
    "duration": 121,
    "start_time": "2021-11-16T10:37:46.494Z"
   },
   {
    "duration": 125,
    "start_time": "2021-11-16T10:38:20.632Z"
   },
   {
    "duration": 112,
    "start_time": "2021-11-16T10:46:53.001Z"
   },
   {
    "duration": 110,
    "start_time": "2021-11-16T10:48:25.775Z"
   },
   {
    "duration": 3,
    "start_time": "2021-11-16T10:50:18.720Z"
   },
   {
    "duration": 4,
    "start_time": "2021-11-16T10:50:37.649Z"
   },
   {
    "duration": 2,
    "start_time": "2021-11-16T10:50:51.884Z"
   },
   {
    "duration": 3,
    "start_time": "2021-11-16T10:51:56.237Z"
   },
   {
    "duration": 101,
    "start_time": "2021-11-16T10:53:13.791Z"
   },
   {
    "duration": 3,
    "start_time": "2021-11-16T10:55:59.186Z"
   },
   {
    "duration": 3,
    "start_time": "2021-11-16T10:56:10.751Z"
   },
   {
    "duration": 3,
    "start_time": "2021-11-16T10:56:49.038Z"
   },
   {
    "duration": 3,
    "start_time": "2021-11-16T10:56:49.174Z"
   },
   {
    "duration": 4,
    "start_time": "2021-11-16T10:56:49.414Z"
   },
   {
    "duration": 3,
    "start_time": "2021-11-16T10:56:49.680Z"
   },
   {
    "duration": 3,
    "start_time": "2021-11-16T10:56:50.370Z"
   },
   {
    "duration": 114,
    "start_time": "2021-11-16T10:59:34.518Z"
   },
   {
    "duration": 3,
    "start_time": "2021-11-16T11:01:41.201Z"
   },
   {
    "duration": 116,
    "start_time": "2021-11-16T11:01:48.754Z"
   },
   {
    "duration": 3,
    "start_time": "2021-11-16T11:02:16.685Z"
   },
   {
    "duration": 3,
    "start_time": "2021-11-16T11:02:19.479Z"
   },
   {
    "duration": 3,
    "start_time": "2021-11-16T11:02:47.067Z"
   },
   {
    "duration": 3,
    "start_time": "2021-11-16T11:02:49.353Z"
   },
   {
    "duration": 3,
    "start_time": "2021-11-16T11:03:07.835Z"
   },
   {
    "duration": 3,
    "start_time": "2021-11-16T11:03:07.953Z"
   },
   {
    "duration": 112,
    "start_time": "2021-11-16T11:07:52.072Z"
   },
   {
    "duration": 187,
    "start_time": "2021-11-16T11:09:23.468Z"
   },
   {
    "duration": 4,
    "start_time": "2021-11-16T11:10:01.455Z"
   },
   {
    "duration": 3,
    "start_time": "2021-11-16T11:10:05.069Z"
   },
   {
    "duration": 4,
    "start_time": "2021-11-16T11:10:13.376Z"
   },
   {
    "duration": 3,
    "start_time": "2021-11-16T11:10:14.434Z"
   },
   {
    "duration": 3,
    "start_time": "2021-11-16T11:10:22.853Z"
   },
   {
    "duration": 4,
    "start_time": "2021-11-16T11:27:29.279Z"
   },
   {
    "duration": 4,
    "start_time": "2021-11-16T11:29:08.919Z"
   },
   {
    "duration": 118,
    "start_time": "2021-11-16T11:29:46.703Z"
   },
   {
    "duration": 437,
    "start_time": "2021-11-16T11:36:02.181Z"
   },
   {
    "duration": 157,
    "start_time": "2021-11-16T11:36:14.388Z"
   },
   {
    "duration": 207,
    "start_time": "2021-11-16T11:47:15.898Z"
   },
   {
    "duration": 3,
    "start_time": "2021-11-16T11:53:52.092Z"
   },
   {
    "duration": 3,
    "start_time": "2021-11-16T11:53:52.236Z"
   },
   {
    "duration": 3,
    "start_time": "2021-11-16T11:59:12.005Z"
   },
   {
    "duration": 112,
    "start_time": "2021-11-16T12:00:33.446Z"
   },
   {
    "duration": 3,
    "start_time": "2021-11-16T12:02:14.453Z"
   },
   {
    "duration": 3,
    "start_time": "2021-11-16T12:02:39.512Z"
   },
   {
    "duration": 106,
    "start_time": "2021-11-16T12:03:03.460Z"
   },
   {
    "duration": 3,
    "start_time": "2021-11-17T20:37:21.139Z"
   },
   {
    "duration": 3,
    "start_time": "2021-11-17T20:37:22.229Z"
   },
   {
    "duration": 3,
    "start_time": "2021-11-17T20:38:38.806Z"
   },
   {
    "duration": 3,
    "start_time": "2021-11-17T20:38:41.958Z"
   },
   {
    "duration": 3,
    "start_time": "2021-11-17T20:43:46.551Z"
   },
   {
    "duration": 4,
    "start_time": "2021-11-17T20:58:21.835Z"
   },
   {
    "duration": 3,
    "start_time": "2021-11-17T20:59:21.872Z"
   },
   {
    "duration": 4,
    "start_time": "2021-11-17T20:59:45.352Z"
   },
   {
    "duration": 4,
    "start_time": "2021-11-17T20:59:49.646Z"
   },
   {
    "duration": 159,
    "start_time": "2021-11-17T21:02:26.949Z"
   },
   {
    "duration": 3,
    "start_time": "2021-11-17T21:03:53.461Z"
   },
   {
    "duration": 3,
    "start_time": "2021-11-17T21:03:53.694Z"
   },
   {
    "duration": 3,
    "start_time": "2021-11-17T21:05:28.145Z"
   },
   {
    "duration": 116,
    "start_time": "2021-11-17T21:05:57.787Z"
   },
   {
    "duration": 3,
    "start_time": "2021-11-17T21:06:37.993Z"
   },
   {
    "duration": 3,
    "start_time": "2021-11-17T21:06:38.261Z"
   },
   {
    "duration": 3,
    "start_time": "2021-11-17T21:11:54.358Z"
   },
   {
    "duration": 3,
    "start_time": "2021-11-17T21:12:43.846Z"
   },
   {
    "duration": 4,
    "start_time": "2021-11-17T21:13:08.773Z"
   },
   {
    "duration": 3,
    "start_time": "2021-11-17T21:14:44.441Z"
   },
   {
    "duration": 3,
    "start_time": "2021-11-17T21:15:42.059Z"
   },
   {
    "duration": 4,
    "start_time": "2021-11-17T21:15:51.995Z"
   },
   {
    "duration": 3,
    "start_time": "2021-11-17T21:15:53.923Z"
   },
   {
    "duration": 3,
    "start_time": "2021-11-17T21:15:55.282Z"
   },
   {
    "duration": 3,
    "start_time": "2021-11-17T21:16:28.492Z"
   },
   {
    "duration": 3,
    "start_time": "2021-11-17T21:16:32.603Z"
   },
   {
    "duration": 3,
    "start_time": "2021-11-17T21:17:06.941Z"
   },
   {
    "duration": 98,
    "start_time": "2021-11-17T21:18:05.733Z"
   },
   {
    "duration": 4,
    "start_time": "2021-11-17T21:21:35.255Z"
   },
   {
    "duration": 3,
    "start_time": "2021-11-17T21:21:37.804Z"
   },
   {
    "duration": 4,
    "start_time": "2021-11-17T21:23:06.071Z"
   },
   {
    "duration": 3,
    "start_time": "2021-11-17T21:23:24.799Z"
   },
   {
    "duration": 3,
    "start_time": "2021-11-17T21:23:32.591Z"
   },
   {
    "duration": 98,
    "start_time": "2021-11-17T21:28:31.559Z"
   },
   {
    "duration": 3,
    "start_time": "2021-11-17T21:28:45.448Z"
   },
   {
    "duration": 3,
    "start_time": "2021-11-17T21:29:17.303Z"
   },
   {
    "duration": 3,
    "start_time": "2021-11-17T21:29:29.617Z"
   },
   {
    "duration": 3,
    "start_time": "2021-11-17T21:29:32.681Z"
   },
   {
    "duration": 3,
    "start_time": "2021-11-17T21:36:11.474Z"
   },
   {
    "duration": 3,
    "start_time": "2021-11-17T21:36:14.791Z"
   },
   {
    "duration": 3,
    "start_time": "2021-11-17T21:36:53.943Z"
   },
   {
    "duration": 3,
    "start_time": "2021-11-17T21:36:56.165Z"
   },
   {
    "duration": 4,
    "start_time": "2021-11-17T21:37:16.590Z"
   },
   {
    "duration": 3,
    "start_time": "2021-11-17T21:37:22.702Z"
   },
   {
    "duration": 4,
    "start_time": "2021-11-17T21:38:03.479Z"
   },
   {
    "duration": 3,
    "start_time": "2021-11-17T21:38:08.601Z"
   },
   {
    "duration": 3,
    "start_time": "2021-11-17T21:38:12.928Z"
   },
   {
    "duration": 3,
    "start_time": "2021-11-17T21:38:48.896Z"
   },
   {
    "duration": 2,
    "start_time": "2021-11-17T21:38:49.171Z"
   },
   {
    "duration": 4,
    "start_time": "2021-11-17T21:39:57.889Z"
   },
   {
    "duration": 3,
    "start_time": "2021-11-17T21:39:58.057Z"
   },
   {
    "duration": 3,
    "start_time": "2021-11-17T21:41:20.108Z"
   },
   {
    "duration": 3,
    "start_time": "2021-11-17T21:41:20.629Z"
   },
   {
    "duration": 3,
    "start_time": "2021-11-17T21:42:49.136Z"
   },
   {
    "duration": 3,
    "start_time": "2021-11-17T21:43:15.137Z"
   },
   {
    "duration": 4,
    "start_time": "2021-11-17T21:43:16.766Z"
   },
   {
    "duration": 4,
    "start_time": "2021-11-17T21:43:31.711Z"
   },
   {
    "duration": 3,
    "start_time": "2021-11-17T21:43:36.312Z"
   },
   {
    "duration": 4,
    "start_time": "2021-11-17T21:45:08.825Z"
   },
   {
    "duration": 4,
    "start_time": "2021-11-17T21:45:10.119Z"
   },
   {
    "duration": 4,
    "start_time": "2021-11-17T21:45:13.748Z"
   },
   {
    "duration": 3,
    "start_time": "2021-11-17T21:45:22.219Z"
   },
   {
    "duration": 3,
    "start_time": "2021-11-17T21:45:33.412Z"
   },
   {
    "duration": 2,
    "start_time": "2021-11-17T21:46:01.885Z"
   },
   {
    "duration": 3,
    "start_time": "2021-11-17T21:46:03.628Z"
   },
   {
    "duration": 107,
    "start_time": "2021-11-17T21:47:32.512Z"
   },
   {
    "duration": 103,
    "start_time": "2021-11-17T21:50:36.243Z"
   },
   {
    "duration": 3,
    "start_time": "2021-11-18T06:28:31.440Z"
   },
   {
    "duration": 3,
    "start_time": "2021-11-18T06:29:00.168Z"
   },
   {
    "duration": 3,
    "start_time": "2021-11-18T06:31:27.008Z"
   },
   {
    "duration": 2,
    "start_time": "2021-11-18T06:35:34.288Z"
   },
   {
    "duration": 2,
    "start_time": "2021-11-18T06:38:04.527Z"
   },
   {
    "duration": 156,
    "start_time": "2024-12-18T17:25:53.912Z"
   },
   {
    "duration": 13,
    "start_time": "2024-12-18T17:26:03.300Z"
   },
   {
    "duration": 15,
    "start_time": "2024-12-18T17:26:31.226Z"
   },
   {
    "duration": 478,
    "start_time": "2024-12-18T17:27:46.085Z"
   },
   {
    "duration": 15,
    "start_time": "2024-12-18T17:27:49.126Z"
   },
   {
    "duration": 37,
    "start_time": "2024-12-18T17:28:54.439Z"
   },
   {
    "duration": 35,
    "start_time": "2024-12-18T17:29:44.250Z"
   },
   {
    "duration": 7,
    "start_time": "2024-12-18T17:30:57.745Z"
   },
   {
    "duration": 13,
    "start_time": "2024-12-18T17:31:38.381Z"
   },
   {
    "duration": 8,
    "start_time": "2024-12-18T17:32:08.185Z"
   },
   {
    "duration": 11,
    "start_time": "2024-12-18T17:34:52.124Z"
   },
   {
    "duration": 7,
    "start_time": "2024-12-18T17:36:46.918Z"
   },
   {
    "duration": 252,
    "start_time": "2024-12-18T18:39:36.012Z"
   },
   {
    "duration": 7,
    "start_time": "2024-12-18T18:39:57.617Z"
   },
   {
    "duration": 9,
    "start_time": "2024-12-18T18:43:26.188Z"
   },
   {
    "duration": 9,
    "start_time": "2024-12-18T18:43:41.193Z"
   },
   {
    "duration": 24,
    "start_time": "2024-12-18T18:44:11.227Z"
   },
   {
    "duration": 7,
    "start_time": "2024-12-18T18:49:57.184Z"
   },
   {
    "duration": 17,
    "start_time": "2024-12-18T19:01:28.153Z"
   },
   {
    "duration": 14,
    "start_time": "2024-12-18T19:01:47.974Z"
   },
   {
    "duration": 8,
    "start_time": "2024-12-18T19:07:23.729Z"
   },
   {
    "duration": 9,
    "start_time": "2024-12-18T19:10:59.445Z"
   },
   {
    "duration": 12,
    "start_time": "2024-12-18T19:46:18.842Z"
   },
   {
    "duration": 5,
    "start_time": "2024-12-18T19:49:51.462Z"
   },
   {
    "duration": 8,
    "start_time": "2024-12-18T19:50:01.424Z"
   },
   {
    "duration": 89,
    "start_time": "2024-12-18T19:50:46.770Z"
   },
   {
    "duration": 17,
    "start_time": "2024-12-18T19:51:13.587Z"
   },
   {
    "duration": 8,
    "start_time": "2024-12-18T19:51:29.764Z"
   },
   {
    "duration": 12,
    "start_time": "2024-12-18T19:52:01.526Z"
   },
   {
    "duration": 8,
    "start_time": "2024-12-18T19:52:18.936Z"
   },
   {
    "duration": 16,
    "start_time": "2024-12-18T19:57:59.372Z"
   },
   {
    "duration": 21,
    "start_time": "2024-12-18T19:58:25.218Z"
   },
   {
    "duration": 10,
    "start_time": "2024-12-18T19:59:11.350Z"
   },
   {
    "duration": 9,
    "start_time": "2024-12-18T19:59:15.880Z"
   },
   {
    "duration": 507,
    "start_time": "2024-12-19T18:25:29.759Z"
   },
   {
    "duration": 38,
    "start_time": "2024-12-19T18:25:30.268Z"
   },
   {
    "duration": 25,
    "start_time": "2024-12-19T18:25:30.308Z"
   },
   {
    "duration": 6,
    "start_time": "2024-12-19T18:25:30.335Z"
   },
   {
    "duration": 8,
    "start_time": "2024-12-19T18:25:30.343Z"
   },
   {
    "duration": 10,
    "start_time": "2024-12-19T18:25:30.352Z"
   },
   {
    "duration": 11,
    "start_time": "2024-12-19T18:25:30.364Z"
   },
   {
    "duration": 41,
    "start_time": "2024-12-19T18:25:30.377Z"
   },
   {
    "duration": 4,
    "start_time": "2024-12-19T18:25:33.653Z"
   },
   {
    "duration": 10,
    "start_time": "2024-12-19T18:25:52.012Z"
   },
   {
    "duration": 14,
    "start_time": "2024-12-19T18:26:16.465Z"
   },
   {
    "duration": 30,
    "start_time": "2024-12-19T18:32:58.004Z"
   },
   {
    "duration": 8,
    "start_time": "2024-12-19T18:43:37.075Z"
   },
   {
    "duration": 7,
    "start_time": "2024-12-19T18:44:19.789Z"
   },
   {
    "duration": 22,
    "start_time": "2024-12-19T18:45:31.809Z"
   },
   {
    "duration": 14,
    "start_time": "2024-12-19T18:47:07.201Z"
   },
   {
    "duration": 9,
    "start_time": "2024-12-19T18:47:25.235Z"
   },
   {
    "duration": 16,
    "start_time": "2024-12-19T19:01:38.525Z"
   },
   {
    "duration": 15,
    "start_time": "2024-12-19T19:06:47.119Z"
   },
   {
    "duration": 322,
    "start_time": "2024-12-19T19:07:06.660Z"
   },
   {
    "duration": 15,
    "start_time": "2024-12-19T19:46:13.062Z"
   },
   {
    "duration": 15,
    "start_time": "2024-12-19T19:46:53.088Z"
   },
   {
    "duration": 162,
    "start_time": "2024-12-19T19:47:20.481Z"
   },
   {
    "duration": 40,
    "start_time": "2024-12-19T19:47:20.646Z"
   },
   {
    "duration": 37,
    "start_time": "2024-12-19T19:47:20.687Z"
   },
   {
    "duration": 7,
    "start_time": "2024-12-19T19:47:20.726Z"
   },
   {
    "duration": 20,
    "start_time": "2024-12-19T19:47:20.736Z"
   },
   {
    "duration": 9,
    "start_time": "2024-12-19T19:47:20.758Z"
   },
   {
    "duration": 43,
    "start_time": "2024-12-19T19:47:20.769Z"
   },
   {
    "duration": 13,
    "start_time": "2024-12-19T19:47:25.218Z"
   },
   {
    "duration": 3,
    "start_time": "2024-12-19T19:47:50.220Z"
   },
   {
    "duration": 13,
    "start_time": "2024-12-19T19:48:07.566Z"
   },
   {
    "duration": 67,
    "start_time": "2024-12-19T19:48:13.033Z"
   },
   {
    "duration": 5,
    "start_time": "2024-12-19T19:48:53.469Z"
   },
   {
    "duration": 15,
    "start_time": "2024-12-19T19:49:31.010Z"
   },
   {
    "duration": 16,
    "start_time": "2024-12-19T19:56:49.169Z"
   },
   {
    "duration": 12,
    "start_time": "2024-12-19T20:02:50.081Z"
   },
   {
    "duration": 4,
    "start_time": "2024-12-19T20:04:37.117Z"
   },
   {
    "duration": 35,
    "start_time": "2024-12-19T20:09:46.713Z"
   },
   {
    "duration": 35,
    "start_time": "2024-12-19T20:10:03.869Z"
   },
   {
    "duration": 34,
    "start_time": "2024-12-19T20:10:38.748Z"
   },
   {
    "duration": 25,
    "start_time": "2024-12-19T20:11:11.463Z"
   },
   {
    "duration": 23,
    "start_time": "2024-12-19T20:11:33.961Z"
   },
   {
    "duration": 1947,
    "start_time": "2024-12-19T20:14:17.534Z"
   },
   {
    "duration": 8,
    "start_time": "2024-12-19T20:18:01.449Z"
   },
   {
    "duration": 164,
    "start_time": "2024-12-19T20:23:53.637Z"
   },
   {
    "duration": 34,
    "start_time": "2024-12-19T20:23:53.803Z"
   },
   {
    "duration": 25,
    "start_time": "2024-12-19T20:23:53.838Z"
   },
   {
    "duration": 8,
    "start_time": "2024-12-19T20:23:53.865Z"
   },
   {
    "duration": 41,
    "start_time": "2024-12-19T20:23:53.876Z"
   },
   {
    "duration": 8,
    "start_time": "2024-12-19T20:23:53.919Z"
   },
   {
    "duration": 13,
    "start_time": "2024-12-19T20:23:53.929Z"
   },
   {
    "duration": 16,
    "start_time": "2024-12-19T20:23:53.943Z"
   },
   {
    "duration": 21,
    "start_time": "2024-12-19T20:23:53.960Z"
   },
   {
    "duration": 9,
    "start_time": "2024-12-19T20:23:54.013Z"
   },
   {
    "duration": 25,
    "start_time": "2024-12-19T20:23:54.024Z"
   },
   {
    "duration": 4,
    "start_time": "2024-12-19T20:23:54.050Z"
   },
   {
    "duration": 8,
    "start_time": "2024-12-19T20:23:54.056Z"
   },
   {
    "duration": 7,
    "start_time": "2024-12-19T20:23:54.068Z"
   },
   {
    "duration": 49,
    "start_time": "2024-12-19T20:23:54.077Z"
   },
   {
    "duration": 30,
    "start_time": "2024-12-19T20:23:54.128Z"
   },
   {
    "duration": 13,
    "start_time": "2024-12-19T20:23:54.160Z"
   },
   {
    "duration": 8,
    "start_time": "2024-12-19T20:23:54.175Z"
   },
   {
    "duration": 129,
    "start_time": "2024-12-19T20:23:54.185Z"
   },
   {
    "duration": 363,
    "start_time": "2024-12-19T20:23:54.316Z"
   },
   {
    "duration": 0,
    "start_time": "2024-12-19T20:23:54.680Z"
   },
   {
    "duration": 0,
    "start_time": "2024-12-19T20:23:54.681Z"
   },
   {
    "duration": 39,
    "start_time": "2024-12-19T20:27:13.321Z"
   },
   {
    "duration": 12,
    "start_time": "2024-12-19T20:28:00.448Z"
   },
   {
    "duration": 7,
    "start_time": "2024-12-19T20:28:09.763Z"
   },
   {
    "duration": 39,
    "start_time": "2024-12-19T20:34:47.424Z"
   },
   {
    "duration": 132,
    "start_time": "2024-12-19T20:34:53.217Z"
   },
   {
    "duration": 17,
    "start_time": "2024-12-19T20:34:58.556Z"
   },
   {
    "duration": 14,
    "start_time": "2024-12-19T20:35:49.899Z"
   },
   {
    "duration": 15,
    "start_time": "2024-12-19T20:37:50.577Z"
   },
   {
    "duration": 19,
    "start_time": "2024-12-19T20:37:53.891Z"
   },
   {
    "duration": 21,
    "start_time": "2024-12-19T20:38:20.478Z"
   },
   {
    "duration": 27,
    "start_time": "2024-12-19T20:38:55.620Z"
   },
   {
    "duration": 25,
    "start_time": "2024-12-19T20:39:21.192Z"
   },
   {
    "duration": 17,
    "start_time": "2024-12-19T20:39:39.398Z"
   },
   {
    "duration": 17,
    "start_time": "2024-12-19T20:39:56.255Z"
   },
   {
    "duration": 14,
    "start_time": "2024-12-19T20:41:29.721Z"
   },
   {
    "duration": 15,
    "start_time": "2024-12-19T20:41:40.280Z"
   },
   {
    "duration": 15,
    "start_time": "2024-12-19T20:44:42.735Z"
   },
   {
    "duration": 18,
    "start_time": "2024-12-19T20:44:49.137Z"
   },
   {
    "duration": 14,
    "start_time": "2024-12-20T05:25:11.637Z"
   },
   {
    "duration": 98,
    "start_time": "2024-12-20T05:27:46.554Z"
   },
   {
    "duration": 5,
    "start_time": "2024-12-20T05:29:13.155Z"
   },
   {
    "duration": 49,
    "start_time": "2024-12-20T05:29:51.711Z"
   },
   {
    "duration": 375,
    "start_time": "2024-12-20T05:32:43.552Z"
   },
   {
    "duration": 50,
    "start_time": "2024-12-20T05:36:17.444Z"
   },
   {
    "duration": 6,
    "start_time": "2024-12-20T05:40:57.454Z"
   },
   {
    "duration": 49,
    "start_time": "2024-12-20T05:43:19.598Z"
   },
   {
    "duration": 18,
    "start_time": "2024-12-20T05:45:31.751Z"
   },
   {
    "duration": 165,
    "start_time": "2024-12-20T05:45:47.966Z"
   },
   {
    "duration": 32,
    "start_time": "2024-12-20T05:45:48.133Z"
   },
   {
    "duration": 23,
    "start_time": "2024-12-20T05:45:48.167Z"
   },
   {
    "duration": 6,
    "start_time": "2024-12-20T05:45:48.211Z"
   },
   {
    "duration": 15,
    "start_time": "2024-12-20T05:45:48.219Z"
   },
   {
    "duration": 8,
    "start_time": "2024-12-20T05:45:48.237Z"
   },
   {
    "duration": 13,
    "start_time": "2024-12-20T05:45:48.247Z"
   },
   {
    "duration": 16,
    "start_time": "2024-12-20T05:45:48.261Z"
   },
   {
    "duration": 53,
    "start_time": "2024-12-20T05:45:48.278Z"
   },
   {
    "duration": 9,
    "start_time": "2024-12-20T05:45:48.333Z"
   },
   {
    "duration": 25,
    "start_time": "2024-12-20T05:45:48.343Z"
   },
   {
    "duration": 4,
    "start_time": "2024-12-20T05:45:48.370Z"
   },
   {
    "duration": 38,
    "start_time": "2024-12-20T05:45:48.375Z"
   },
   {
    "duration": 7,
    "start_time": "2024-12-20T05:45:48.414Z"
   },
   {
    "duration": 17,
    "start_time": "2024-12-20T05:45:48.423Z"
   },
   {
    "duration": 28,
    "start_time": "2024-12-20T05:45:48.441Z"
   },
   {
    "duration": 13,
    "start_time": "2024-12-20T05:45:48.471Z"
   },
   {
    "duration": 33,
    "start_time": "2024-12-20T05:45:48.486Z"
   },
   {
    "duration": 111,
    "start_time": "2024-12-20T05:45:48.520Z"
   },
   {
    "duration": 244,
    "start_time": "2024-12-20T05:45:48.633Z"
   },
   {
    "duration": 0,
    "start_time": "2024-12-20T05:45:48.879Z"
   },
   {
    "duration": 0,
    "start_time": "2024-12-20T05:45:48.880Z"
   },
   {
    "duration": 0,
    "start_time": "2024-12-20T05:45:48.882Z"
   },
   {
    "duration": 0,
    "start_time": "2024-12-20T05:45:48.883Z"
   },
   {
    "duration": 0,
    "start_time": "2024-12-20T05:45:48.884Z"
   },
   {
    "duration": 0,
    "start_time": "2024-12-20T05:45:48.885Z"
   },
   {
    "duration": 149,
    "start_time": "2024-12-20T05:46:01.035Z"
   },
   {
    "duration": 156,
    "start_time": "2024-12-21T19:28:22.078Z"
   },
   {
    "duration": 516,
    "start_time": "2024-12-21T19:28:28.248Z"
   },
   {
    "duration": 38,
    "start_time": "2024-12-21T19:28:28.766Z"
   },
   {
    "duration": 25,
    "start_time": "2024-12-21T19:28:28.805Z"
   },
   {
    "duration": 7,
    "start_time": "2024-12-21T19:28:28.831Z"
   },
   {
    "duration": 15,
    "start_time": "2024-12-21T19:28:28.840Z"
   },
   {
    "duration": 9,
    "start_time": "2024-12-21T19:28:28.857Z"
   },
   {
    "duration": 13,
    "start_time": "2024-12-21T19:28:28.867Z"
   },
   {
    "duration": 42,
    "start_time": "2024-12-21T19:28:28.882Z"
   },
   {
    "duration": 20,
    "start_time": "2024-12-21T19:28:28.925Z"
   },
   {
    "duration": 9,
    "start_time": "2024-12-21T19:28:28.947Z"
   },
   {
    "duration": 51,
    "start_time": "2024-12-21T19:28:28.958Z"
   },
   {
    "duration": 5,
    "start_time": "2024-12-21T19:28:29.011Z"
   },
   {
    "duration": 13,
    "start_time": "2024-12-21T19:28:32.698Z"
   },
   {
    "duration": 36,
    "start_time": "2024-12-21T19:30:32.142Z"
   },
   {
    "duration": 298,
    "start_time": "2024-12-21T19:46:30.035Z"
   },
   {
    "duration": 155,
    "start_time": "2024-12-21T19:46:43.756Z"
   },
   {
    "duration": 34,
    "start_time": "2024-12-21T19:46:43.913Z"
   },
   {
    "duration": 25,
    "start_time": "2024-12-21T19:46:43.949Z"
   },
   {
    "duration": 6,
    "start_time": "2024-12-21T19:46:43.976Z"
   },
   {
    "duration": 16,
    "start_time": "2024-12-21T19:46:44.010Z"
   },
   {
    "duration": 9,
    "start_time": "2024-12-21T19:46:44.027Z"
   },
   {
    "duration": 13,
    "start_time": "2024-12-21T19:46:44.037Z"
   },
   {
    "duration": 16,
    "start_time": "2024-12-21T19:46:44.051Z"
   },
   {
    "duration": 53,
    "start_time": "2024-12-21T19:46:44.069Z"
   },
   {
    "duration": 9,
    "start_time": "2024-12-21T19:46:44.123Z"
   },
   {
    "duration": 24,
    "start_time": "2024-12-21T19:46:44.133Z"
   },
   {
    "duration": 4,
    "start_time": "2024-12-21T19:46:44.159Z"
   },
   {
    "duration": 13,
    "start_time": "2024-12-21T19:46:44.165Z"
   },
   {
    "duration": 7,
    "start_time": "2024-12-21T19:46:44.210Z"
   },
   {
    "duration": 16,
    "start_time": "2024-12-21T19:46:44.219Z"
   },
   {
    "duration": 30,
    "start_time": "2024-12-21T19:46:44.237Z"
   },
   {
    "duration": 14,
    "start_time": "2024-12-21T19:46:44.268Z"
   },
   {
    "duration": 9,
    "start_time": "2024-12-21T19:46:44.309Z"
   },
   {
    "duration": 2004,
    "start_time": "2024-12-21T19:46:44.319Z"
   },
   {
    "duration": 44,
    "start_time": "2024-12-21T19:48:24.247Z"
   },
   {
    "duration": 34,
    "start_time": "2024-12-21T19:48:32.596Z"
   },
   {
    "duration": 13,
    "start_time": "2024-12-21T19:49:56.563Z"
   },
   {
    "duration": 97,
    "start_time": "2024-12-21T19:50:02.186Z"
   },
   {
    "duration": 27,
    "start_time": "2024-12-21T19:54:43.805Z"
   },
   {
    "duration": 111,
    "start_time": "2024-12-21T19:57:21.402Z"
   },
   {
    "duration": 49,
    "start_time": "2024-12-21T19:59:00.383Z"
   },
   {
    "duration": 27,
    "start_time": "2024-12-21T19:59:02.754Z"
   },
   {
    "duration": 15,
    "start_time": "2024-12-21T19:59:05.991Z"
   },
   {
    "duration": 14,
    "start_time": "2024-12-21T19:59:08.946Z"
   },
   {
    "duration": 13,
    "start_time": "2024-12-21T19:59:11.948Z"
   },
   {
    "duration": 21,
    "start_time": "2024-12-21T19:59:19.222Z"
   },
   {
    "duration": 14,
    "start_time": "2024-12-21T20:00:00.572Z"
   },
   {
    "duration": 39,
    "start_time": "2024-12-21T20:00:08.995Z"
   },
   {
    "duration": 19,
    "start_time": "2024-12-21T20:09:57.849Z"
   },
   {
    "duration": 7,
    "start_time": "2024-12-21T20:10:48.994Z"
   },
   {
    "duration": 122,
    "start_time": "2024-12-21T20:15:22.510Z"
   },
   {
    "duration": 11,
    "start_time": "2024-12-21T20:15:47.083Z"
   },
   {
    "duration": 422,
    "start_time": "2024-12-21T20:16:28.806Z"
   },
   {
    "duration": 376,
    "start_time": "2024-12-21T20:16:58.852Z"
   },
   {
    "duration": 607,
    "start_time": "2024-12-23T22:31:05.364Z"
   },
   {
    "duration": 46,
    "start_time": "2024-12-23T22:31:05.974Z"
   },
   {
    "duration": 48,
    "start_time": "2024-12-23T22:31:06.022Z"
   },
   {
    "duration": 9,
    "start_time": "2024-12-23T22:31:06.072Z"
   },
   {
    "duration": 17,
    "start_time": "2024-12-23T22:31:06.084Z"
   },
   {
    "duration": 11,
    "start_time": "2024-12-23T22:31:06.103Z"
   },
   {
    "duration": 16,
    "start_time": "2024-12-23T22:31:06.116Z"
   },
   {
    "duration": 52,
    "start_time": "2024-12-23T22:31:06.134Z"
   },
   {
    "duration": 27,
    "start_time": "2024-12-23T22:31:06.190Z"
   },
   {
    "duration": 13,
    "start_time": "2024-12-23T22:31:06.218Z"
   },
   {
    "duration": 62,
    "start_time": "2024-12-23T22:31:06.233Z"
   },
   {
    "duration": 5,
    "start_time": "2024-12-23T22:31:06.297Z"
   },
   {
    "duration": 13,
    "start_time": "2024-12-23T22:31:06.304Z"
   },
   {
    "duration": 13,
    "start_time": "2024-12-23T22:31:06.321Z"
   },
   {
    "duration": 46,
    "start_time": "2024-12-23T22:31:06.336Z"
   },
   {
    "duration": 42,
    "start_time": "2024-12-23T22:31:06.384Z"
   },
   {
    "duration": 16,
    "start_time": "2024-12-23T22:31:06.428Z"
   },
   {
    "duration": 29,
    "start_time": "2024-12-23T22:31:06.446Z"
   },
   {
    "duration": 18,
    "start_time": "2024-12-23T22:31:06.477Z"
   },
   {
    "duration": 2318,
    "start_time": "2024-12-23T22:31:06.498Z"
   },
   {
    "duration": 118,
    "start_time": "2024-12-23T22:31:08.818Z"
   },
   {
    "duration": 35,
    "start_time": "2024-12-23T22:31:08.938Z"
   },
   {
    "duration": 18,
    "start_time": "2024-12-23T22:31:08.975Z"
   },
   {
    "duration": 15,
    "start_time": "2024-12-23T22:31:08.995Z"
   },
   {
    "duration": 15,
    "start_time": "2024-12-23T22:31:09.011Z"
   },
   {
    "duration": 56,
    "start_time": "2024-12-23T22:31:09.028Z"
   },
   {
    "duration": 15,
    "start_time": "2024-12-23T22:31:09.086Z"
   },
   {
    "duration": 77,
    "start_time": "2024-12-23T22:31:09.103Z"
   },
   {
    "duration": 229,
    "start_time": "2024-12-23T22:31:11.260Z"
   },
   {
    "duration": 11,
    "start_time": "2024-12-23T22:31:33.670Z"
   },
   {
    "duration": 231,
    "start_time": "2024-12-23T22:33:32.642Z"
   },
   {
    "duration": 6,
    "start_time": "2024-12-23T22:35:45.091Z"
   },
   {
    "duration": 21,
    "start_time": "2024-12-23T22:36:35.299Z"
   },
   {
    "duration": 22,
    "start_time": "2024-12-23T22:37:23.272Z"
   },
   {
    "duration": 25,
    "start_time": "2024-12-23T22:37:59.743Z"
   },
   {
    "duration": 541,
    "start_time": "2024-12-23T22:38:44.240Z"
   },
   {
    "duration": 884,
    "start_time": "2024-12-24T05:19:39.189Z"
   },
   {
    "duration": 350,
    "start_time": "2024-12-24T05:20:17.949Z"
   },
   {
    "duration": 311,
    "start_time": "2024-12-24T05:24:19.847Z"
   },
   {
    "duration": 238,
    "start_time": "2024-12-24T05:25:54.543Z"
   },
   {
    "duration": 209,
    "start_time": "2024-12-24T05:37:03.821Z"
   },
   {
    "duration": 202,
    "start_time": "2024-12-24T05:40:37.407Z"
   },
   {
    "duration": 6,
    "start_time": "2024-12-24T05:49:21.534Z"
   },
   {
    "duration": 256,
    "start_time": "2024-12-24T05:50:52.953Z"
   },
   {
    "duration": 7,
    "start_time": "2024-12-24T05:56:53.336Z"
   },
   {
    "duration": 6,
    "start_time": "2024-12-24T05:58:15.336Z"
   },
   {
    "duration": 4,
    "start_time": "2024-12-24T05:58:45.963Z"
   },
   {
    "duration": 6,
    "start_time": "2024-12-24T05:59:05.223Z"
   },
   {
    "duration": 454,
    "start_time": "2024-12-24T05:59:20.440Z"
   },
   {
    "duration": 13,
    "start_time": "2024-12-24T06:00:07.654Z"
   },
   {
    "duration": 13,
    "start_time": "2024-12-24T06:08:06.767Z"
   },
   {
    "duration": 47,
    "start_time": "2024-12-24T06:08:12.085Z"
   },
   {
    "duration": 20,
    "start_time": "2024-12-24T06:09:10.862Z"
   },
   {
    "duration": 206,
    "start_time": "2024-12-24T06:09:19.863Z"
   },
   {
    "duration": 14,
    "start_time": "2024-12-24T06:12:17.624Z"
   },
   {
    "duration": 40,
    "start_time": "2024-12-24T06:12:26.061Z"
   },
   {
    "duration": 80,
    "start_time": "2024-12-24T06:18:33.952Z"
   },
   {
    "duration": 188,
    "start_time": "2024-12-24T06:22:55.189Z"
   },
   {
    "duration": 173,
    "start_time": "2024-12-24T06:23:55.819Z"
   },
   {
    "duration": 654,
    "start_time": "2024-12-26T18:03:32.910Z"
   },
   {
    "duration": 408,
    "start_time": "2024-12-26T18:06:10.554Z"
   },
   {
    "duration": 37,
    "start_time": "2024-12-26T18:06:10.965Z"
   },
   {
    "duration": 24,
    "start_time": "2024-12-26T18:06:11.004Z"
   },
   {
    "duration": 7,
    "start_time": "2024-12-26T18:06:11.029Z"
   },
   {
    "duration": 15,
    "start_time": "2024-12-26T18:06:11.038Z"
   },
   {
    "duration": 8,
    "start_time": "2024-12-26T18:06:11.055Z"
   },
   {
    "duration": 13,
    "start_time": "2024-12-26T18:06:11.064Z"
   },
   {
    "duration": 42,
    "start_time": "2024-12-26T18:06:11.079Z"
   },
   {
    "duration": 20,
    "start_time": "2024-12-26T18:06:11.123Z"
   },
   {
    "duration": 9,
    "start_time": "2024-12-26T18:06:11.144Z"
   },
   {
    "duration": 25,
    "start_time": "2024-12-26T18:06:11.155Z"
   },
   {
    "duration": 31,
    "start_time": "2024-12-26T18:06:11.181Z"
   },
   {
    "duration": 11,
    "start_time": "2024-12-26T18:06:11.214Z"
   },
   {
    "duration": 6,
    "start_time": "2024-12-26T18:06:11.229Z"
   },
   {
    "duration": 17,
    "start_time": "2024-12-26T18:06:11.237Z"
   },
   {
    "duration": 60,
    "start_time": "2024-12-26T18:06:11.256Z"
   },
   {
    "duration": 14,
    "start_time": "2024-12-26T18:06:11.318Z"
   },
   {
    "duration": 8,
    "start_time": "2024-12-26T18:06:11.334Z"
   },
   {
    "duration": 12,
    "start_time": "2024-12-26T18:06:11.344Z"
   },
   {
    "duration": 2013,
    "start_time": "2024-12-26T18:06:11.357Z"
   },
   {
    "duration": 57,
    "start_time": "2024-12-26T18:06:13.372Z"
   },
   {
    "duration": 27,
    "start_time": "2024-12-26T18:06:13.431Z"
   },
   {
    "duration": 16,
    "start_time": "2024-12-26T18:06:13.459Z"
   },
   {
    "duration": 34,
    "start_time": "2024-12-26T18:06:13.476Z"
   },
   {
    "duration": 13,
    "start_time": "2024-12-26T18:06:13.512Z"
   },
   {
    "duration": 19,
    "start_time": "2024-12-26T18:06:13.527Z"
   },
   {
    "duration": 13,
    "start_time": "2024-12-26T18:06:13.547Z"
   },
   {
    "duration": 67,
    "start_time": "2024-12-26T18:06:13.562Z"
   },
   {
    "duration": 12,
    "start_time": "2024-12-26T18:06:13.630Z"
   },
   {
    "duration": 369,
    "start_time": "2024-12-26T18:06:13.644Z"
   },
   {
    "duration": 222,
    "start_time": "2024-12-26T18:06:14.015Z"
   },
   {
    "duration": 6,
    "start_time": "2024-12-26T18:06:14.239Z"
   },
   {
    "duration": 219,
    "start_time": "2024-12-26T18:06:14.247Z"
   },
   {
    "duration": 349,
    "start_time": "2024-12-26T18:06:14.468Z"
   },
   {
    "duration": 3,
    "start_time": "2024-12-26T18:06:14.819Z"
   },
   {
    "duration": 277,
    "start_time": "2024-12-26T18:06:14.823Z"
   },
   {
    "duration": 249,
    "start_time": "2024-12-26T18:06:15.101Z"
   },
   {
    "duration": 6,
    "start_time": "2024-12-26T18:06:15.352Z"
   },
   {
    "duration": 445,
    "start_time": "2024-12-26T19:02:39.257Z"
   },
   {
    "duration": 18,
    "start_time": "2024-12-26T19:03:06.375Z"
   },
   {
    "duration": 12,
    "start_time": "2024-12-26T19:03:28.820Z"
   },
   {
    "duration": 161,
    "start_time": "2024-12-26T19:04:01.027Z"
   },
   {
    "duration": 38,
    "start_time": "2024-12-26T19:04:01.190Z"
   },
   {
    "duration": 24,
    "start_time": "2024-12-26T19:04:01.229Z"
   },
   {
    "duration": 6,
    "start_time": "2024-12-26T19:04:01.254Z"
   },
   {
    "duration": 14,
    "start_time": "2024-12-26T19:04:01.264Z"
   },
   {
    "duration": 37,
    "start_time": "2024-12-26T19:04:01.280Z"
   },
   {
    "duration": 13,
    "start_time": "2024-12-26T19:04:01.319Z"
   },
   {
    "duration": 16,
    "start_time": "2024-12-26T19:04:01.333Z"
   },
   {
    "duration": 22,
    "start_time": "2024-12-26T19:04:01.350Z"
   },
   {
    "duration": 40,
    "start_time": "2024-12-26T19:04:01.373Z"
   },
   {
    "duration": 23,
    "start_time": "2024-12-26T19:04:01.415Z"
   },
   {
    "duration": 4,
    "start_time": "2024-12-26T19:04:01.440Z"
   },
   {
    "duration": 11,
    "start_time": "2024-12-26T19:04:01.445Z"
   },
   {
    "duration": 7,
    "start_time": "2024-12-26T19:04:01.460Z"
   },
   {
    "duration": 48,
    "start_time": "2024-12-26T19:04:01.469Z"
   },
   {
    "duration": 28,
    "start_time": "2024-12-26T19:04:01.518Z"
   },
   {
    "duration": 13,
    "start_time": "2024-12-26T19:04:01.548Z"
   },
   {
    "duration": 9,
    "start_time": "2024-12-26T19:04:01.562Z"
   },
   {
    "duration": 13,
    "start_time": "2024-12-26T19:04:01.572Z"
   },
   {
    "duration": 108,
    "start_time": "2024-12-26T19:04:01.608Z"
   },
   {
    "duration": 50,
    "start_time": "2024-12-26T19:04:01.717Z"
   },
   {
    "duration": 22,
    "start_time": "2024-12-26T19:04:01.769Z"
   },
   {
    "duration": 15,
    "start_time": "2024-12-26T19:04:01.809Z"
   },
   {
    "duration": 13,
    "start_time": "2024-12-26T19:04:01.826Z"
   },
   {
    "duration": 12,
    "start_time": "2024-12-26T19:04:01.841Z"
   },
   {
    "duration": 20,
    "start_time": "2024-12-26T19:04:01.854Z"
   },
   {
    "duration": 43,
    "start_time": "2024-12-26T19:04:01.876Z"
   },
   {
    "duration": 38,
    "start_time": "2024-12-26T19:04:01.921Z"
   },
   {
    "duration": 13,
    "start_time": "2024-12-26T19:04:01.960Z"
   },
   {
    "duration": 345,
    "start_time": "2024-12-26T19:04:01.975Z"
   },
   {
    "duration": 219,
    "start_time": "2024-12-26T19:04:02.322Z"
   },
   {
    "duration": 6,
    "start_time": "2024-12-26T19:04:02.543Z"
   },
   {
    "duration": 191,
    "start_time": "2024-12-26T19:04:02.551Z"
   },
   {
    "duration": 280,
    "start_time": "2024-12-26T19:04:02.745Z"
   },
   {
    "duration": 2,
    "start_time": "2024-12-26T19:04:03.027Z"
   },
   {
    "duration": 280,
    "start_time": "2024-12-26T19:04:03.031Z"
   },
   {
    "duration": 239,
    "start_time": "2024-12-26T19:04:03.313Z"
   },
   {
    "duration": 5,
    "start_time": "2024-12-26T19:04:03.554Z"
   },
   {
    "duration": 13,
    "start_time": "2024-12-26T19:04:03.561Z"
   },
   {
    "duration": 50,
    "start_time": "2024-12-26T19:04:06.392Z"
   },
   {
    "duration": 148,
    "start_time": "2024-12-26T19:05:34.531Z"
   },
   {
    "duration": 12,
    "start_time": "2024-12-26T19:05:41.002Z"
   },
   {
    "duration": 202,
    "start_time": "2024-12-26T19:06:12.269Z"
   },
   {
    "duration": 45,
    "start_time": "2024-12-26T19:06:23.723Z"
   },
   {
    "duration": 5,
    "start_time": "2024-12-26T19:07:24.865Z"
   },
   {
    "duration": 15,
    "start_time": "2024-12-26T20:08:17.478Z"
   },
   {
    "duration": 52,
    "start_time": "2024-12-26T20:08:31.144Z"
   },
   {
    "duration": 116,
    "start_time": "2024-12-26T20:11:11.267Z"
   },
   {
    "duration": 26,
    "start_time": "2024-12-26T20:11:35.084Z"
   },
   {
    "duration": 158,
    "start_time": "2024-12-26T20:11:40.138Z"
   },
   {
    "duration": 35,
    "start_time": "2024-12-26T20:11:40.298Z"
   },
   {
    "duration": 23,
    "start_time": "2024-12-26T20:11:40.335Z"
   },
   {
    "duration": 8,
    "start_time": "2024-12-26T20:11:40.359Z"
   },
   {
    "duration": 40,
    "start_time": "2024-12-26T20:11:40.370Z"
   },
   {
    "duration": 8,
    "start_time": "2024-12-26T20:11:40.413Z"
   },
   {
    "duration": 13,
    "start_time": "2024-12-26T20:11:40.422Z"
   },
   {
    "duration": 15,
    "start_time": "2024-12-26T20:11:40.437Z"
   },
   {
    "duration": 22,
    "start_time": "2024-12-26T20:11:40.453Z"
   },
   {
    "duration": 37,
    "start_time": "2024-12-26T20:11:40.477Z"
   },
   {
    "duration": 24,
    "start_time": "2024-12-26T20:11:40.515Z"
   },
   {
    "duration": 5,
    "start_time": "2024-12-26T20:11:40.541Z"
   },
   {
    "duration": 11,
    "start_time": "2024-12-26T20:11:40.547Z"
   },
   {
    "duration": 8,
    "start_time": "2024-12-26T20:11:40.561Z"
   },
   {
    "duration": 45,
    "start_time": "2024-12-26T20:11:40.571Z"
   },
   {
    "duration": 28,
    "start_time": "2024-12-26T20:11:40.618Z"
   },
   {
    "duration": 15,
    "start_time": "2024-12-26T20:11:40.648Z"
   },
   {
    "duration": 9,
    "start_time": "2024-12-26T20:11:40.665Z"
   },
   {
    "duration": 38,
    "start_time": "2024-12-26T20:11:40.676Z"
   },
   {
    "duration": 103,
    "start_time": "2024-12-26T20:11:40.715Z"
   },
   {
    "duration": 151,
    "start_time": "2024-12-26T20:11:40.820Z"
   },
   {
    "duration": 21,
    "start_time": "2024-12-26T20:11:40.973Z"
   },
   {
    "duration": 26,
    "start_time": "2024-12-26T20:11:40.995Z"
   },
   {
    "duration": 13,
    "start_time": "2024-12-26T20:11:41.023Z"
   },
   {
    "duration": 11,
    "start_time": "2024-12-26T20:11:41.037Z"
   },
   {
    "duration": 18,
    "start_time": "2024-12-26T20:11:41.050Z"
   },
   {
    "duration": 48,
    "start_time": "2024-12-26T20:11:41.070Z"
   },
   {
    "duration": 40,
    "start_time": "2024-12-26T20:11:41.121Z"
   },
   {
    "duration": 16,
    "start_time": "2024-12-26T20:11:41.162Z"
   },
   {
    "duration": 342,
    "start_time": "2024-12-26T20:11:41.180Z"
   },
   {
    "duration": 223,
    "start_time": "2024-12-26T20:11:41.524Z"
   },
   {
    "duration": 6,
    "start_time": "2024-12-26T20:11:41.749Z"
   },
   {
    "duration": 109,
    "start_time": "2024-12-26T20:11:41.757Z"
   },
   {
    "duration": 316,
    "start_time": "2024-12-26T20:11:41.868Z"
   },
   {
    "duration": 2,
    "start_time": "2024-12-26T20:11:42.186Z"
   },
   {
    "duration": 302,
    "start_time": "2024-12-26T20:11:42.190Z"
   },
   {
    "duration": 254,
    "start_time": "2024-12-26T20:11:42.494Z"
   },
   {
    "duration": 44,
    "start_time": "2024-12-26T20:13:04.677Z"
   },
   {
    "duration": 23,
    "start_time": "2024-12-26T20:14:49.086Z"
   },
   {
    "duration": 8,
    "start_time": "2024-12-26T20:15:24.875Z"
   },
   {
    "duration": 536,
    "start_time": "2024-12-27T00:07:07.185Z"
   },
   {
    "duration": 43,
    "start_time": "2024-12-27T00:07:07.723Z"
   },
   {
    "duration": 24,
    "start_time": "2024-12-27T00:07:07.768Z"
   },
   {
    "duration": 7,
    "start_time": "2024-12-27T00:07:07.795Z"
   },
   {
    "duration": 17,
    "start_time": "2024-12-27T00:07:07.825Z"
   },
   {
    "duration": 9,
    "start_time": "2024-12-27T00:07:07.845Z"
   },
   {
    "duration": 13,
    "start_time": "2024-12-27T00:07:07.856Z"
   },
   {
    "duration": 17,
    "start_time": "2024-12-27T00:07:07.870Z"
   },
   {
    "duration": 55,
    "start_time": "2024-12-27T00:07:07.888Z"
   },
   {
    "duration": 9,
    "start_time": "2024-12-27T00:07:07.946Z"
   },
   {
    "duration": 26,
    "start_time": "2024-12-27T00:07:07.956Z"
   },
   {
    "duration": 5,
    "start_time": "2024-12-27T00:07:07.983Z"
   },
   {
    "duration": 39,
    "start_time": "2024-12-27T00:07:07.990Z"
   },
   {
    "duration": 7,
    "start_time": "2024-12-27T00:07:08.031Z"
   },
   {
    "duration": 17,
    "start_time": "2024-12-27T00:07:08.040Z"
   },
   {
    "duration": 28,
    "start_time": "2024-12-27T00:07:08.059Z"
   },
   {
    "duration": 40,
    "start_time": "2024-12-27T00:07:08.088Z"
   },
   {
    "duration": 11,
    "start_time": "2024-12-27T00:07:08.129Z"
   },
   {
    "duration": 11,
    "start_time": "2024-12-27T00:07:08.142Z"
   },
   {
    "duration": 1994,
    "start_time": "2024-12-27T00:07:08.155Z"
   },
   {
    "duration": 95,
    "start_time": "2024-12-27T00:07:10.151Z"
   },
   {
    "duration": 25,
    "start_time": "2024-12-27T00:07:10.250Z"
   },
   {
    "duration": 16,
    "start_time": "2024-12-27T00:07:10.277Z"
   },
   {
    "duration": 31,
    "start_time": "2024-12-27T00:07:10.294Z"
   },
   {
    "duration": 13,
    "start_time": "2024-12-27T00:07:10.326Z"
   },
   {
    "duration": 19,
    "start_time": "2024-12-27T00:07:10.341Z"
   },
   {
    "duration": 13,
    "start_time": "2024-12-27T00:07:10.362Z"
   },
   {
    "duration": 68,
    "start_time": "2024-12-27T00:07:10.379Z"
   },
   {
    "duration": 13,
    "start_time": "2024-12-27T00:07:10.448Z"
   },
   {
    "duration": 363,
    "start_time": "2024-12-27T00:07:10.462Z"
   },
   {
    "duration": 227,
    "start_time": "2024-12-27T00:07:10.827Z"
   },
   {
    "duration": 6,
    "start_time": "2024-12-27T00:07:11.056Z"
   },
   {
    "duration": 498,
    "start_time": "2024-12-27T00:07:11.064Z"
   },
   {
    "duration": 312,
    "start_time": "2024-12-27T00:07:11.564Z"
   },
   {
    "duration": 5,
    "start_time": "2024-12-27T00:07:11.878Z"
   },
   {
    "duration": 293,
    "start_time": "2024-12-27T00:07:11.884Z"
   },
   {
    "duration": 208,
    "start_time": "2024-12-27T00:07:12.180Z"
   },
   {
    "duration": 36,
    "start_time": "2024-12-27T00:07:12.390Z"
   },
   {
    "duration": 8,
    "start_time": "2024-12-27T00:07:12.428Z"
   },
   {
    "duration": 6,
    "start_time": "2024-12-27T00:08:22.260Z"
   },
   {
    "duration": 170,
    "start_time": "2024-12-27T05:19:42.057Z"
   },
   {
    "duration": 536,
    "start_time": "2024-12-27T05:19:47.618Z"
   },
   {
    "duration": 39,
    "start_time": "2024-12-27T05:19:48.156Z"
   },
   {
    "duration": 42,
    "start_time": "2024-12-27T05:19:48.196Z"
   },
   {
    "duration": 7,
    "start_time": "2024-12-27T05:19:48.240Z"
   },
   {
    "duration": 16,
    "start_time": "2024-12-27T05:19:48.248Z"
   },
   {
    "duration": 8,
    "start_time": "2024-12-27T05:19:48.265Z"
   },
   {
    "duration": 13,
    "start_time": "2024-12-27T05:19:48.275Z"
   },
   {
    "duration": 48,
    "start_time": "2024-12-27T05:19:48.290Z"
   },
   {
    "duration": 7,
    "start_time": "2024-12-27T05:19:48.340Z"
   },
   {
    "duration": 37,
    "start_time": "2024-12-27T05:20:04.264Z"
   },
   {
    "duration": 6,
    "start_time": "2024-12-27T05:20:17.093Z"
   },
   {
    "duration": 7,
    "start_time": "2024-12-27T16:03:32.160Z"
   },
   {
    "duration": 14,
    "start_time": "2024-12-27T16:03:57.918Z"
   },
   {
    "duration": 5,
    "start_time": "2024-12-27T16:04:06.117Z"
   },
   {
    "duration": 7,
    "start_time": "2024-12-27T16:04:18.702Z"
   },
   {
    "duration": 8,
    "start_time": "2024-12-27T16:05:46.972Z"
   },
   {
    "duration": 10,
    "start_time": "2024-12-27T16:06:26.495Z"
   },
   {
    "duration": 423,
    "start_time": "2024-12-27T16:11:55.457Z"
   },
   {
    "duration": 488,
    "start_time": "2024-12-27T16:12:14.122Z"
   },
   {
    "duration": 41,
    "start_time": "2024-12-27T16:12:14.612Z"
   },
   {
    "duration": 25,
    "start_time": "2024-12-27T16:12:14.655Z"
   },
   {
    "duration": 7,
    "start_time": "2024-12-27T16:12:14.682Z"
   },
   {
    "duration": 44,
    "start_time": "2024-12-27T16:12:14.690Z"
   },
   {
    "duration": 9,
    "start_time": "2024-12-27T16:12:14.736Z"
   },
   {
    "duration": 13,
    "start_time": "2024-12-27T16:12:14.747Z"
   },
   {
    "duration": 16,
    "start_time": "2024-12-27T16:12:14.762Z"
   },
   {
    "duration": 6,
    "start_time": "2024-12-27T16:12:14.779Z"
   },
   {
    "duration": 55,
    "start_time": "2024-12-27T16:12:14.788Z"
   },
   {
    "duration": 10,
    "start_time": "2024-12-27T16:12:14.844Z"
   },
   {
    "duration": 26,
    "start_time": "2024-12-27T16:12:14.855Z"
   },
   {
    "duration": 5,
    "start_time": "2024-12-27T16:12:14.883Z"
   },
   {
    "duration": 34,
    "start_time": "2024-12-27T16:12:14.891Z"
   },
   {
    "duration": 8,
    "start_time": "2024-12-27T16:12:14.927Z"
   },
   {
    "duration": 11,
    "start_time": "2024-12-27T16:12:14.936Z"
   },
   {
    "duration": 8,
    "start_time": "2024-12-27T16:12:14.949Z"
   },
   {
    "duration": 18,
    "start_time": "2024-12-27T16:12:14.958Z"
   },
   {
    "duration": 59,
    "start_time": "2024-12-27T16:12:14.977Z"
   },
   {
    "duration": 14,
    "start_time": "2024-12-27T16:12:15.038Z"
   },
   {
    "duration": 9,
    "start_time": "2024-12-27T16:12:15.054Z"
   },
   {
    "duration": 13,
    "start_time": "2024-12-27T16:12:15.065Z"
   },
   {
    "duration": 2103,
    "start_time": "2024-12-27T16:12:15.079Z"
   },
   {
    "duration": 10,
    "start_time": "2024-12-27T16:12:17.184Z"
   },
   {
    "duration": 121,
    "start_time": "2024-12-27T16:12:17.195Z"
   },
   {
    "duration": 32,
    "start_time": "2024-12-27T16:12:17.318Z"
   },
   {
    "duration": 16,
    "start_time": "2024-12-27T16:12:17.352Z"
   },
   {
    "duration": 13,
    "start_time": "2024-12-27T16:12:17.372Z"
   },
   {
    "duration": 37,
    "start_time": "2024-12-27T16:12:17.387Z"
   },
   {
    "duration": 20,
    "start_time": "2024-12-27T16:12:17.427Z"
   },
   {
    "duration": 15,
    "start_time": "2024-12-27T16:12:17.449Z"
   },
   {
    "duration": 67,
    "start_time": "2024-12-27T16:12:17.465Z"
   },
   {
    "duration": 21,
    "start_time": "2024-12-27T16:12:17.536Z"
   },
   {
    "duration": 368,
    "start_time": "2024-12-27T16:12:17.560Z"
   },
   {
    "duration": 231,
    "start_time": "2024-12-27T16:12:17.930Z"
   },
   {
    "duration": 5,
    "start_time": "2024-12-27T16:12:18.163Z"
   },
   {
    "duration": 517,
    "start_time": "2024-12-27T16:12:18.170Z"
   },
   {
    "duration": 325,
    "start_time": "2024-12-27T16:12:18.688Z"
   },
   {
    "duration": 4,
    "start_time": "2024-12-27T16:12:19.015Z"
   },
   {
    "duration": 297,
    "start_time": "2024-12-27T16:12:19.021Z"
   },
   {
    "duration": 244,
    "start_time": "2024-12-27T16:12:19.324Z"
   },
   {
    "duration": 6,
    "start_time": "2024-12-27T16:12:19.569Z"
   },
   {
    "duration": 9,
    "start_time": "2024-12-27T16:12:19.578Z"
   },
   {
    "duration": 5,
    "start_time": "2024-12-27T16:12:52.623Z"
   },
   {
    "duration": 5,
    "start_time": "2024-12-27T16:13:11.257Z"
   },
   {
    "duration": 5,
    "start_time": "2024-12-27T16:13:25.160Z"
   },
   {
    "duration": 4,
    "start_time": "2024-12-27T16:13:39.784Z"
   },
   {
    "duration": 5,
    "start_time": "2024-12-27T16:14:12.004Z"
   },
   {
    "duration": 12,
    "start_time": "2024-12-27T16:14:30.123Z"
   },
   {
    "duration": 8,
    "start_time": "2024-12-27T16:15:08.865Z"
   },
   {
    "duration": 532,
    "start_time": "2024-12-30T22:28:51.723Z"
   },
   {
    "duration": 118,
    "start_time": "2024-12-30T22:28:52.257Z"
   },
   {
    "duration": 25,
    "start_time": "2024-12-30T22:28:52.377Z"
   },
   {
    "duration": 7,
    "start_time": "2024-12-30T22:28:52.403Z"
   },
   {
    "duration": 16,
    "start_time": "2024-12-30T22:28:52.433Z"
   },
   {
    "duration": 9,
    "start_time": "2024-12-30T22:28:52.450Z"
   },
   {
    "duration": 15,
    "start_time": "2024-12-30T22:28:52.460Z"
   },
   {
    "duration": 17,
    "start_time": "2024-12-30T22:28:52.476Z"
   },
   {
    "duration": 41,
    "start_time": "2024-12-30T22:28:52.495Z"
   },
   {
    "duration": 22,
    "start_time": "2024-12-30T22:28:52.538Z"
   },
   {
    "duration": 10,
    "start_time": "2024-12-30T22:28:52.561Z"
   },
   {
    "duration": 60,
    "start_time": "2024-12-30T22:28:52.573Z"
   },
   {
    "duration": 4,
    "start_time": "2024-12-30T22:28:52.635Z"
   },
   {
    "duration": 3,
    "start_time": "2024-12-30T22:28:52.644Z"
   },
   {
    "duration": 6,
    "start_time": "2024-12-30T22:28:52.649Z"
   },
   {
    "duration": 11,
    "start_time": "2024-12-30T22:28:52.657Z"
   },
   {
    "duration": 9,
    "start_time": "2024-12-30T22:28:52.669Z"
   },
   {
    "duration": 56,
    "start_time": "2024-12-30T22:28:52.680Z"
   },
   {
    "duration": 30,
    "start_time": "2024-12-30T22:28:52.738Z"
   },
   {
    "duration": 14,
    "start_time": "2024-12-30T22:28:52.770Z"
   },
   {
    "duration": 9,
    "start_time": "2024-12-30T22:28:52.786Z"
   },
   {
    "duration": 41,
    "start_time": "2024-12-30T22:28:52.796Z"
   },
   {
    "duration": 2034,
    "start_time": "2024-12-30T22:28:52.839Z"
   },
   {
    "duration": 9,
    "start_time": "2024-12-30T22:28:54.875Z"
   },
   {
    "duration": 107,
    "start_time": "2024-12-30T22:28:54.886Z"
   },
   {
    "duration": 37,
    "start_time": "2024-12-30T22:28:54.995Z"
   },
   {
    "duration": 16,
    "start_time": "2024-12-30T22:28:55.034Z"
   },
   {
    "duration": 16,
    "start_time": "2024-12-30T22:28:55.052Z"
   },
   {
    "duration": 16,
    "start_time": "2024-12-30T22:28:55.069Z"
   },
   {
    "duration": 49,
    "start_time": "2024-12-30T22:28:55.088Z"
   },
   {
    "duration": 14,
    "start_time": "2024-12-30T22:28:55.139Z"
   },
   {
    "duration": 40,
    "start_time": "2024-12-30T22:28:55.155Z"
   },
   {
    "duration": 13,
    "start_time": "2024-12-30T22:28:55.197Z"
   },
   {
    "duration": 326,
    "start_time": "2024-12-30T22:28:55.232Z"
   },
   {
    "duration": 224,
    "start_time": "2024-12-30T22:28:55.560Z"
   },
   {
    "duration": 7,
    "start_time": "2024-12-30T22:28:55.786Z"
   },
   {
    "duration": 515,
    "start_time": "2024-12-30T22:28:55.795Z"
   },
   {
    "duration": 348,
    "start_time": "2024-12-30T22:28:56.312Z"
   },
   {
    "duration": 2,
    "start_time": "2024-12-30T22:28:56.662Z"
   },
   {
    "duration": 276,
    "start_time": "2024-12-30T22:28:56.666Z"
   },
   {
    "duration": 222,
    "start_time": "2024-12-30T22:28:56.946Z"
   },
   {
    "duration": 12,
    "start_time": "2024-12-30T22:28:57.170Z"
   },
   {
    "duration": 246,
    "start_time": "2024-12-30T22:28:57.185Z"
   },
   {
    "duration": 0,
    "start_time": "2024-12-30T22:28:57.433Z"
   },
   {
    "duration": 23,
    "start_time": "2024-12-30T22:29:49.323Z"
   },
   {
    "duration": 126,
    "start_time": "2024-12-30T22:30:16.443Z"
   },
   {
    "duration": 61,
    "start_time": "2024-12-30T22:30:31.314Z"
   },
   {
    "duration": 229,
    "start_time": "2024-12-30T22:30:58.107Z"
   },
   {
    "duration": 387,
    "start_time": "2024-12-30T22:31:20.028Z"
   },
   {
    "duration": 66,
    "start_time": "2024-12-30T22:32:18.622Z"
   },
   {
    "duration": 8,
    "start_time": "2024-12-30T22:51:01.355Z"
   }
  ],
  "kernelspec": {
   "display_name": "Python 3 (ipykernel)",
   "language": "python",
   "name": "python3"
  },
  "language_info": {
   "codemirror_mode": {
    "name": "ipython",
    "version": 3
   },
   "file_extension": ".py",
   "mimetype": "text/x-python",
   "name": "python",
   "nbconvert_exporter": "python",
   "pygments_lexer": "ipython3",
   "version": "3.9.19"
  },
  "toc": {
   "base_numbering": 1,
   "nav_menu": {},
   "number_sections": true,
   "sideBar": true,
   "skip_h1_title": false,
   "title_cell": "Table of Contents",
   "title_sidebar": "Contents",
   "toc_cell": false,
   "toc_position": {},
   "toc_section_display": true,
   "toc_window_display": true
  }
 },
 "nbformat": 4,
 "nbformat_minor": 2
}
